{
  "nbformat": 4,
  "nbformat_minor": 0,
  "metadata": {
    "colab": {
      "name": "DAOTW Assignment 2",
      "provenance": [],
      "collapsed_sections": [],
      "toc_visible": true,
      "authorship_tag": "ABX9TyNWhmGpuwX1KZeuImqjXB3k",
      "include_colab_link": true
    },
    "kernelspec": {
      "name": "python3",
      "display_name": "Python 3"
    }
  },
  "cells": [
    {
      "cell_type": "markdown",
      "metadata": {
        "id": "view-in-github",
        "colab_type": "text"
      },
      "source": [
        "<a href=\"https://colab.research.google.com/github/15007919uhi/15007919_DataAnalytics/blob/master/DAOTW_Assignment_2.ipynb\" target=\"_parent\"><img src=\"https://colab.research.google.com/assets/colab-badge.svg\" alt=\"Open In Colab\"/></a>"
      ]
    },
    {
      "cell_type": "markdown",
      "metadata": {
        "id": "Vjb-pcpWyOPW"
      },
      "source": [
        "# Introduction"
      ]
    },
    {
      "cell_type": "markdown",
      "metadata": {
        "id": "eSdNZRN1WOdA"
      },
      "source": [
        "Following the analysis and cleansing of a dataset on weather conditions and traffic collisions in New York City, this document applies linear regression and deep neural networking models to the exported data to make predictions as to how these two factors might interact on a given day. Previous analysis discovered a positive correlation between temperature or dew point and traffic collisions, although yearly fluctuations occurred due to external factors such as restrictions on road traffic and the impact of COVID-19, with lockdowns limiting travel. As such, the data was split into four different groupings based on similar patterns to account for four potential scenarios the city could face in the future. "
      ]
    },
    {
      "cell_type": "markdown",
      "metadata": {
        "id": "Rrd39uTiyQec"
      },
      "source": [
        "# Methodology"
      ]
    },
    {
      "cell_type": "markdown",
      "metadata": {
        "id": "Em5GqZDoYoXd"
      },
      "source": [
        "The initial dataset was created through Google's BigQuery platform, utilising databases of both global weather and traffic incidents in New York City. Following this, manual cleansing of data was carried out to remove high values and initial data science was conducted in Colab using the R programming language. \n",
        "\n",
        "As data collection for traffic incidents began in the middle of 2012, this year was discarded for being incomplete. The years from 2012-15 were grouped together as they showed similar patterns, with 2016-18 also being collated due to showing their own separate pattern, potentially caused by new developments or restrictions in the city. 2019 showed unique data, due to the city implementing limitations on traffic in certain areas which resulted in a decline in collisions unrelated to weather conditions. 2020's data is incomplete, but data after the city locked down in March was useful in showing a conclusive correlation between temperature/dew point and collisions, as the smaller scale of data showed less outliers.\n",
        "\n",
        "Eight total datasets were created, four simple sets to use with linear regression models, and four with one-hot encoding for month and day values for greater compatibility with a deep neural network model. This document uses Python and the Tensorflow library to train and test the data; calculating the RMSE (root-mean-square deviation) of the model based on the training data used, and testing it with example values for months, days, temperature and dew point to predict the number of collisions under those conditions."
      ]
    },
    {
      "cell_type": "markdown",
      "metadata": {
        "id": "9asNFKJJyRwa"
      },
      "source": [
        "# Findings"
      ]
    },
    {
      "cell_type": "markdown",
      "metadata": {
        "id": "r6YAuuanw0-G"
      },
      "source": [
        "## Linear Regression"
      ]
    },
    {
      "cell_type": "markdown",
      "metadata": {
        "id": "7OVwDYZJNwI1"
      },
      "source": [
        "This section details the results of applying linear regression to the gathered data, examining the four different datasets created and the variations in the relationship between collisions and weather conditions shown. The main predictors selected for the following models are day, month and temperature, as these factors have been demonstrated to have the greatest impact on collision totals."
      ]
    },
    {
      "cell_type": "markdown",
      "metadata": {
        "id": "kbOa6IlHwtyo"
      },
      "source": [
        "### 2013-15"
      ]
    },
    {
      "cell_type": "code",
      "metadata": {
        "id": "p5O2yA3WyHeJ"
      },
      "source": [
        "# needed to create the data frame\n",
        "import pandas as pd\n",
        "\n",
        "# create the dataframe from 2013-15 csv file\n",
        "df = pd.read_csv('https://raw.githubusercontent.com/15007919uhi/15007919_DataAnalytics/master/lineardata1315.csv', index_col=0, )"
      ],
      "execution_count": null,
      "outputs": []
    },
    {
      "cell_type": "code",
      "metadata": {
        "colab": {
          "base_uri": "https://localhost:8080/"
        },
        "id": "LJIkVFxuzUJG",
        "outputId": "5cd28c6c-63c3-4516-ed7b-39031d894c2d"
      },
      "source": [
        "# check the data is correct\n",
        "print(df[:6])\n",
        "# print(df) #all"
      ],
      "execution_count": null,
      "outputs": [
        {
          "output_type": "stream",
          "text": [
            "     day  mo  temp  dewp   max   min  NUM_COLLISIONS\n",
            "185    2   1  38.0  25.6  41.0  33.1        0.000000\n",
            "186    3   1  27.5  12.1  33.1  21.9        0.336735\n",
            "187    4   1  21.8   7.8  28.9  16.0        0.571429\n",
            "188    5   1  32.2  21.1  41.0  24.1        0.421769\n",
            "189    6   1  37.3  24.5  42.1  30.9        0.027211\n",
            "190    7   1  35.7  31.3  44.1  23.0        0.040816\n"
          ],
          "name": "stdout"
        }
      ]
    },
    {
      "cell_type": "code",
      "metadata": {
        "colab": {
          "base_uri": "https://localhost:8080/"
        },
        "id": "kZ46f8bizgt6",
        "outputId": "7564de65-92be-4428-aa1b-01b0b7c40c78"
      },
      "source": [
        "# needed for calculations\n",
        "import numpy as np\n",
        "\n",
        "# shuffle rows at random\n",
        "shuffle = df.iloc[np.random.permutation(len(df))]\n",
        "\n",
        "# specify the column to select all rows from\n",
        "predictors = shuffle.iloc[:,0:3]\n",
        "\n",
        "# print the first 6 rows of the predictors\n",
        "print(predictors[:6])"
      ],
      "execution_count": null,
      "outputs": [
        {
          "output_type": "stream",
          "text": [
            "      day  mo  temp\n",
            "1000    5   3  42.4\n",
            "256     3   3  46.3\n",
            "885     2  12  42.5\n",
            "483     6  10  49.0\n",
            "803     4   9  64.4\n",
            "689     2   5  56.4\n"
          ],
          "name": "stdout"
        }
      ]
    },
    {
      "cell_type": "code",
      "metadata": {
        "colab": {
          "base_uri": "https://localhost:8080/",
          "height": 204
        },
        "id": "g3VwL6VNz2Yp",
        "outputId": "3a78defd-a214-4ba9-c00e-a3704c9dcd5f"
      },
      "source": [
        "# print the first five rows of the shuffled data\n",
        "shuffle[:5]"
      ],
      "execution_count": null,
      "outputs": [
        {
          "output_type": "execute_result",
          "data": {
            "text/html": [
              "<div>\n",
              "<style scoped>\n",
              "    .dataframe tbody tr th:only-of-type {\n",
              "        vertical-align: middle;\n",
              "    }\n",
              "\n",
              "    .dataframe tbody tr th {\n",
              "        vertical-align: top;\n",
              "    }\n",
              "\n",
              "    .dataframe thead th {\n",
              "        text-align: right;\n",
              "    }\n",
              "</style>\n",
              "<table border=\"1\" class=\"dataframe\">\n",
              "  <thead>\n",
              "    <tr style=\"text-align: right;\">\n",
              "      <th></th>\n",
              "      <th>day</th>\n",
              "      <th>mo</th>\n",
              "      <th>temp</th>\n",
              "      <th>dewp</th>\n",
              "      <th>max</th>\n",
              "      <th>min</th>\n",
              "      <th>NUM_COLLISIONS</th>\n",
              "    </tr>\n",
              "  </thead>\n",
              "  <tbody>\n",
              "    <tr>\n",
              "      <th>1000</th>\n",
              "      <td>5</td>\n",
              "      <td>3</td>\n",
              "      <td>42.4</td>\n",
              "      <td>40.0</td>\n",
              "      <td>48.9</td>\n",
              "      <td>37.9</td>\n",
              "      <td>0.411444</td>\n",
              "    </tr>\n",
              "    <tr>\n",
              "      <th>256</th>\n",
              "      <td>3</td>\n",
              "      <td>3</td>\n",
              "      <td>46.3</td>\n",
              "      <td>41.1</td>\n",
              "      <td>50.0</td>\n",
              "      <td>41.0</td>\n",
              "      <td>0.867347</td>\n",
              "    </tr>\n",
              "    <tr>\n",
              "      <th>885</th>\n",
              "      <td>2</td>\n",
              "      <td>12</td>\n",
              "      <td>42.5</td>\n",
              "      <td>32.4</td>\n",
              "      <td>57.0</td>\n",
              "      <td>39.0</td>\n",
              "      <td>0.785235</td>\n",
              "    </tr>\n",
              "    <tr>\n",
              "      <th>483</th>\n",
              "      <td>6</td>\n",
              "      <td>10</td>\n",
              "      <td>49.0</td>\n",
              "      <td>32.9</td>\n",
              "      <td>57.9</td>\n",
              "      <td>32.0</td>\n",
              "      <td>0.833333</td>\n",
              "    </tr>\n",
              "    <tr>\n",
              "      <th>803</th>\n",
              "      <td>4</td>\n",
              "      <td>9</td>\n",
              "      <td>64.4</td>\n",
              "      <td>60.3</td>\n",
              "      <td>73.0</td>\n",
              "      <td>54.0</td>\n",
              "      <td>0.812081</td>\n",
              "    </tr>\n",
              "  </tbody>\n",
              "</table>\n",
              "</div>"
            ],
            "text/plain": [
              "      day  mo  temp  dewp   max   min  NUM_COLLISIONS\n",
              "1000    5   3  42.4  40.0  48.9  37.9        0.411444\n",
              "256     3   3  46.3  41.1  50.0  41.0        0.867347\n",
              "885     2  12  42.5  32.4  57.0  39.0        0.785235\n",
              "483     6  10  49.0  32.9  57.9  32.0        0.833333\n",
              "803     4   9  64.4  60.3  73.0  54.0        0.812081"
            ]
          },
          "metadata": {
            "tags": []
          },
          "execution_count": 21
        }
      ]
    },
    {
      "cell_type": "code",
      "metadata": {
        "colab": {
          "base_uri": "https://localhost:8080/"
        },
        "id": "bdgUhdC10r5p",
        "outputId": "209fa58f-8004-442e-cdb3-b5d39aac1494"
      },
      "source": [
        "# select all rows of the specified column\n",
        "targets = shuffle.iloc[:,-1]\n",
        "\n",
        "# print the first 6 rows of the targets\n",
        "print(targets[:6])"
      ],
      "execution_count": null,
      "outputs": [
        {
          "output_type": "stream",
          "text": [
            "1000    0.411444\n",
            "256     0.867347\n",
            "885     0.785235\n",
            "483     0.833333\n",
            "803     0.812081\n",
            "689     0.916107\n",
            "Name: NUM_COLLISIONS, dtype: float64\n"
          ],
          "name": "stdout"
        }
      ]
    },
    {
      "cell_type": "code",
      "metadata": {
        "id": "HnCLvexd0-Bw"
      },
      "source": [
        "# scale the data\n",
        "SCALE_NUM_COLLISIONS = 1.0"
      ],
      "execution_count": null,
      "outputs": []
    },
    {
      "cell_type": "code",
      "metadata": {
        "id": "_or2P4WF1CZA"
      },
      "source": [
        "# split data into a training set that is 80% of the full shuffled array\n",
        "trainsize = int(len(shuffle['NUM_COLLISIONS'])*0.8)\n",
        "# subtract training set size from test set to leave 20% of the array\n",
        "testsize = len(shuffle['NUM_COLLISIONS']) - trainsize\n",
        "\n",
        "# set number of input values/predictors\n",
        "nppredictors = 3\n",
        "# set number of output values/targets\n",
        "noutputs = 1"
      ],
      "execution_count": null,
      "outputs": []
    },
    {
      "cell_type": "code",
      "metadata": {
        "colab": {
          "base_uri": "https://localhost:8080/"
        },
        "id": "8otr_L-K1LkQ",
        "outputId": "9d3bb105-78a7-41b0-8859-26291d62327f"
      },
      "source": [
        "# import tensorflow\n",
        "%tensorflow_version 1.x\n",
        "import tensorflow as tf\n",
        "\n",
        "# check the version\n",
        "print(tf.__version__)\n",
        "\n",
        "import shutil  \n",
        "\n",
        "# logging for tensorflow\n",
        "tf.compat.v1.logging.set_verbosity(tf.compat.v1.logging.INFO)\n",
        "\n",
        "# remove saved model from previous training attempts\n",
        "shutil.rmtree('/tmp/linear_regression_trained_model', ignore_errors=True)\n",
        "\n",
        "estimator = tf.contrib.learn.SKCompat(tf.contrib.learn.LinearRegressor(model_dir='/tmp/linear_regression_trained_model', optimizer=tf.train.AdamOptimizer(learning_rate=0.1), enable_centered_bias=False, feature_columns=tf.contrib.learn.infer_real_valued_columns_from_input(predictors.values)))\n",
        "\n",
        "# show model is beginning to train\n",
        "print(\"starting to train\");\n",
        "\n",
        "# use predictors and target values to train the model\n",
        "estimator.fit(predictors[:trainsize].values, targets[:trainsize].values.reshape(trainsize, noutputs)/SCALE_NUM_COLLISIONS, steps=10000)\n",
        "\n",
        "# check predictors\n",
        "preds = estimator.predict(x=predictors[trainsize:].values)\n",
        "\n",
        "# apply the same scale to the output\n",
        "predslistscale = preds['scores']*SCALE_NUM_COLLISIONS\n",
        "\n",
        "# pred = format(str(predslistscale)) # useful for checking outputs and printing.\n",
        "\n",
        "# calculate RMSE\n",
        "rmse = np.sqrt(np.mean((targets[trainsize:].values - predslistscale)**2))\n",
        "print('LinearRegression has RMSE of {0}'.format(rmse));\n",
        "\n",
        "# calculate mean number of collisions\n",
        "avg = np.mean(shuffle['NUM_COLLISIONS'][:trainsize])\n",
        "\n",
        "# calculate RMSE using the number of collisions and mean of all other values\n",
        "rmse = np.sqrt(np.mean((shuffle['NUM_COLLISIONS'][trainsize:] - avg)**2))\n",
        "print('Just using average = {0} has RMSE of {1}'.format(avg, rmse));\n"
      ],
      "execution_count": null,
      "outputs": [
        {
          "output_type": "stream",
          "text": [
            "1.15.2\n",
            "WARNING:tensorflow:float64 is not supported by many models, consider casting to float32.\n",
            "INFO:tensorflow:Using default config.\n",
            "INFO:tensorflow:Using config: {'_task_type': None, '_task_id': 0, '_cluster_spec': <tensorflow.python.training.server_lib.ClusterSpec object at 0x7f9da57ca9b0>, '_master': '', '_num_ps_replicas': 0, '_num_worker_replicas': 0, '_environment': 'local', '_is_chief': True, '_evaluation_master': '', '_train_distribute': None, '_eval_distribute': None, '_experimental_max_worker_delay_secs': None, '_device_fn': None, '_tf_config': gpu_options {\n",
            "  per_process_gpu_memory_fraction: 1.0\n",
            "}\n",
            ", '_tf_random_seed': None, '_save_summary_steps': 100, '_save_checkpoints_secs': 600, '_log_step_count_steps': 100, '_protocol': None, '_session_config': None, '_save_checkpoints_steps': None, '_keep_checkpoint_max': 5, '_keep_checkpoint_every_n_hours': 10000, '_model_dir': '/tmp/linear_regression_trained_model', '_session_creation_timeout_secs': 7200}\n",
            "starting to train\n",
            "WARNING:tensorflow:float64 is not supported by many models, consider casting to float32.\n",
            "WARNING:tensorflow:float64 is not supported by many models, consider casting to float32.\n",
            "INFO:tensorflow:Create CheckpointSaverHook.\n",
            "INFO:tensorflow:Graph was finalized.\n",
            "INFO:tensorflow:Running local_init_op.\n",
            "INFO:tensorflow:Done running local_init_op.\n",
            "INFO:tensorflow:Saving checkpoints for 0 into /tmp/linear_regression_trained_model/model.ckpt.\n",
            "INFO:tensorflow:loss = 0.37913936, step = 1\n",
            "INFO:tensorflow:global_step/sec: 812.511\n",
            "INFO:tensorflow:loss = 0.054392107, step = 101 (0.127 sec)\n",
            "INFO:tensorflow:global_step/sec: 1022.33\n",
            "INFO:tensorflow:loss = 0.03985318, step = 201 (0.098 sec)\n",
            "INFO:tensorflow:global_step/sec: 874.575\n",
            "INFO:tensorflow:loss = 0.025345849, step = 301 (0.113 sec)\n",
            "INFO:tensorflow:global_step/sec: 938.735\n",
            "INFO:tensorflow:loss = 0.053059142, step = 401 (0.106 sec)\n",
            "INFO:tensorflow:global_step/sec: 845.728\n",
            "INFO:tensorflow:loss = 0.04755114, step = 501 (0.120 sec)\n",
            "INFO:tensorflow:global_step/sec: 909.38\n",
            "INFO:tensorflow:loss = 0.04352578, step = 601 (0.109 sec)\n",
            "INFO:tensorflow:global_step/sec: 847.949\n",
            "INFO:tensorflow:loss = 0.04732091, step = 701 (0.118 sec)\n",
            "INFO:tensorflow:global_step/sec: 933.476\n",
            "INFO:tensorflow:loss = 0.051731624, step = 801 (0.112 sec)\n",
            "INFO:tensorflow:global_step/sec: 828.22\n",
            "INFO:tensorflow:loss = 0.044217862, step = 901 (0.116 sec)\n",
            "INFO:tensorflow:global_step/sec: 929.187\n",
            "INFO:tensorflow:loss = 0.040823273, step = 1001 (0.108 sec)\n",
            "INFO:tensorflow:global_step/sec: 855.865\n",
            "INFO:tensorflow:loss = 0.06391503, step = 1101 (0.117 sec)\n",
            "INFO:tensorflow:global_step/sec: 806.085\n",
            "INFO:tensorflow:loss = 0.04705026, step = 1201 (0.127 sec)\n",
            "INFO:tensorflow:global_step/sec: 827.204\n",
            "INFO:tensorflow:loss = 0.04561858, step = 1301 (0.119 sec)\n",
            "INFO:tensorflow:global_step/sec: 911.514\n",
            "INFO:tensorflow:loss = 0.069828, step = 1401 (0.109 sec)\n",
            "INFO:tensorflow:global_step/sec: 839.46\n",
            "INFO:tensorflow:loss = 0.07201282, step = 1501 (0.118 sec)\n",
            "INFO:tensorflow:global_step/sec: 798.383\n",
            "INFO:tensorflow:loss = 0.09057158, step = 1601 (0.126 sec)\n",
            "INFO:tensorflow:global_step/sec: 915.309\n",
            "INFO:tensorflow:loss = 0.05461474, step = 1701 (0.112 sec)\n",
            "INFO:tensorflow:global_step/sec: 889.955\n",
            "INFO:tensorflow:loss = 0.055037662, step = 1801 (0.112 sec)\n",
            "INFO:tensorflow:global_step/sec: 895.522\n",
            "INFO:tensorflow:loss = 0.051261622, step = 1901 (0.109 sec)\n",
            "INFO:tensorflow:global_step/sec: 902.16\n",
            "INFO:tensorflow:loss = 0.09920754, step = 2001 (0.113 sec)\n",
            "INFO:tensorflow:global_step/sec: 898.665\n",
            "INFO:tensorflow:loss = 0.05247858, step = 2101 (0.111 sec)\n",
            "INFO:tensorflow:global_step/sec: 878.987\n",
            "INFO:tensorflow:loss = 0.1116084, step = 2201 (0.112 sec)\n",
            "INFO:tensorflow:global_step/sec: 941.17\n",
            "INFO:tensorflow:loss = 0.04987327, step = 2301 (0.109 sec)\n",
            "INFO:tensorflow:global_step/sec: 936.03\n",
            "INFO:tensorflow:loss = 0.035278443, step = 2401 (0.107 sec)\n",
            "INFO:tensorflow:global_step/sec: 932.905\n",
            "INFO:tensorflow:loss = 0.041730814, step = 2501 (0.104 sec)\n",
            "INFO:tensorflow:global_step/sec: 954.136\n",
            "INFO:tensorflow:loss = 0.10699233, step = 2601 (0.105 sec)\n",
            "INFO:tensorflow:global_step/sec: 970.567\n",
            "INFO:tensorflow:loss = 0.15270078, step = 2701 (0.103 sec)\n",
            "INFO:tensorflow:global_step/sec: 987.708\n",
            "INFO:tensorflow:loss = 0.14017996, step = 2801 (0.101 sec)\n",
            "INFO:tensorflow:global_step/sec: 870.31\n",
            "INFO:tensorflow:loss = 0.14007586, step = 2901 (0.115 sec)\n",
            "INFO:tensorflow:global_step/sec: 953.986\n",
            "INFO:tensorflow:loss = 0.053329192, step = 3001 (0.105 sec)\n",
            "INFO:tensorflow:global_step/sec: 877.879\n",
            "INFO:tensorflow:loss = 0.06772588, step = 3101 (0.114 sec)\n",
            "INFO:tensorflow:global_step/sec: 922.137\n",
            "INFO:tensorflow:loss = 0.04866135, step = 3201 (0.113 sec)\n",
            "INFO:tensorflow:global_step/sec: 909.224\n",
            "INFO:tensorflow:loss = 0.06325047, step = 3301 (0.107 sec)\n",
            "INFO:tensorflow:global_step/sec: 885.942\n",
            "INFO:tensorflow:loss = 0.09423578, step = 3401 (0.112 sec)\n",
            "INFO:tensorflow:global_step/sec: 923.62\n",
            "INFO:tensorflow:loss = 0.046735495, step = 3501 (0.107 sec)\n",
            "INFO:tensorflow:global_step/sec: 965.96\n",
            "INFO:tensorflow:loss = 0.045833636, step = 3601 (0.106 sec)\n",
            "INFO:tensorflow:global_step/sec: 968.823\n",
            "INFO:tensorflow:loss = 0.08760015, step = 3701 (0.101 sec)\n",
            "INFO:tensorflow:global_step/sec: 847.375\n",
            "INFO:tensorflow:loss = 0.087644435, step = 3801 (0.119 sec)\n",
            "INFO:tensorflow:global_step/sec: 958.426\n",
            "INFO:tensorflow:loss = 0.11368719, step = 3901 (0.103 sec)\n",
            "INFO:tensorflow:global_step/sec: 893.129\n",
            "INFO:tensorflow:loss = 0.058783058, step = 4001 (0.112 sec)\n",
            "INFO:tensorflow:global_step/sec: 981.427\n",
            "INFO:tensorflow:loss = 0.077720806, step = 4101 (0.104 sec)\n",
            "INFO:tensorflow:global_step/sec: 981.585\n",
            "INFO:tensorflow:loss = 0.044818714, step = 4201 (0.105 sec)\n",
            "INFO:tensorflow:global_step/sec: 943.407\n",
            "INFO:tensorflow:loss = 0.044121172, step = 4301 (0.102 sec)\n",
            "INFO:tensorflow:global_step/sec: 926.046\n",
            "INFO:tensorflow:loss = 0.123281464, step = 4401 (0.107 sec)\n",
            "INFO:tensorflow:global_step/sec: 949.316\n",
            "INFO:tensorflow:loss = 0.09700603, step = 4501 (0.108 sec)\n",
            "INFO:tensorflow:global_step/sec: 919.31\n",
            "INFO:tensorflow:loss = 0.048963122, step = 4601 (0.106 sec)\n",
            "INFO:tensorflow:global_step/sec: 1009.88\n",
            "INFO:tensorflow:loss = 0.03663066, step = 4701 (0.100 sec)\n",
            "INFO:tensorflow:global_step/sec: 953.695\n",
            "INFO:tensorflow:loss = 0.07304619, step = 4801 (0.103 sec)\n",
            "INFO:tensorflow:global_step/sec: 989.447\n",
            "INFO:tensorflow:loss = 0.19597131, step = 4901 (0.101 sec)\n",
            "INFO:tensorflow:global_step/sec: 911.825\n",
            "INFO:tensorflow:loss = 0.062573716, step = 5001 (0.110 sec)\n",
            "INFO:tensorflow:global_step/sec: 1003.3\n",
            "INFO:tensorflow:loss = 0.15770155, step = 5101 (0.100 sec)\n",
            "INFO:tensorflow:global_step/sec: 985.562\n",
            "INFO:tensorflow:loss = 0.03732594, step = 5201 (0.103 sec)\n",
            "INFO:tensorflow:global_step/sec: 884.661\n",
            "INFO:tensorflow:loss = 0.045740724, step = 5301 (0.111 sec)\n",
            "INFO:tensorflow:global_step/sec: 976.003\n",
            "INFO:tensorflow:loss = 0.050739445, step = 5401 (0.106 sec)\n",
            "INFO:tensorflow:global_step/sec: 972.243\n",
            "INFO:tensorflow:loss = 0.058564693, step = 5501 (0.101 sec)\n",
            "INFO:tensorflow:global_step/sec: 967.426\n",
            "INFO:tensorflow:loss = 0.047788598, step = 5601 (0.105 sec)\n",
            "INFO:tensorflow:global_step/sec: 879.322\n",
            "INFO:tensorflow:loss = 0.044870377, step = 5701 (0.110 sec)\n",
            "INFO:tensorflow:global_step/sec: 991.498\n",
            "INFO:tensorflow:loss = 0.048848365, step = 5801 (0.103 sec)\n",
            "INFO:tensorflow:global_step/sec: 959.253\n",
            "INFO:tensorflow:loss = 0.04438148, step = 5901 (0.103 sec)\n",
            "INFO:tensorflow:global_step/sec: 964.536\n",
            "INFO:tensorflow:loss = 0.2678969, step = 6001 (0.105 sec)\n",
            "INFO:tensorflow:global_step/sec: 974.683\n",
            "INFO:tensorflow:loss = 0.1825746, step = 6101 (0.103 sec)\n",
            "INFO:tensorflow:global_step/sec: 944.527\n",
            "INFO:tensorflow:loss = 0.058397666, step = 6201 (0.104 sec)\n",
            "INFO:tensorflow:global_step/sec: 993.301\n",
            "INFO:tensorflow:loss = 0.08077651, step = 6301 (0.101 sec)\n",
            "INFO:tensorflow:global_step/sec: 951.264\n",
            "INFO:tensorflow:loss = 0.0616235, step = 6401 (0.106 sec)\n",
            "INFO:tensorflow:global_step/sec: 968.272\n",
            "INFO:tensorflow:loss = 0.05411098, step = 6501 (0.102 sec)\n",
            "INFO:tensorflow:global_step/sec: 954.9\n",
            "INFO:tensorflow:loss = 0.02999465, step = 6601 (0.106 sec)\n",
            "INFO:tensorflow:global_step/sec: 897.36\n",
            "INFO:tensorflow:loss = 0.042701088, step = 6701 (0.110 sec)\n",
            "INFO:tensorflow:global_step/sec: 1019.97\n",
            "INFO:tensorflow:loss = 0.03483922, step = 6801 (0.099 sec)\n",
            "INFO:tensorflow:global_step/sec: 938.218\n",
            "INFO:tensorflow:loss = 0.054745138, step = 6901 (0.110 sec)\n",
            "INFO:tensorflow:global_step/sec: 896.188\n",
            "INFO:tensorflow:loss = 0.12851499, step = 7001 (0.107 sec)\n",
            "INFO:tensorflow:global_step/sec: 928.184\n",
            "INFO:tensorflow:loss = 0.05539757, step = 7101 (0.107 sec)\n",
            "INFO:tensorflow:global_step/sec: 968.811\n",
            "INFO:tensorflow:loss = 0.24851376, step = 7201 (0.104 sec)\n",
            "INFO:tensorflow:global_step/sec: 934.262\n",
            "INFO:tensorflow:loss = 0.07115105, step = 7301 (0.109 sec)\n",
            "INFO:tensorflow:global_step/sec: 981.31\n",
            "INFO:tensorflow:loss = 0.40946728, step = 7401 (0.100 sec)\n",
            "INFO:tensorflow:global_step/sec: 979.854\n",
            "INFO:tensorflow:loss = 0.051571075, step = 7501 (0.103 sec)\n",
            "INFO:tensorflow:global_step/sec: 1002.29\n",
            "INFO:tensorflow:loss = 0.068911836, step = 7601 (0.098 sec)\n",
            "INFO:tensorflow:global_step/sec: 974.081\n",
            "INFO:tensorflow:loss = 0.19769153, step = 7701 (0.102 sec)\n",
            "INFO:tensorflow:global_step/sec: 981.953\n",
            "INFO:tensorflow:loss = 0.04636132, step = 7801 (0.103 sec)\n",
            "INFO:tensorflow:global_step/sec: 867.897\n",
            "INFO:tensorflow:loss = 0.29699248, step = 7901 (0.114 sec)\n",
            "INFO:tensorflow:global_step/sec: 984.405\n",
            "INFO:tensorflow:loss = 0.067256466, step = 8001 (0.104 sec)\n",
            "INFO:tensorflow:global_step/sec: 950.079\n",
            "INFO:tensorflow:loss = 0.17428362, step = 8101 (0.105 sec)\n",
            "INFO:tensorflow:global_step/sec: 967.649\n",
            "INFO:tensorflow:loss = 0.18573818, step = 8201 (0.104 sec)\n",
            "INFO:tensorflow:global_step/sec: 964.844\n",
            "INFO:tensorflow:loss = 0.11406535, step = 8301 (0.101 sec)\n",
            "INFO:tensorflow:global_step/sec: 987.815\n",
            "INFO:tensorflow:loss = 0.03684823, step = 8401 (0.102 sec)\n",
            "INFO:tensorflow:global_step/sec: 962.058\n",
            "INFO:tensorflow:loss = 0.051637933, step = 8501 (0.102 sec)\n",
            "INFO:tensorflow:global_step/sec: 945.905\n",
            "INFO:tensorflow:loss = 0.18819898, step = 8601 (0.108 sec)\n",
            "INFO:tensorflow:global_step/sec: 947.178\n",
            "INFO:tensorflow:loss = 0.039387133, step = 8701 (0.105 sec)\n",
            "INFO:tensorflow:global_step/sec: 936.456\n",
            "INFO:tensorflow:loss = 0.09537182, step = 8801 (0.105 sec)\n",
            "INFO:tensorflow:global_step/sec: 889.193\n",
            "INFO:tensorflow:loss = 0.08390454, step = 8901 (0.115 sec)\n",
            "INFO:tensorflow:global_step/sec: 963.922\n",
            "INFO:tensorflow:loss = 0.06410168, step = 9001 (0.104 sec)\n",
            "INFO:tensorflow:global_step/sec: 928.206\n",
            "INFO:tensorflow:loss = 0.12320624, step = 9101 (0.105 sec)\n",
            "INFO:tensorflow:global_step/sec: 962.705\n",
            "INFO:tensorflow:loss = 0.053891107, step = 9201 (0.107 sec)\n",
            "INFO:tensorflow:global_step/sec: 908.405\n",
            "INFO:tensorflow:loss = 0.05099922, step = 9301 (0.107 sec)\n",
            "INFO:tensorflow:global_step/sec: 949.232\n",
            "INFO:tensorflow:loss = 0.0559784, step = 9401 (0.107 sec)\n",
            "INFO:tensorflow:global_step/sec: 992.225\n",
            "INFO:tensorflow:loss = 0.06403678, step = 9501 (0.099 sec)\n",
            "INFO:tensorflow:global_step/sec: 969.398\n",
            "INFO:tensorflow:loss = 0.056284975, step = 9601 (0.103 sec)\n",
            "INFO:tensorflow:global_step/sec: 1017.63\n",
            "INFO:tensorflow:loss = 0.042339426, step = 9701 (0.097 sec)\n",
            "INFO:tensorflow:global_step/sec: 970.886\n",
            "INFO:tensorflow:loss = 0.05643902, step = 9801 (0.105 sec)\n",
            "INFO:tensorflow:global_step/sec: 968.554\n",
            "INFO:tensorflow:loss = 0.17304257, step = 9901 (0.104 sec)\n",
            "INFO:tensorflow:Saving checkpoints for 10000 into /tmp/linear_regression_trained_model/model.ckpt.\n",
            "INFO:tensorflow:Loss for final step: 0.053239293.\n",
            "WARNING:tensorflow:float64 is not supported by many models, consider casting to float32.\n",
            "INFO:tensorflow:Graph was finalized.\n",
            "INFO:tensorflow:Restoring parameters from /tmp/linear_regression_trained_model/model.ckpt-10000\n",
            "INFO:tensorflow:Running local_init_op.\n",
            "INFO:tensorflow:Done running local_init_op.\n",
            "LinearRegression has RMSE of 0.2190244940627732\n",
            "Just using average = 0.5687067581091508 has RMSE of 0.2277127059306058\n"
          ],
          "name": "stdout"
        }
      ]
    },
    {
      "cell_type": "markdown",
      "metadata": {
        "id": "_M6sJGAqR2MR"
      },
      "source": [
        "The RMSE is relatively low (around 0.2 to 0.25), although it highlights the presence of outliers around the line of best fit, despite previous removal of the most obvious outlying values. Setting the training set size to less than 20% of the full array increases the RMSE, suggesting there is a level of variability present, or that the model may be overfitting the data.\n",
        "\n",
        "This can be verified below by providing existing values outside of the set of predictors for validation."
      ]
    },
    {
      "cell_type": "code",
      "metadata": {
        "colab": {
          "base_uri": "https://localhost:8080/"
        },
        "id": "GqzmP0O-6snL",
        "outputId": "7f4a6665-2375-4f14-fc60-c2841278f8e5"
      },
      "source": [
        "print(preds)"
      ],
      "execution_count": null,
      "outputs": [
        {
          "output_type": "stream",
          "text": [
            "{'scores': array([0.74313205, 0.7680194 , 0.55781   , 0.6056054 , 0.6082678 ,\n",
            "       0.79998755, 0.68714446, 0.84736365, 0.5668215 , 0.4292273 ,\n",
            "       0.62388116, 0.54640967, 0.643962  , 0.6662653 , 0.78877234,\n",
            "       0.63320404, 0.754669  , 0.75332284, 0.52928483, 0.7976273 ,\n",
            "       0.7823356 , 0.49643943, 0.6810591 , 0.69331706, 0.53123546,\n",
            "       0.820935  , 0.7385187 , 0.62819207, 0.5604141 , 0.680766  ,\n",
            "       0.6077509 , 0.65480626, 0.55572283, 0.5219316 , 0.5853307 ,\n",
            "       0.6494909 , 0.65159667, 0.64572716, 0.6346578 , 0.7151817 ,\n",
            "       0.6562693 , 0.47760817, 0.5207319 , 0.65893066, 0.6937463 ,\n",
            "       0.8332912 , 0.46277508, 0.69767696, 0.62426186, 0.63453054,\n",
            "       0.7747289 , 0.6781619 , 0.6330385 , 0.6369002 , 0.59748185,\n",
            "       0.67679715, 0.5924009 , 0.72316873, 0.6195413 , 0.59191334,\n",
            "       0.48203564, 0.63499844, 0.5733362 , 0.7424297 , 0.74459475,\n",
            "       0.579304  , 0.49662495, 0.6551763 , 0.61195457, 0.5063771 ,\n",
            "       0.62039053, 0.5763975 , 0.5756275 , 0.5910358 , 0.5635247 ,\n",
            "       0.7035768 , 0.565173  , 0.76684904, 0.6893771 , 0.58520484,\n",
            "       0.6568631 , 0.41643244, 0.59617496, 0.6568924 , 0.51995265,\n",
            "       0.5599662 , 0.4687822 , 0.4703618 , 0.44433346, 0.7558193 ,\n",
            "       0.7139045 , 0.73395467, 0.73867524, 0.7939311 , 0.5441086 ,\n",
            "       0.5692298 , 0.8211205 , 0.65458107, 0.580006  , 0.7510605 ,\n",
            "       0.46454954, 0.58696896, 0.6321227 , 0.7367932 , 0.71393347,\n",
            "       0.5792453 , 0.66064787, 0.6357302 , 0.751246  , 0.6863345 ,\n",
            "       0.73821664, 0.71901435, 0.71879023, 0.760793  , 0.475892  ,\n",
            "       0.5971798 , 0.69008887, 0.5683918 , 0.71383655, 0.6440393 ,\n",
            "       0.5781044 , 0.6105694 , 0.7821897 , 0.6742127 , 0.56066716,\n",
            "       0.5741751 , 0.6563369 , 0.72867894, 0.5420321 , 0.5425873 ,\n",
            "       0.7010314 , 0.52002025, 0.5722138 , 0.529461  , 0.47196144,\n",
            "       0.7054878 , 0.6201654 , 0.66987276, 0.6088929 , 0.6502119 ,\n",
            "       0.7865393 , 0.7752947 , 0.7919222 , 0.61969745, 0.8169368 ,\n",
            "       0.50386065, 0.80295193, 0.57594025, 0.6045423 , 0.64658475,\n",
            "       0.4500968 , 0.61113524, 0.72756726, 0.63743705, 0.48159707,\n",
            "       0.5133108 , 0.7560048 , 0.621443  , 0.55241776, 0.75557554,\n",
            "       0.6164986 , 0.68498933, 0.5195234 , 0.6144897 , 0.4243612 ,\n",
            "       0.67985946, 0.6648991 , 0.75142115, 0.54317176, 0.6077509 ,\n",
            "       0.6615637 , 0.79642797, 0.6163341 , 0.58150876, 0.6272273 ,\n",
            "       0.6025148 , 0.7827942 , 0.50818086, 0.6452386 , 0.6840035 ,\n",
            "       0.83356434, 0.716703  , 0.6357592 , 0.67243826, 0.60257304,\n",
            "       0.8265817 , 0.77844465, 0.6577603 , 0.8204964 , 0.54771715,\n",
            "       0.7953159 , 0.7658353 , 0.6376329 , 0.7696973 , 0.652466  ,\n",
            "       0.6524939 , 0.6572435 , 0.5552749 , 0.5261746 , 0.5321234 ],\n",
            "      dtype=float32)}\n"
          ],
          "name": "stdout"
        }
      ]
    },
    {
      "cell_type": "markdown",
      "metadata": {
        "id": "Fi9r8ZgA8dzd"
      },
      "source": [
        "Manually selecting data outside of the set shown above returns results within range of their actual collision totals, although experimentation with this proved the accuracy of predictions was sometimes low, suggesting collisions cannot be predicted by temperature or season alone in every situation."
      ]
    },
    {
      "cell_type": "code",
      "metadata": {
        "colab": {
          "base_uri": "https://localhost:8080/"
        },
        "id": "H81jaTjG_5RW",
        "outputId": "cdf73e77-35c3-485f-f373-7ab107275171"
      },
      "source": [
        "input = pd.DataFrame.from_dict(data = \r\n",
        "\t\t\t\t{'day' : [3,5,6],\r\n",
        "         'mo' : [6, 1, 12],\r\n",
        "         'temp' : [58.6, 32.2, 42.1]})\r\n",
        "\r\n",
        "estimator = tf.contrib.learn.SKCompat(tf.contrib.learn.LinearRegressor(model_dir='/tmp/linear_regression_trained_model', enable_centered_bias=False, feature_columns=tf.contrib.learn.infer_real_valued_columns_from_input(input.values)))\r\n",
        "\r\n",
        "preds = estimator.predict(x=input.values)\r\n",
        "predslistscale = preds['scores']*SCALE_NUM_COLLISIONS\r\n",
        "pred = format(str(predslistscale))\r\n",
        "print(pred)"
      ],
      "execution_count": null,
      "outputs": [
        {
          "output_type": "stream",
          "text": [
            "WARNING:tensorflow:float64 is not supported by many models, consider casting to float32.\n",
            "INFO:tensorflow:Using default config.\n",
            "INFO:tensorflow:Using config: {'_task_type': None, '_task_id': 0, '_cluster_spec': <tensorflow.python.training.server_lib.ClusterSpec object at 0x7f9d9fc26b38>, '_master': '', '_num_ps_replicas': 0, '_num_worker_replicas': 0, '_environment': 'local', '_is_chief': True, '_evaluation_master': '', '_train_distribute': None, '_eval_distribute': None, '_experimental_max_worker_delay_secs': None, '_device_fn': None, '_tf_config': gpu_options {\n",
            "  per_process_gpu_memory_fraction: 1.0\n",
            "}\n",
            ", '_tf_random_seed': None, '_save_summary_steps': 100, '_save_checkpoints_secs': 600, '_log_step_count_steps': 100, '_protocol': None, '_session_config': None, '_save_checkpoints_steps': None, '_keep_checkpoint_max': 5, '_keep_checkpoint_every_n_hours': 10000, '_model_dir': '/tmp/linear_regression_trained_model', '_session_creation_timeout_secs': 7200}\n",
            "WARNING:tensorflow:float64 is not supported by many models, consider casting to float32.\n",
            "INFO:tensorflow:Graph was finalized.\n",
            "INFO:tensorflow:Restoring parameters from /tmp/linear_regression_trained_model/model.ckpt-10000\n",
            "INFO:tensorflow:Running local_init_op.\n",
            "INFO:tensorflow:Done running local_init_op.\n",
            "[0.7035768  0.48203564 0.6098674 ]\n"
          ],
          "name": "stdout"
        }
      ]
    },
    {
      "cell_type": "markdown",
      "metadata": {
        "id": "p0-1V_VP_61z"
      },
      "source": [
        "However, using imagined values demonstrates the model's overall effectiveness at understanding seasonal patterns. Setting test predictors to January, May and August, with relative dew points shows the model predicts suitable collision values - increasing during later months as the temperature rises. "
      ]
    },
    {
      "cell_type": "code",
      "metadata": {
        "colab": {
          "base_uri": "https://localhost:8080/"
        },
        "id": "U3fu5X0OU2IG",
        "outputId": "c42a2141-9a79-4f5d-a7bc-24a45e010a5f"
      },
      "source": [
        "input = pd.DataFrame.from_dict(data = \n",
        "\t\t\t\t{'day' : [1,1,1],\n",
        "         'mo' : [1, 5, 8],\n",
        "         'temp' : [8.9, 20.5, 54.0]})\n",
        "\n",
        "estimator = tf.contrib.learn.SKCompat(tf.contrib.learn.LinearRegressor(model_dir='/tmp/linear_regression_trained_model', enable_centered_bias=False, feature_columns=tf.contrib.learn.infer_real_valued_columns_from_input(input.values)))\n",
        "\n",
        "preds = estimator.predict(x=input.values)\n",
        "predslistscale = preds['scores']*SCALE_NUM_COLLISIONS\n",
        "pred = format(str(predslistscale))\n",
        "print(pred)"
      ],
      "execution_count": null,
      "outputs": [
        {
          "output_type": "stream",
          "text": [
            "WARNING:tensorflow:float64 is not supported by many models, consider casting to float32.\n",
            "INFO:tensorflow:Using default config.\n",
            "INFO:tensorflow:Using config: {'_task_type': None, '_task_id': 0, '_cluster_spec': <tensorflow.python.training.server_lib.ClusterSpec object at 0x7f9d9fc81518>, '_master': '', '_num_ps_replicas': 0, '_num_worker_replicas': 0, '_environment': 'local', '_is_chief': True, '_evaluation_master': '', '_train_distribute': None, '_eval_distribute': None, '_experimental_max_worker_delay_secs': None, '_device_fn': None, '_tf_config': gpu_options {\n",
            "  per_process_gpu_memory_fraction: 1.0\n",
            "}\n",
            ", '_tf_random_seed': None, '_save_summary_steps': 100, '_save_checkpoints_secs': 600, '_log_step_count_steps': 100, '_protocol': None, '_session_config': None, '_save_checkpoints_steps': None, '_keep_checkpoint_max': 5, '_keep_checkpoint_every_n_hours': 10000, '_model_dir': '/tmp/linear_regression_trained_model', '_session_creation_timeout_secs': 7200}\n",
            "WARNING:tensorflow:float64 is not supported by many models, consider casting to float32.\n",
            "INFO:tensorflow:Graph was finalized.\n",
            "INFO:tensorflow:Restoring parameters from /tmp/linear_regression_trained_model/model.ckpt-10000\n",
            "INFO:tensorflow:Running local_init_op.\n",
            "INFO:tensorflow:Done running local_init_op.\n",
            "[0.7035768  0.48203564 0.6098674 ]\n"
          ],
          "name": "stdout"
        }
      ]
    },
    {
      "cell_type": "markdown",
      "metadata": {
        "id": "uqJv7B5PaIIS"
      },
      "source": [
        "The above results use Monday as predictor for a focus on seasonal changes in temperature rather than showing the changes in traffic throughout the week. If these are changed to other values this relationship can be seen clearly - setting the first day to Sunday dramatically lessens the number of collisions, with the number of collisions increasing throughout the week. Monday remains the day with the highest collisions in this particular dataset."
      ]
    },
    {
      "cell_type": "code",
      "metadata": {
        "colab": {
          "base_uri": "https://localhost:8080/"
        },
        "id": "Fnx6at5NbOcp",
        "outputId": "c01b766a-41ae-4a50-8c96-d35f7b15d19f"
      },
      "source": [
        "input = pd.DataFrame.from_dict(data = \n",
        "\t\t\t\t{'day' : [7,3,5],\n",
        "         'mo' : [1, 5, 8],\n",
        "         'temp' : [8.9, 20.5, 54.0]})\n",
        "\n",
        "estimator = tf.contrib.learn.SKCompat(tf.contrib.learn.LinearRegressor(model_dir='/tmp/linear_regression_trained_model', enable_centered_bias=False, feature_columns=tf.contrib.learn.infer_real_valued_columns_from_input(input.values)))\n",
        "\n",
        "preds = estimator.predict(x=input.values)\n",
        "predslistscale = preds['scores']*SCALE_NUM_COLLISIONS\n",
        "pred = format(str(predslistscale))\n",
        "print(pred)"
      ],
      "execution_count": null,
      "outputs": [
        {
          "output_type": "stream",
          "text": [
            "WARNING:tensorflow:float64 is not supported by many models, consider casting to float32.\n",
            "INFO:tensorflow:Using default config.\n",
            "INFO:tensorflow:Using config: {'_task_type': None, '_task_id': 0, '_cluster_spec': <tensorflow.python.training.server_lib.ClusterSpec object at 0x7f9d97944668>, '_master': '', '_num_ps_replicas': 0, '_num_worker_replicas': 0, '_environment': 'local', '_is_chief': True, '_evaluation_master': '', '_train_distribute': None, '_eval_distribute': None, '_experimental_max_worker_delay_secs': None, '_device_fn': None, '_tf_config': gpu_options {\n",
            "  per_process_gpu_memory_fraction: 1.0\n",
            "}\n",
            ", '_tf_random_seed': None, '_save_summary_steps': 100, '_save_checkpoints_secs': 600, '_log_step_count_steps': 100, '_protocol': None, '_session_config': None, '_save_checkpoints_steps': None, '_keep_checkpoint_max': 5, '_keep_checkpoint_every_n_hours': 10000, '_model_dir': '/tmp/linear_regression_trained_model', '_session_creation_timeout_secs': 7200}\n",
            "WARNING:tensorflow:float64 is not supported by many models, consider casting to float32.\n",
            "INFO:tensorflow:Graph was finalized.\n",
            "INFO:tensorflow:Restoring parameters from /tmp/linear_regression_trained_model/model.ckpt-10000\n",
            "INFO:tensorflow:Running local_init_op.\n",
            "INFO:tensorflow:Done running local_init_op.\n",
            "[0.64423376 0.5475027  0.6431128 ]\n"
          ],
          "name": "stdout"
        }
      ]
    },
    {
      "cell_type": "markdown",
      "metadata": {
        "id": "EGlYt5QaTVkg"
      },
      "source": [
        "The process is repeated below, this time including the dew point value in addition to temperature, while excluding month and day values."
      ]
    },
    {
      "cell_type": "code",
      "metadata": {
        "id": "3Yu9Ww_sR0ll"
      },
      "source": [
        "# create the dataframe from 2013-15 csv file\n",
        "df = pd.read_csv('https://raw.githubusercontent.com/15007919uhi/15007919_DataAnalytics/master/lineardata1315.csv', index_col=0, )"
      ],
      "execution_count": null,
      "outputs": []
    },
    {
      "cell_type": "code",
      "metadata": {
        "colab": {
          "base_uri": "https://localhost:8080/"
        },
        "id": "A4ErI_awR0ll",
        "outputId": "b8d818c9-73d4-4f1d-8c26-3fbf7912c763"
      },
      "source": [
        "# check the data is correct\n",
        "print(df[:6])\n",
        "# print(df) #all"
      ],
      "execution_count": null,
      "outputs": [
        {
          "output_type": "stream",
          "text": [
            "     day  mo  temp  dewp   max   min  NUM_COLLISIONS\n",
            "185    2   1  38.0  25.6  41.0  33.1        0.000000\n",
            "186    3   1  27.5  12.1  33.1  21.9        0.336735\n",
            "187    4   1  21.8   7.8  28.9  16.0        0.571429\n",
            "188    5   1  32.2  21.1  41.0  24.1        0.421769\n",
            "189    6   1  37.3  24.5  42.1  30.9        0.027211\n",
            "190    7   1  35.7  31.3  44.1  23.0        0.040816\n"
          ],
          "name": "stdout"
        }
      ]
    },
    {
      "cell_type": "code",
      "metadata": {
        "colab": {
          "base_uri": "https://localhost:8080/"
        },
        "id": "AxDB-TgZR0lm",
        "outputId": "3af6c031-5a44-4201-973e-2fec746192df"
      },
      "source": [
        "# needed for calculations\n",
        "import numpy as np\n",
        "\n",
        "# shuffle rows at random\n",
        "shuffle = df.iloc[np.random.permutation(len(df))]\n",
        "\n",
        "# specify the column to select all rows from\n",
        "predictors = shuffle.iloc[:,2:4]\n",
        "\n",
        "# print the first 6 rows of the predictors\n",
        "print(predictors[:6])"
      ],
      "execution_count": null,
      "outputs": [
        {
          "output_type": "stream",
          "text": [
            "     temp  dewp\n",
            "839  63.2  59.7\n",
            "807  57.5  47.6\n",
            "281  39.7  28.6\n",
            "391  66.1  64.4\n",
            "817  59.7  55.3\n",
            "600  39.6  32.2\n"
          ],
          "name": "stdout"
        }
      ]
    },
    {
      "cell_type": "code",
      "metadata": {
        "colab": {
          "base_uri": "https://localhost:8080/",
          "height": 204
        },
        "id": "ZDeg2kPhR0lm",
        "outputId": "8d74aeac-942a-4777-d925-369a2932d23c"
      },
      "source": [
        "# print the first five rows of the shuffled data\n",
        "shuffle[:5]"
      ],
      "execution_count": null,
      "outputs": [
        {
          "output_type": "execute_result",
          "data": {
            "text/html": [
              "<div>\n",
              "<style scoped>\n",
              "    .dataframe tbody tr th:only-of-type {\n",
              "        vertical-align: middle;\n",
              "    }\n",
              "\n",
              "    .dataframe tbody tr th {\n",
              "        vertical-align: top;\n",
              "    }\n",
              "\n",
              "    .dataframe thead th {\n",
              "        text-align: right;\n",
              "    }\n",
              "</style>\n",
              "<table border=\"1\" class=\"dataframe\">\n",
              "  <thead>\n",
              "    <tr style=\"text-align: right;\">\n",
              "      <th></th>\n",
              "      <th>day</th>\n",
              "      <th>mo</th>\n",
              "      <th>temp</th>\n",
              "      <th>dewp</th>\n",
              "      <th>max</th>\n",
              "      <th>min</th>\n",
              "      <th>NUM_COLLISIONS</th>\n",
              "    </tr>\n",
              "  </thead>\n",
              "  <tbody>\n",
              "    <tr>\n",
              "      <th>839</th>\n",
              "      <td>5</td>\n",
              "      <td>10</td>\n",
              "      <td>63.2</td>\n",
              "      <td>59.7</td>\n",
              "      <td>70.0</td>\n",
              "      <td>60.1</td>\n",
              "      <td>0.909396</td>\n",
              "    </tr>\n",
              "    <tr>\n",
              "      <th>807</th>\n",
              "      <td>1</td>\n",
              "      <td>9</td>\n",
              "      <td>57.5</td>\n",
              "      <td>47.6</td>\n",
              "      <td>66.0</td>\n",
              "      <td>46.9</td>\n",
              "      <td>0.781879</td>\n",
              "    </tr>\n",
              "    <tr>\n",
              "      <th>281</th>\n",
              "      <td>7</td>\n",
              "      <td>4</td>\n",
              "      <td>39.7</td>\n",
              "      <td>28.6</td>\n",
              "      <td>48.0</td>\n",
              "      <td>26.1</td>\n",
              "      <td>0.238095</td>\n",
              "    </tr>\n",
              "    <tr>\n",
              "      <th>391</th>\n",
              "      <td>5</td>\n",
              "      <td>7</td>\n",
              "      <td>66.1</td>\n",
              "      <td>64.4</td>\n",
              "      <td>69.8</td>\n",
              "      <td>64.0</td>\n",
              "      <td>0.802721</td>\n",
              "    </tr>\n",
              "    <tr>\n",
              "      <th>817</th>\n",
              "      <td>4</td>\n",
              "      <td>9</td>\n",
              "      <td>59.7</td>\n",
              "      <td>55.3</td>\n",
              "      <td>68.0</td>\n",
              "      <td>48.9</td>\n",
              "      <td>0.382550</td>\n",
              "    </tr>\n",
              "  </tbody>\n",
              "</table>\n",
              "</div>"
            ],
            "text/plain": [
              "     day  mo  temp  dewp   max   min  NUM_COLLISIONS\n",
              "839    5  10  63.2  59.7  70.0  60.1        0.909396\n",
              "807    1   9  57.5  47.6  66.0  46.9        0.781879\n",
              "281    7   4  39.7  28.6  48.0  26.1        0.238095\n",
              "391    5   7  66.1  64.4  69.8  64.0        0.802721\n",
              "817    4   9  59.7  55.3  68.0  48.9        0.382550"
            ]
          },
          "metadata": {
            "tags": []
          },
          "execution_count": 66
        }
      ]
    },
    {
      "cell_type": "code",
      "metadata": {
        "colab": {
          "base_uri": "https://localhost:8080/"
        },
        "id": "zS4jisRtR0lm",
        "outputId": "0539376f-35ae-4a81-fd3d-573d66b2f7d5"
      },
      "source": [
        "# select all rows of the specified column\n",
        "targets = shuffle.iloc[:,-1]\n",
        "\n",
        "# print the first 6 rows of the targets\n",
        "print(targets[:6])"
      ],
      "execution_count": null,
      "outputs": [
        {
          "output_type": "stream",
          "text": [
            "839    0.909396\n",
            "807    0.781879\n",
            "281    0.238095\n",
            "391    0.802721\n",
            "817    0.382550\n",
            "600    0.600671\n",
            "Name: NUM_COLLISIONS, dtype: float64\n"
          ],
          "name": "stdout"
        }
      ]
    },
    {
      "cell_type": "code",
      "metadata": {
        "id": "0RTOAYouR0lm"
      },
      "source": [
        "# scale the data\n",
        "SCALE_NUM_COLLISIONS = 1.0"
      ],
      "execution_count": null,
      "outputs": []
    },
    {
      "cell_type": "code",
      "metadata": {
        "id": "RI0ZJr6VR0lm"
      },
      "source": [
        "# split data into a training set that is 80% of the full shuffled array\n",
        "trainsize = int(len(shuffle['NUM_COLLISIONS'])*0.8)\n",
        "# subtract training set size from test set to leave 20% of the array\n",
        "testsize = len(shuffle['NUM_COLLISIONS']) - trainsize\n",
        "\n",
        "# set number of input values/predictors\n",
        "nppredictors = 2\n",
        "# set number of output values/targets\n",
        "noutputs = 1"
      ],
      "execution_count": null,
      "outputs": []
    },
    {
      "cell_type": "code",
      "metadata": {
        "colab": {
          "base_uri": "https://localhost:8080/"
        },
        "id": "QkOSppgfR0lm",
        "outputId": "16aba35c-b26e-4835-d76b-b8ea83dd1a63"
      },
      "source": [
        "# import tensorflow\n",
        "%tensorflow_version 1.x\n",
        "import tensorflow as tf\n",
        "\n",
        "# check the version\n",
        "print(tf.__version__)\n",
        "\n",
        "import shutil  \n",
        "\n",
        "# logging for tensorflow\n",
        "tf.compat.v1.logging.set_verbosity(tf.compat.v1.logging.INFO)\n",
        "\n",
        "# remove saved model from previous training attempts\n",
        "shutil.rmtree('/tmp/linear_regression_trained_model', ignore_errors=True)\n",
        "\n",
        "estimator = tf.contrib.learn.SKCompat(tf.contrib.learn.LinearRegressor(model_dir='/tmp/linear_regression_trained_model', optimizer=tf.train.AdamOptimizer(learning_rate=0.1), enable_centered_bias=False, feature_columns=tf.contrib.learn.infer_real_valued_columns_from_input(predictors.values)))\n",
        "\n",
        "# show model is beginning to train\n",
        "print(\"starting to train\");\n",
        "\n",
        "# use predictors and target values to train the model\n",
        "estimator.fit(predictors[:trainsize].values, targets[:trainsize].values.reshape(trainsize, noutputs)/SCALE_NUM_COLLISIONS, steps=10000)\n",
        "\n",
        "# check predictors\n",
        "preds = estimator.predict(x=predictors[trainsize:].values)\n",
        "\n",
        "# apply the same scale to the output\n",
        "predslistscale = preds['scores']*SCALE_NUM_COLLISIONS\n",
        "\n",
        "# pred = format(str(predslistscale)) # useful for checking outputs and printing.\n",
        "\n",
        "# calculate RMSE\n",
        "rmse = np.sqrt(np.mean((targets[trainsize:].values - predslistscale)**2))\n",
        "print('LinearRegression has RMSE of {0}'.format(rmse));\n",
        "\n",
        "# calculate mean number of collisions\n",
        "avg = np.mean(shuffle['NUM_COLLISIONS'][:trainsize])\n",
        "\n",
        "# calculate RMSE using the number of collisions and mean of all other values\n",
        "rmse = np.sqrt(np.mean((shuffle['NUM_COLLISIONS'][trainsize:] - avg)**2))\n",
        "print('Just using average = {0} has RMSE of {1}'.format(avg, rmse));\n"
      ],
      "execution_count": null,
      "outputs": [
        {
          "output_type": "stream",
          "text": [
            "1.15.2\n",
            "WARNING:tensorflow:float64 is not supported by many models, consider casting to float32.\n",
            "INFO:tensorflow:Using default config.\n",
            "INFO:tensorflow:Using config: {'_task_type': None, '_task_id': 0, '_cluster_spec': <tensorflow.python.training.server_lib.ClusterSpec object at 0x7f9d9fca9828>, '_master': '', '_num_ps_replicas': 0, '_num_worker_replicas': 0, '_environment': 'local', '_is_chief': True, '_evaluation_master': '', '_train_distribute': None, '_eval_distribute': None, '_experimental_max_worker_delay_secs': None, '_device_fn': None, '_tf_config': gpu_options {\n",
            "  per_process_gpu_memory_fraction: 1.0\n",
            "}\n",
            ", '_tf_random_seed': None, '_save_summary_steps': 100, '_save_checkpoints_secs': 600, '_log_step_count_steps': 100, '_protocol': None, '_session_config': None, '_save_checkpoints_steps': None, '_keep_checkpoint_max': 5, '_keep_checkpoint_every_n_hours': 10000, '_model_dir': '/tmp/linear_regression_trained_model', '_session_creation_timeout_secs': 7200}\n",
            "starting to train\n",
            "WARNING:tensorflow:float64 is not supported by many models, consider casting to float32.\n",
            "WARNING:tensorflow:float64 is not supported by many models, consider casting to float32.\n",
            "INFO:tensorflow:Create CheckpointSaverHook.\n",
            "INFO:tensorflow:Graph was finalized.\n",
            "INFO:tensorflow:Running local_init_op.\n",
            "INFO:tensorflow:Done running local_init_op.\n",
            "INFO:tensorflow:Saving checkpoints for 0 into /tmp/linear_regression_trained_model/model.ckpt.\n",
            "INFO:tensorflow:loss = 0.37928408, step = 1\n",
            "INFO:tensorflow:global_step/sec: 721.683\n",
            "INFO:tensorflow:loss = 0.069843, step = 101 (0.141 sec)\n",
            "INFO:tensorflow:global_step/sec: 882.341\n",
            "INFO:tensorflow:loss = 0.051102135, step = 201 (0.113 sec)\n",
            "INFO:tensorflow:global_step/sec: 817.86\n",
            "INFO:tensorflow:loss = 0.040610954, step = 301 (0.124 sec)\n",
            "INFO:tensorflow:global_step/sec: 861.852\n",
            "INFO:tensorflow:loss = 0.06973921, step = 401 (0.117 sec)\n",
            "INFO:tensorflow:global_step/sec: 876.97\n",
            "INFO:tensorflow:loss = 0.04841253, step = 501 (0.113 sec)\n",
            "INFO:tensorflow:global_step/sec: 908.759\n",
            "INFO:tensorflow:loss = 0.061957076, step = 601 (0.108 sec)\n",
            "INFO:tensorflow:global_step/sec: 869.643\n",
            "INFO:tensorflow:loss = 0.055153545, step = 701 (0.118 sec)\n",
            "INFO:tensorflow:global_step/sec: 910.313\n",
            "INFO:tensorflow:loss = 0.06256425, step = 801 (0.107 sec)\n",
            "INFO:tensorflow:global_step/sec: 887.481\n",
            "INFO:tensorflow:loss = 0.05764454, step = 901 (0.113 sec)\n",
            "INFO:tensorflow:global_step/sec: 879.951\n",
            "INFO:tensorflow:loss = 0.036223263, step = 1001 (0.114 sec)\n",
            "INFO:tensorflow:global_step/sec: 899.309\n",
            "INFO:tensorflow:loss = 0.060693167, step = 1101 (0.111 sec)\n",
            "INFO:tensorflow:global_step/sec: 910.924\n",
            "INFO:tensorflow:loss = 0.063834995, step = 1201 (0.110 sec)\n",
            "INFO:tensorflow:global_step/sec: 868.972\n",
            "INFO:tensorflow:loss = 0.054013602, step = 1301 (0.115 sec)\n",
            "INFO:tensorflow:global_step/sec: 861.506\n",
            "INFO:tensorflow:loss = 0.045960482, step = 1401 (0.120 sec)\n",
            "INFO:tensorflow:global_step/sec: 839.902\n",
            "INFO:tensorflow:loss = 0.15180698, step = 1501 (0.116 sec)\n",
            "INFO:tensorflow:global_step/sec: 917.727\n",
            "INFO:tensorflow:loss = 0.14687933, step = 1601 (0.109 sec)\n",
            "INFO:tensorflow:global_step/sec: 920.209\n",
            "INFO:tensorflow:loss = 0.06832124, step = 1701 (0.109 sec)\n",
            "INFO:tensorflow:global_step/sec: 840.173\n",
            "INFO:tensorflow:loss = 0.06599887, step = 1801 (0.119 sec)\n",
            "INFO:tensorflow:global_step/sec: 820.408\n",
            "INFO:tensorflow:loss = 0.05280175, step = 1901 (0.125 sec)\n",
            "INFO:tensorflow:global_step/sec: 870.384\n",
            "INFO:tensorflow:loss = 0.05858232, step = 2001 (0.111 sec)\n",
            "INFO:tensorflow:global_step/sec: 825.429\n",
            "INFO:tensorflow:loss = 0.31944257, step = 2101 (0.122 sec)\n",
            "INFO:tensorflow:global_step/sec: 852.979\n",
            "INFO:tensorflow:loss = 0.22245638, step = 2201 (0.120 sec)\n",
            "INFO:tensorflow:global_step/sec: 875.173\n",
            "INFO:tensorflow:loss = 0.14003456, step = 2301 (0.111 sec)\n",
            "INFO:tensorflow:global_step/sec: 829.57\n",
            "INFO:tensorflow:loss = 0.06428603, step = 2401 (0.121 sec)\n",
            "INFO:tensorflow:global_step/sec: 906.857\n",
            "INFO:tensorflow:loss = 0.2211231, step = 2501 (0.111 sec)\n",
            "INFO:tensorflow:global_step/sec: 834.752\n",
            "INFO:tensorflow:loss = 0.08142561, step = 2601 (0.120 sec)\n",
            "INFO:tensorflow:global_step/sec: 878.554\n",
            "INFO:tensorflow:loss = 0.1394338, step = 2701 (0.118 sec)\n",
            "INFO:tensorflow:global_step/sec: 864.142\n",
            "INFO:tensorflow:loss = 0.12549512, step = 2801 (0.112 sec)\n",
            "INFO:tensorflow:global_step/sec: 892.162\n",
            "INFO:tensorflow:loss = 0.32615337, step = 2901 (0.112 sec)\n",
            "INFO:tensorflow:global_step/sec: 849.736\n",
            "INFO:tensorflow:loss = 0.060279295, step = 3001 (0.118 sec)\n",
            "INFO:tensorflow:global_step/sec: 922.573\n",
            "INFO:tensorflow:loss = 0.077767104, step = 3101 (0.110 sec)\n",
            "INFO:tensorflow:global_step/sec: 912.877\n",
            "INFO:tensorflow:loss = 0.13926946, step = 3201 (0.109 sec)\n",
            "INFO:tensorflow:global_step/sec: 901.755\n",
            "INFO:tensorflow:loss = 0.06891337, step = 3301 (0.112 sec)\n",
            "INFO:tensorflow:global_step/sec: 908.712\n",
            "INFO:tensorflow:loss = 1.083057, step = 3401 (0.109 sec)\n",
            "INFO:tensorflow:global_step/sec: 912.168\n",
            "INFO:tensorflow:loss = 0.11171489, step = 3501 (0.113 sec)\n",
            "INFO:tensorflow:global_step/sec: 882.003\n",
            "INFO:tensorflow:loss = 0.09271163, step = 3601 (0.116 sec)\n",
            "INFO:tensorflow:global_step/sec: 822.85\n",
            "INFO:tensorflow:loss = 0.09472629, step = 3701 (0.117 sec)\n",
            "INFO:tensorflow:global_step/sec: 869.044\n",
            "INFO:tensorflow:loss = 0.19208346, step = 3801 (0.116 sec)\n",
            "INFO:tensorflow:global_step/sec: 872.483\n",
            "INFO:tensorflow:loss = 0.14672907, step = 3901 (0.114 sec)\n",
            "INFO:tensorflow:global_step/sec: 866.773\n",
            "INFO:tensorflow:loss = 0.06598865, step = 4001 (0.115 sec)\n",
            "INFO:tensorflow:global_step/sec: 850.249\n",
            "INFO:tensorflow:loss = 0.30608845, step = 4101 (0.117 sec)\n",
            "INFO:tensorflow:global_step/sec: 741.43\n",
            "INFO:tensorflow:loss = 0.27828175, step = 4201 (0.134 sec)\n",
            "INFO:tensorflow:global_step/sec: 855.083\n",
            "INFO:tensorflow:loss = 0.20299901, step = 4301 (0.117 sec)\n",
            "INFO:tensorflow:global_step/sec: 880.298\n",
            "INFO:tensorflow:loss = 0.22595507, step = 4401 (0.115 sec)\n",
            "INFO:tensorflow:global_step/sec: 841.053\n",
            "INFO:tensorflow:loss = 0.11770314, step = 4501 (0.119 sec)\n",
            "INFO:tensorflow:global_step/sec: 866.187\n",
            "INFO:tensorflow:loss = 0.0478281, step = 4601 (0.113 sec)\n",
            "INFO:tensorflow:global_step/sec: 869.709\n",
            "INFO:tensorflow:loss = 0.1651774, step = 4701 (0.118 sec)\n",
            "INFO:tensorflow:global_step/sec: 884.591\n",
            "INFO:tensorflow:loss = 0.21243104, step = 4801 (0.113 sec)\n",
            "INFO:tensorflow:global_step/sec: 871.698\n",
            "INFO:tensorflow:loss = 0.24255946, step = 4901 (0.115 sec)\n",
            "INFO:tensorflow:global_step/sec: 803.519\n",
            "INFO:tensorflow:loss = 0.08869986, step = 5001 (0.121 sec)\n",
            "INFO:tensorflow:global_step/sec: 736.391\n",
            "INFO:tensorflow:loss = 0.059857193, step = 5101 (0.138 sec)\n",
            "INFO:tensorflow:global_step/sec: 798.213\n",
            "INFO:tensorflow:loss = 0.09729143, step = 5201 (0.125 sec)\n",
            "INFO:tensorflow:global_step/sec: 735.074\n",
            "INFO:tensorflow:loss = 0.061706197, step = 5301 (0.137 sec)\n",
            "INFO:tensorflow:global_step/sec: 723.931\n",
            "INFO:tensorflow:loss = 0.05785753, step = 5401 (0.140 sec)\n",
            "INFO:tensorflow:global_step/sec: 830.733\n",
            "INFO:tensorflow:loss = 0.07669532, step = 5501 (0.117 sec)\n",
            "INFO:tensorflow:global_step/sec: 868.76\n",
            "INFO:tensorflow:loss = 0.6587677, step = 5601 (0.117 sec)\n",
            "INFO:tensorflow:global_step/sec: 950.863\n",
            "INFO:tensorflow:loss = 0.04587789, step = 5701 (0.102 sec)\n",
            "INFO:tensorflow:global_step/sec: 891.929\n",
            "INFO:tensorflow:loss = 0.120724395, step = 5801 (0.116 sec)\n",
            "INFO:tensorflow:global_step/sec: 912.625\n",
            "INFO:tensorflow:loss = 0.06210752, step = 5901 (0.106 sec)\n",
            "INFO:tensorflow:global_step/sec: 879.674\n",
            "INFO:tensorflow:loss = 0.064940125, step = 6001 (0.116 sec)\n",
            "INFO:tensorflow:global_step/sec: 928.042\n",
            "INFO:tensorflow:loss = 0.12442949, step = 6101 (0.106 sec)\n",
            "INFO:tensorflow:global_step/sec: 862.22\n",
            "INFO:tensorflow:loss = 0.05946043, step = 6201 (0.118 sec)\n",
            "INFO:tensorflow:global_step/sec: 917.227\n",
            "INFO:tensorflow:loss = 0.19266543, step = 6301 (0.107 sec)\n",
            "INFO:tensorflow:global_step/sec: 970.872\n",
            "INFO:tensorflow:loss = 1.2978654, step = 6401 (0.102 sec)\n",
            "INFO:tensorflow:global_step/sec: 948.468\n",
            "INFO:tensorflow:loss = 0.06787662, step = 6501 (0.108 sec)\n",
            "INFO:tensorflow:global_step/sec: 949.664\n",
            "INFO:tensorflow:loss = 0.073083706, step = 6601 (0.104 sec)\n",
            "INFO:tensorflow:global_step/sec: 952.493\n",
            "INFO:tensorflow:loss = 0.073863834, step = 6701 (0.105 sec)\n",
            "INFO:tensorflow:global_step/sec: 864.523\n",
            "INFO:tensorflow:loss = 0.1104206, step = 6801 (0.116 sec)\n",
            "INFO:tensorflow:global_step/sec: 936.971\n",
            "INFO:tensorflow:loss = 0.09636222, step = 6901 (0.106 sec)\n",
            "INFO:tensorflow:global_step/sec: 956.409\n",
            "INFO:tensorflow:loss = 0.05894109, step = 7001 (0.105 sec)\n",
            "INFO:tensorflow:global_step/sec: 932.24\n",
            "INFO:tensorflow:loss = 0.1424785, step = 7101 (0.107 sec)\n",
            "INFO:tensorflow:global_step/sec: 925.821\n",
            "INFO:tensorflow:loss = 0.13811776, step = 7201 (0.110 sec)\n",
            "INFO:tensorflow:global_step/sec: 919.779\n",
            "INFO:tensorflow:loss = 0.06778001, step = 7301 (0.107 sec)\n",
            "INFO:tensorflow:global_step/sec: 973.73\n",
            "INFO:tensorflow:loss = 0.052772447, step = 7401 (0.102 sec)\n",
            "INFO:tensorflow:global_step/sec: 958.048\n",
            "INFO:tensorflow:loss = 0.060337476, step = 7501 (0.105 sec)\n",
            "INFO:tensorflow:global_step/sec: 969.983\n",
            "INFO:tensorflow:loss = 0.08373414, step = 7601 (0.103 sec)\n",
            "INFO:tensorflow:global_step/sec: 995.227\n",
            "INFO:tensorflow:loss = 0.056623362, step = 7701 (0.100 sec)\n",
            "INFO:tensorflow:global_step/sec: 847.382\n",
            "INFO:tensorflow:loss = 0.089957684, step = 7801 (0.118 sec)\n",
            "INFO:tensorflow:global_step/sec: 894.502\n",
            "INFO:tensorflow:loss = 0.1052759, step = 7901 (0.114 sec)\n",
            "INFO:tensorflow:global_step/sec: 962.469\n",
            "INFO:tensorflow:loss = 0.11405011, step = 8001 (0.102 sec)\n",
            "INFO:tensorflow:global_step/sec: 905.989\n",
            "INFO:tensorflow:loss = 0.28292596, step = 8101 (0.112 sec)\n",
            "INFO:tensorflow:global_step/sec: 943.231\n",
            "INFO:tensorflow:loss = 0.059079945, step = 8201 (0.106 sec)\n",
            "INFO:tensorflow:global_step/sec: 944.78\n",
            "INFO:tensorflow:loss = 0.11742218, step = 8301 (0.104 sec)\n",
            "INFO:tensorflow:global_step/sec: 946.607\n",
            "INFO:tensorflow:loss = 0.062368438, step = 8401 (0.107 sec)\n",
            "INFO:tensorflow:global_step/sec: 979.495\n",
            "INFO:tensorflow:loss = 0.098449156, step = 8501 (0.104 sec)\n",
            "INFO:tensorflow:global_step/sec: 918.969\n",
            "INFO:tensorflow:loss = 0.05471863, step = 8601 (0.106 sec)\n",
            "INFO:tensorflow:global_step/sec: 974.996\n",
            "INFO:tensorflow:loss = 0.15354605, step = 8701 (0.104 sec)\n",
            "INFO:tensorflow:global_step/sec: 968.482\n",
            "INFO:tensorflow:loss = 0.14227271, step = 8801 (0.102 sec)\n",
            "INFO:tensorflow:global_step/sec: 857.343\n",
            "INFO:tensorflow:loss = 0.3445319, step = 8901 (0.119 sec)\n",
            "INFO:tensorflow:global_step/sec: 948.277\n",
            "INFO:tensorflow:loss = 0.0643875, step = 9001 (0.105 sec)\n",
            "INFO:tensorflow:global_step/sec: 892.519\n",
            "INFO:tensorflow:loss = 0.12187792, step = 9101 (0.110 sec)\n",
            "INFO:tensorflow:global_step/sec: 932.546\n",
            "INFO:tensorflow:loss = 0.110028595, step = 9201 (0.108 sec)\n",
            "INFO:tensorflow:global_step/sec: 960.74\n",
            "INFO:tensorflow:loss = 0.09462565, step = 9301 (0.107 sec)\n",
            "INFO:tensorflow:global_step/sec: 946.242\n",
            "INFO:tensorflow:loss = 0.064745836, step = 9401 (0.103 sec)\n",
            "INFO:tensorflow:global_step/sec: 954.092\n",
            "INFO:tensorflow:loss = 0.12773222, step = 9501 (0.104 sec)\n",
            "INFO:tensorflow:global_step/sec: 917.177\n",
            "INFO:tensorflow:loss = 0.05735274, step = 9601 (0.112 sec)\n",
            "INFO:tensorflow:global_step/sec: 928.996\n",
            "INFO:tensorflow:loss = 0.055792026, step = 9701 (0.105 sec)\n",
            "INFO:tensorflow:global_step/sec: 937.981\n",
            "INFO:tensorflow:loss = 0.09542693, step = 9801 (0.106 sec)\n",
            "INFO:tensorflow:global_step/sec: 973.771\n",
            "INFO:tensorflow:loss = 0.06776581, step = 9901 (0.103 sec)\n",
            "INFO:tensorflow:Saving checkpoints for 10000 into /tmp/linear_regression_trained_model/model.ckpt.\n",
            "INFO:tensorflow:Loss for final step: 0.062738.\n",
            "WARNING:tensorflow:float64 is not supported by many models, consider casting to float32.\n",
            "INFO:tensorflow:Graph was finalized.\n",
            "INFO:tensorflow:Restoring parameters from /tmp/linear_regression_trained_model/model.ckpt-10000\n",
            "INFO:tensorflow:Running local_init_op.\n",
            "INFO:tensorflow:Done running local_init_op.\n",
            "LinearRegression has RMSE of 0.23238222111143816\n",
            "Just using average = 0.5719301585848192 has RMSE of 0.24278405191639751\n"
          ],
          "name": "stdout"
        }
      ]
    },
    {
      "cell_type": "markdown",
      "metadata": {
        "id": "4wbnij0NTw7Q"
      },
      "source": [
        "The RMSE for the model using these two features together (excluding day and month) tends to appear slightly higher, highlighting the importance of seasonality."
      ]
    },
    {
      "cell_type": "code",
      "metadata": {
        "colab": {
          "base_uri": "https://localhost:8080/"
        },
        "id": "pzgtRvYLSz6f",
        "outputId": "8c3f4135-8ae5-46c1-a499-8dfb0cdee8a9"
      },
      "source": [
        "input = pd.DataFrame.from_dict(data = \n",
        "\t\t\t\t{'dewp' : [5.4, 16.9, 48.3],\n",
        "         'temp' : [8.9, 20.5, 54.0]})\n",
        "\n",
        "estimator = tf.contrib.learn.SKCompat(tf.contrib.learn.LinearRegressor(model_dir='/tmp/linear_regression_trained_model', enable_centered_bias=False, feature_columns=tf.contrib.learn.infer_real_valued_columns_from_input(input.values)))\n",
        "\n",
        "preds = estimator.predict(x=input.values)\n",
        "predslistscale = preds['scores']*SCALE_NUM_COLLISIONS\n",
        "pred = format(str(predslistscale))\n",
        "print(pred)"
      ],
      "execution_count": null,
      "outputs": [
        {
          "output_type": "stream",
          "text": [
            "WARNING:tensorflow:float64 is not supported by many models, consider casting to float32.\n",
            "INFO:tensorflow:Using default config.\n",
            "INFO:tensorflow:Using config: {'_task_type': None, '_task_id': 0, '_cluster_spec': <tensorflow.python.training.server_lib.ClusterSpec object at 0x7f9d9f6a5978>, '_master': '', '_num_ps_replicas': 0, '_num_worker_replicas': 0, '_environment': 'local', '_is_chief': True, '_evaluation_master': '', '_train_distribute': None, '_eval_distribute': None, '_experimental_max_worker_delay_secs': None, '_device_fn': None, '_tf_config': gpu_options {\n",
            "  per_process_gpu_memory_fraction: 1.0\n",
            "}\n",
            ", '_tf_random_seed': None, '_save_summary_steps': 100, '_save_checkpoints_secs': 600, '_log_step_count_steps': 100, '_protocol': None, '_session_config': None, '_save_checkpoints_steps': None, '_keep_checkpoint_max': 5, '_keep_checkpoint_every_n_hours': 10000, '_model_dir': '/tmp/linear_regression_trained_model', '_session_creation_timeout_secs': 7200}\n",
            "WARNING:tensorflow:float64 is not supported by many models, consider casting to float32.\n",
            "INFO:tensorflow:Graph was finalized.\n",
            "INFO:tensorflow:Restoring parameters from /tmp/linear_regression_trained_model/model.ckpt-10000\n",
            "INFO:tensorflow:Running local_init_op.\n",
            "INFO:tensorflow:Done running local_init_op.\n",
            "[0.580388   0.4140488  0.46818712]\n",
            "WARNING:tensorflow:float64 is not supported by many models, consider casting to float32.\n",
            "INFO:tensorflow:Using default config.\n",
            "INFO:tensorflow:Using config: {'_task_type': None, '_task_id': 0, '_cluster_spec': <tensorflow.python.training.server_lib.ClusterSpec object at 0x7f9d9f6667b8>, '_master': '', '_num_ps_replicas': 0, '_num_worker_replicas': 0, '_environment': 'local', '_is_chief': True, '_evaluation_master': '', '_train_distribute': None, '_eval_distribute': None, '_experimental_max_worker_delay_secs': None, '_device_fn': None, '_tf_config': gpu_options {\n",
            "  per_process_gpu_memory_fraction: 1.0\n",
            "}\n",
            ", '_tf_random_seed': None, '_save_summary_steps': 100, '_save_checkpoints_secs': 600, '_log_step_count_steps': 100, '_protocol': None, '_session_config': None, '_save_checkpoints_steps': None, '_keep_checkpoint_max': 5, '_keep_checkpoint_every_n_hours': 10000, '_model_dir': '/tmp/linear_regression_trained_model', '_session_creation_timeout_secs': 7200}\n",
            "WARNING:tensorflow:float64 is not supported by many models, consider casting to float32.\n",
            "INFO:tensorflow:Graph was finalized.\n",
            "INFO:tensorflow:Restoring parameters from /tmp/linear_regression_trained_model/model.ckpt-10000\n",
            "INFO:tensorflow:Running local_init_op.\n",
            "INFO:tensorflow:Done running local_init_op.\n",
            "[0.580388   0.4140488  0.46818712]\n"
          ],
          "name": "stdout"
        }
      ]
    },
    {
      "cell_type": "markdown",
      "metadata": {
        "id": "38f6nro-fb6k"
      },
      "source": [
        "The predicted values are not as varied as those created with input from month and day, suggesting weather conditions alone are not enough to create helpful predictions due to the fluctuations introduced by changing months and days of the week. It is also likely dew point introduces a level of variability that temperature does not."
      ]
    },
    {
      "cell_type": "markdown",
      "metadata": {
        "id": "ibGO4qaS1XAp"
      },
      "source": [
        "### 2016-18"
      ]
    },
    {
      "cell_type": "code",
      "metadata": {
        "id": "fnmgCmav1cbY"
      },
      "source": [
        "# needed to create the data frame\n",
        "import pandas as pd\n",
        "\n",
        "# create the dataframe from 2016-18 csv file\n",
        "df = pd.read_csv('https://raw.githubusercontent.com/15007919uhi/15007919_DataAnalytics/master/lineardata1618.csv', index_col=0, )"
      ],
      "execution_count": null,
      "outputs": []
    },
    {
      "cell_type": "code",
      "metadata": {
        "colab": {
          "base_uri": "https://localhost:8080/"
        },
        "id": "N1LZC2141cbY",
        "outputId": "a2e5cf5a-9e04-498f-c548-6fff6a268772"
      },
      "source": [
        "# check the data is correct\n",
        "print(df[:6])\n",
        "# print(df) #all"
      ],
      "execution_count": null,
      "outputs": [
        {
          "output_type": "stream",
          "text": [
            "      day  mo  temp  dewp   max   min  NUM_COLLISIONS\n",
            "1283    1   1  38.2  27.4  52.0  34.0        0.368613\n",
            "1284    2   1  27.7  18.1  43.0  24.1        0.510949\n",
            "1285    3   1  33.5  19.3  45.0  21.0        0.456204\n",
            "1286    4   1  40.5  29.9  46.9  24.1        0.153285\n",
            "1287    5   1  41.3  33.1  48.0  30.9        0.372263\n",
            "1288    6   1  45.9  38.6  50.0  30.9        0.197080\n"
          ],
          "name": "stdout"
        }
      ]
    },
    {
      "cell_type": "code",
      "metadata": {
        "colab": {
          "base_uri": "https://localhost:8080/"
        },
        "id": "u36GiA2B1cbZ",
        "outputId": "a3d965ef-3ebc-482d-e1ab-be0bcc386eaa"
      },
      "source": [
        "# needed for calculations\n",
        "import numpy as np\n",
        "\n",
        "# shuffle rows at random\n",
        "shuffle = df.iloc[np.random.permutation(len(df))]\n",
        "\n",
        "# specify the column to select all rows from\n",
        "predictors = shuffle.iloc[:,0:3]\n",
        "\n",
        "# print the first 6 rows of the predictors\n",
        "print(predictors[:6])"
      ],
      "execution_count": null,
      "outputs": [
        {
          "output_type": "stream",
          "text": [
            "      day  mo  temp\n",
            "1595    5  11  54.9\n",
            "1462    5   7  66.9\n",
            "2250    2   8  73.0\n",
            "1538    4   9  64.5\n",
            "1587    4  11  58.8\n",
            "2370    3  12  31.8\n"
          ],
          "name": "stdout"
        }
      ]
    },
    {
      "cell_type": "code",
      "metadata": {
        "colab": {
          "base_uri": "https://localhost:8080/",
          "height": 204
        },
        "id": "bDXOYgNG1cbZ",
        "outputId": "8f9c338d-d35f-4c2a-c0a3-d9ccc8d9c7f1"
      },
      "source": [
        "# print the first five rows of the shuffled data\n",
        "shuffle[:5]"
      ],
      "execution_count": null,
      "outputs": [
        {
          "output_type": "execute_result",
          "data": {
            "text/html": [
              "<div>\n",
              "<style scoped>\n",
              "    .dataframe tbody tr th:only-of-type {\n",
              "        vertical-align: middle;\n",
              "    }\n",
              "\n",
              "    .dataframe tbody tr th {\n",
              "        vertical-align: top;\n",
              "    }\n",
              "\n",
              "    .dataframe thead th {\n",
              "        text-align: right;\n",
              "    }\n",
              "</style>\n",
              "<table border=\"1\" class=\"dataframe\">\n",
              "  <thead>\n",
              "    <tr style=\"text-align: right;\">\n",
              "      <th></th>\n",
              "      <th>day</th>\n",
              "      <th>mo</th>\n",
              "      <th>temp</th>\n",
              "      <th>dewp</th>\n",
              "      <th>max</th>\n",
              "      <th>min</th>\n",
              "      <th>NUM_COLLISIONS</th>\n",
              "    </tr>\n",
              "  </thead>\n",
              "  <tbody>\n",
              "    <tr>\n",
              "      <th>1595</th>\n",
              "      <td>5</td>\n",
              "      <td>11</td>\n",
              "      <td>54.9</td>\n",
              "      <td>41.0</td>\n",
              "      <td>63.0</td>\n",
              "      <td>46.9</td>\n",
              "      <td>0.602190</td>\n",
              "    </tr>\n",
              "    <tr>\n",
              "      <th>1462</th>\n",
              "      <td>5</td>\n",
              "      <td>7</td>\n",
              "      <td>66.9</td>\n",
              "      <td>63.6</td>\n",
              "      <td>77.0</td>\n",
              "      <td>61.0</td>\n",
              "      <td>0.919708</td>\n",
              "    </tr>\n",
              "    <tr>\n",
              "      <th>2250</th>\n",
              "      <td>2</td>\n",
              "      <td>8</td>\n",
              "      <td>73.0</td>\n",
              "      <td>71.2</td>\n",
              "      <td>84.0</td>\n",
              "      <td>66.9</td>\n",
              "      <td>0.796296</td>\n",
              "    </tr>\n",
              "    <tr>\n",
              "      <th>1538</th>\n",
              "      <td>4</td>\n",
              "      <td>9</td>\n",
              "      <td>64.5</td>\n",
              "      <td>53.4</td>\n",
              "      <td>73.9</td>\n",
              "      <td>53.1</td>\n",
              "      <td>0.937956</td>\n",
              "    </tr>\n",
              "    <tr>\n",
              "      <th>1587</th>\n",
              "      <td>4</td>\n",
              "      <td>11</td>\n",
              "      <td>58.8</td>\n",
              "      <td>56.2</td>\n",
              "      <td>63.0</td>\n",
              "      <td>51.1</td>\n",
              "      <td>0.689781</td>\n",
              "    </tr>\n",
              "  </tbody>\n",
              "</table>\n",
              "</div>"
            ],
            "text/plain": [
              "      day  mo  temp  dewp   max   min  NUM_COLLISIONS\n",
              "1595    5  11  54.9  41.0  63.0  46.9        0.602190\n",
              "1462    5   7  66.9  63.6  77.0  61.0        0.919708\n",
              "2250    2   8  73.0  71.2  84.0  66.9        0.796296\n",
              "1538    4   9  64.5  53.4  73.9  53.1        0.937956\n",
              "1587    4  11  58.8  56.2  63.0  51.1        0.689781"
            ]
          },
          "metadata": {
            "tags": []
          },
          "execution_count": 168
        }
      ]
    },
    {
      "cell_type": "code",
      "metadata": {
        "colab": {
          "base_uri": "https://localhost:8080/"
        },
        "id": "OPwmdEFV1cbZ",
        "outputId": "50dac224-ad52-4961-8c13-647867cfdef6"
      },
      "source": [
        "# select all rows of the specified column\n",
        "targets = shuffle.iloc[:,-1]\n",
        "\n",
        "# print the first 6 rows of the targets\n",
        "print(targets[:6])"
      ],
      "execution_count": null,
      "outputs": [
        {
          "output_type": "stream",
          "text": [
            "1595    0.602190\n",
            "1462    0.919708\n",
            "2250    0.796296\n",
            "1538    0.937956\n",
            "1587    0.689781\n",
            "2370    0.051852\n",
            "Name: NUM_COLLISIONS, dtype: float64\n"
          ],
          "name": "stdout"
        }
      ]
    },
    {
      "cell_type": "code",
      "metadata": {
        "id": "qc_lC3ce1cba"
      },
      "source": [
        "# scale the data\n",
        "SCALE_NUM_COLLISIONS = 1.0"
      ],
      "execution_count": null,
      "outputs": []
    },
    {
      "cell_type": "code",
      "metadata": {
        "id": "Z9iIE9W01cba"
      },
      "source": [
        "# split data into a training set that is 80% of the full shuffled array\n",
        "trainsize = int(len(shuffle['NUM_COLLISIONS'])*0.8)\n",
        "# subtract training set size from test set to leave 20% of the array\n",
        "testsize = len(shuffle['NUM_COLLISIONS']) - trainsize\n",
        "\n",
        "# set number of input values/predictors\n",
        "nppredictors = 3\n",
        "# set number of output values/targets\n",
        "noutputs = 1"
      ],
      "execution_count": null,
      "outputs": []
    },
    {
      "cell_type": "code",
      "metadata": {
        "colab": {
          "base_uri": "https://localhost:8080/"
        },
        "id": "zSibh7C91cba",
        "outputId": "deb2bf66-19d4-45b0-b7b8-8fe9d0c3ed86"
      },
      "source": [
        "# import tensorflow\n",
        "%tensorflow_version 1.x\n",
        "import tensorflow as tf\n",
        "\n",
        "# check the version\n",
        "print(tf.__version__)\n",
        "\n",
        "import shutil  \n",
        "\n",
        "# logging for tensorflow\n",
        "tf.compat.v1.logging.set_verbosity(tf.compat.v1.logging.INFO)\n",
        "\n",
        "# remove saved model from previous training attempts\n",
        "shutil.rmtree('/tmp/linear_regression_trained_model', ignore_errors=True)\n",
        "\n",
        "estimator = tf.contrib.learn.SKCompat(tf.contrib.learn.LinearRegressor(model_dir='/tmp/linear_regression_trained_model', optimizer=tf.train.AdamOptimizer(learning_rate=0.1), enable_centered_bias=False, feature_columns=tf.contrib.learn.infer_real_valued_columns_from_input(predictors.values)))\n",
        "\n",
        "# show model is beginning to train\n",
        "print(\"starting to train\");\n",
        "\n",
        "# use predictors and target values to train the model\n",
        "estimator.fit(predictors[:trainsize].values, targets[:trainsize].values.reshape(trainsize, noutputs)/SCALE_NUM_COLLISIONS, steps=10000)\n",
        "\n",
        "# check predictors\n",
        "preds = estimator.predict(x=predictors[trainsize:].values)\n",
        "\n",
        "# apply the same scale to the output\n",
        "predslistscale = preds['scores']*SCALE_NUM_COLLISIONS\n",
        "\n",
        "# pred = format(str(predslistscale)) # useful for checking outputs and printing.\n",
        "\n",
        "# calculate RMSE\n",
        "rmse = np.sqrt(np.mean((targets[trainsize:].values - predslistscale)**2))\n",
        "print('LinearRegression has RMSE of {0}'.format(rmse));\n",
        "\n",
        "# calculate mean number of collisions\n",
        "avg = np.mean(shuffle['NUM_COLLISIONS'][:trainsize])\n",
        "\n",
        "# calculate RMSE using the number of collisions and mean of all other values\n",
        "rmse = np.sqrt(np.mean((shuffle['NUM_COLLISIONS'][trainsize:] - avg)**2))\n",
        "print('Just using average = {0} has RMSE of {1}'.format(avg, rmse));\n"
      ],
      "execution_count": null,
      "outputs": [
        {
          "output_type": "stream",
          "text": [
            "1.15.2\n",
            "WARNING:tensorflow:float64 is not supported by many models, consider casting to float32.\n",
            "INFO:tensorflow:Using default config.\n",
            "INFO:tensorflow:Using config: {'_task_type': None, '_task_id': 0, '_cluster_spec': <tensorflow.python.training.server_lib.ClusterSpec object at 0x7efddffcf630>, '_master': '', '_num_ps_replicas': 0, '_num_worker_replicas': 0, '_environment': 'local', '_is_chief': True, '_evaluation_master': '', '_train_distribute': None, '_eval_distribute': None, '_experimental_max_worker_delay_secs': None, '_device_fn': None, '_tf_config': gpu_options {\n",
            "  per_process_gpu_memory_fraction: 1.0\n",
            "}\n",
            ", '_tf_random_seed': None, '_save_summary_steps': 100, '_save_checkpoints_secs': 600, '_log_step_count_steps': 100, '_protocol': None, '_session_config': None, '_save_checkpoints_steps': None, '_keep_checkpoint_max': 5, '_keep_checkpoint_every_n_hours': 10000, '_model_dir': '/tmp/linear_regression_trained_model', '_session_creation_timeout_secs': 7200}\n",
            "starting to train\n",
            "WARNING:tensorflow:float64 is not supported by many models, consider casting to float32.\n",
            "WARNING:tensorflow:float64 is not supported by many models, consider casting to float32.\n",
            "INFO:tensorflow:Create CheckpointSaverHook.\n",
            "INFO:tensorflow:Graph was finalized.\n",
            "INFO:tensorflow:Running local_init_op.\n",
            "INFO:tensorflow:Done running local_init_op.\n",
            "INFO:tensorflow:Saving checkpoints for 0 into /tmp/linear_regression_trained_model/model.ckpt.\n",
            "INFO:tensorflow:loss = 0.30674452, step = 1\n",
            "INFO:tensorflow:global_step/sec: 806.107\n",
            "INFO:tensorflow:loss = 0.06605938, step = 101 (0.127 sec)\n",
            "INFO:tensorflow:global_step/sec: 1000.85\n",
            "INFO:tensorflow:loss = 0.06526933, step = 201 (0.098 sec)\n",
            "INFO:tensorflow:global_step/sec: 983.636\n",
            "INFO:tensorflow:loss = 0.0627835, step = 301 (0.106 sec)\n",
            "INFO:tensorflow:global_step/sec: 903.651\n",
            "INFO:tensorflow:loss = 0.055814527, step = 401 (0.107 sec)\n",
            "INFO:tensorflow:global_step/sec: 979.17\n",
            "INFO:tensorflow:loss = 0.048987005, step = 501 (0.103 sec)\n",
            "INFO:tensorflow:global_step/sec: 986.287\n",
            "INFO:tensorflow:loss = 0.08407198, step = 601 (0.106 sec)\n",
            "INFO:tensorflow:global_step/sec: 964.294\n",
            "INFO:tensorflow:loss = 0.052942134, step = 701 (0.099 sec)\n",
            "INFO:tensorflow:global_step/sec: 983.318\n",
            "INFO:tensorflow:loss = 0.058353394, step = 801 (0.104 sec)\n",
            "INFO:tensorflow:global_step/sec: 763.518\n",
            "INFO:tensorflow:loss = 0.05721809, step = 901 (0.129 sec)\n",
            "INFO:tensorflow:global_step/sec: 796.837\n",
            "INFO:tensorflow:loss = 0.057879064, step = 1001 (0.126 sec)\n",
            "INFO:tensorflow:global_step/sec: 871.527\n",
            "INFO:tensorflow:loss = 0.082505405, step = 1101 (0.117 sec)\n",
            "INFO:tensorflow:global_step/sec: 854.887\n",
            "INFO:tensorflow:loss = 0.05537247, step = 1201 (0.114 sec)\n",
            "INFO:tensorflow:global_step/sec: 961.652\n",
            "INFO:tensorflow:loss = 0.072299026, step = 1301 (0.104 sec)\n",
            "INFO:tensorflow:global_step/sec: 943.218\n",
            "INFO:tensorflow:loss = 0.069135174, step = 1401 (0.107 sec)\n",
            "INFO:tensorflow:global_step/sec: 962.835\n",
            "INFO:tensorflow:loss = 0.08825667, step = 1501 (0.104 sec)\n",
            "INFO:tensorflow:global_step/sec: 971.972\n",
            "INFO:tensorflow:loss = 0.07913376, step = 1601 (0.104 sec)\n",
            "INFO:tensorflow:global_step/sec: 956.848\n",
            "INFO:tensorflow:loss = 0.11516046, step = 1701 (0.104 sec)\n",
            "INFO:tensorflow:global_step/sec: 925.907\n",
            "INFO:tensorflow:loss = 0.0556358, step = 1801 (0.107 sec)\n",
            "INFO:tensorflow:global_step/sec: 873.63\n",
            "INFO:tensorflow:loss = 0.06819879, step = 1901 (0.114 sec)\n",
            "INFO:tensorflow:global_step/sec: 949.644\n",
            "INFO:tensorflow:loss = 0.062166486, step = 2001 (0.105 sec)\n",
            "INFO:tensorflow:global_step/sec: 943.626\n",
            "INFO:tensorflow:loss = 0.06278079, step = 2101 (0.106 sec)\n",
            "INFO:tensorflow:global_step/sec: 919.902\n",
            "INFO:tensorflow:loss = 0.06688112, step = 2201 (0.108 sec)\n",
            "INFO:tensorflow:global_step/sec: 946.364\n",
            "INFO:tensorflow:loss = 0.43479648, step = 2301 (0.106 sec)\n",
            "INFO:tensorflow:global_step/sec: 948.489\n",
            "INFO:tensorflow:loss = 0.05759093, step = 2401 (0.105 sec)\n",
            "INFO:tensorflow:global_step/sec: 901.381\n",
            "INFO:tensorflow:loss = 0.059228733, step = 2501 (0.112 sec)\n",
            "INFO:tensorflow:global_step/sec: 957.713\n",
            "INFO:tensorflow:loss = 0.050695002, step = 2601 (0.106 sec)\n",
            "INFO:tensorflow:global_step/sec: 930.25\n",
            "INFO:tensorflow:loss = 0.05631797, step = 2701 (0.105 sec)\n",
            "INFO:tensorflow:global_step/sec: 780.642\n",
            "INFO:tensorflow:loss = 0.07210533, step = 2801 (0.128 sec)\n",
            "INFO:tensorflow:global_step/sec: 842.66\n",
            "INFO:tensorflow:loss = 0.06097919, step = 2901 (0.118 sec)\n",
            "INFO:tensorflow:global_step/sec: 913.953\n",
            "INFO:tensorflow:loss = 0.19777574, step = 3001 (0.109 sec)\n",
            "INFO:tensorflow:global_step/sec: 956.422\n",
            "INFO:tensorflow:loss = 0.08547379, step = 3101 (0.106 sec)\n",
            "INFO:tensorflow:global_step/sec: 962.966\n",
            "INFO:tensorflow:loss = 0.06265118, step = 3201 (0.102 sec)\n",
            "INFO:tensorflow:global_step/sec: 988.71\n",
            "INFO:tensorflow:loss = 0.15311477, step = 3301 (0.102 sec)\n",
            "INFO:tensorflow:global_step/sec: 974.255\n",
            "INFO:tensorflow:loss = 0.14961457, step = 3401 (0.103 sec)\n",
            "INFO:tensorflow:global_step/sec: 994.941\n",
            "INFO:tensorflow:loss = 0.07710777, step = 3501 (0.099 sec)\n",
            "INFO:tensorflow:global_step/sec: 975.2\n",
            "INFO:tensorflow:loss = 0.03901871, step = 3601 (0.103 sec)\n",
            "INFO:tensorflow:global_step/sec: 989.12\n",
            "INFO:tensorflow:loss = 0.072537914, step = 3701 (0.101 sec)\n",
            "INFO:tensorflow:global_step/sec: 922.18\n",
            "INFO:tensorflow:loss = 0.12678313, step = 3801 (0.108 sec)\n",
            "INFO:tensorflow:global_step/sec: 978.64\n",
            "INFO:tensorflow:loss = 0.1007303, step = 3901 (0.103 sec)\n",
            "INFO:tensorflow:global_step/sec: 943.375\n",
            "INFO:tensorflow:loss = 0.09810227, step = 4001 (0.105 sec)\n",
            "INFO:tensorflow:global_step/sec: 929.89\n",
            "INFO:tensorflow:loss = 0.059158046, step = 4101 (0.107 sec)\n",
            "INFO:tensorflow:global_step/sec: 969.734\n",
            "INFO:tensorflow:loss = 0.2689434, step = 4201 (0.103 sec)\n",
            "INFO:tensorflow:global_step/sec: 940.088\n",
            "INFO:tensorflow:loss = 0.07067486, step = 4301 (0.106 sec)\n",
            "INFO:tensorflow:global_step/sec: 934.077\n",
            "INFO:tensorflow:loss = 0.0647785, step = 4401 (0.107 sec)\n",
            "INFO:tensorflow:global_step/sec: 896.368\n",
            "INFO:tensorflow:loss = 0.1306405, step = 4501 (0.113 sec)\n",
            "INFO:tensorflow:global_step/sec: 843.293\n",
            "INFO:tensorflow:loss = 0.062326863, step = 4601 (0.118 sec)\n",
            "INFO:tensorflow:global_step/sec: 828.539\n",
            "INFO:tensorflow:loss = 0.07961589, step = 4701 (0.120 sec)\n",
            "INFO:tensorflow:global_step/sec: 904.879\n",
            "INFO:tensorflow:loss = 0.13067764, step = 4801 (0.113 sec)\n",
            "INFO:tensorflow:global_step/sec: 914.314\n",
            "INFO:tensorflow:loss = 0.09291155, step = 4901 (0.106 sec)\n",
            "INFO:tensorflow:global_step/sec: 983.964\n",
            "INFO:tensorflow:loss = 0.067326546, step = 5001 (0.102 sec)\n",
            "INFO:tensorflow:global_step/sec: 983.911\n",
            "INFO:tensorflow:loss = 0.11745715, step = 5101 (0.103 sec)\n",
            "INFO:tensorflow:global_step/sec: 972.908\n",
            "INFO:tensorflow:loss = 0.07276073, step = 5201 (0.101 sec)\n",
            "INFO:tensorflow:global_step/sec: 1019.87\n",
            "INFO:tensorflow:loss = 0.13723043, step = 5301 (0.102 sec)\n",
            "INFO:tensorflow:global_step/sec: 950.01\n",
            "INFO:tensorflow:loss = 0.0580602, step = 5401 (0.103 sec)\n",
            "INFO:tensorflow:global_step/sec: 963.616\n",
            "INFO:tensorflow:loss = 0.0733503, step = 5501 (0.104 sec)\n",
            "INFO:tensorflow:global_step/sec: 956.979\n",
            "INFO:tensorflow:loss = 0.061764803, step = 5601 (0.103 sec)\n",
            "INFO:tensorflow:global_step/sec: 944.427\n",
            "INFO:tensorflow:loss = 0.062299386, step = 5701 (0.106 sec)\n",
            "INFO:tensorflow:global_step/sec: 987.939\n",
            "INFO:tensorflow:loss = 0.046553425, step = 5801 (0.104 sec)\n",
            "INFO:tensorflow:global_step/sec: 927.882\n",
            "INFO:tensorflow:loss = 0.08493375, step = 5901 (0.105 sec)\n",
            "INFO:tensorflow:global_step/sec: 990.524\n",
            "INFO:tensorflow:loss = 0.11075401, step = 6001 (0.101 sec)\n",
            "INFO:tensorflow:global_step/sec: 905.811\n",
            "INFO:tensorflow:loss = 0.07427633, step = 6101 (0.111 sec)\n",
            "INFO:tensorflow:global_step/sec: 932.007\n",
            "INFO:tensorflow:loss = 0.05917205, step = 6201 (0.107 sec)\n",
            "INFO:tensorflow:global_step/sec: 974.081\n",
            "INFO:tensorflow:loss = 0.09912585, step = 6301 (0.102 sec)\n",
            "INFO:tensorflow:global_step/sec: 911.914\n",
            "INFO:tensorflow:loss = 0.08926949, step = 6401 (0.110 sec)\n",
            "INFO:tensorflow:global_step/sec: 993.85\n",
            "INFO:tensorflow:loss = 0.22282547, step = 6501 (0.101 sec)\n",
            "INFO:tensorflow:global_step/sec: 865.985\n",
            "INFO:tensorflow:loss = 0.107060656, step = 6601 (0.118 sec)\n",
            "INFO:tensorflow:global_step/sec: 863.969\n",
            "INFO:tensorflow:loss = 0.08106981, step = 6701 (0.113 sec)\n",
            "INFO:tensorflow:global_step/sec: 984.412\n",
            "INFO:tensorflow:loss = 0.088357046, step = 6801 (0.101 sec)\n",
            "INFO:tensorflow:global_step/sec: 897.869\n",
            "INFO:tensorflow:loss = 0.11640106, step = 6901 (0.111 sec)\n",
            "INFO:tensorflow:global_step/sec: 897.058\n",
            "INFO:tensorflow:loss = 0.04028128, step = 7001 (0.114 sec)\n",
            "INFO:tensorflow:global_step/sec: 866.092\n",
            "INFO:tensorflow:loss = 0.19664219, step = 7101 (0.113 sec)\n",
            "INFO:tensorflow:global_step/sec: 987.583\n",
            "INFO:tensorflow:loss = 0.08535658, step = 7201 (0.100 sec)\n",
            "INFO:tensorflow:global_step/sec: 942.597\n",
            "INFO:tensorflow:loss = 0.07469222, step = 7301 (0.106 sec)\n",
            "INFO:tensorflow:global_step/sec: 956.006\n",
            "INFO:tensorflow:loss = 0.24512683, step = 7401 (0.105 sec)\n",
            "INFO:tensorflow:global_step/sec: 964.583\n",
            "INFO:tensorflow:loss = 0.13721465, step = 7501 (0.104 sec)\n",
            "INFO:tensorflow:global_step/sec: 847.779\n",
            "INFO:tensorflow:loss = 0.06999472, step = 7601 (0.121 sec)\n",
            "INFO:tensorflow:global_step/sec: 934.256\n",
            "INFO:tensorflow:loss = 0.060676098, step = 7701 (0.104 sec)\n",
            "INFO:tensorflow:global_step/sec: 979.042\n",
            "INFO:tensorflow:loss = 0.0618957, step = 7801 (0.101 sec)\n",
            "INFO:tensorflow:global_step/sec: 960.965\n",
            "INFO:tensorflow:loss = 0.054578833, step = 7901 (0.104 sec)\n",
            "INFO:tensorflow:global_step/sec: 1006.45\n",
            "INFO:tensorflow:loss = 0.05893874, step = 8001 (0.101 sec)\n",
            "INFO:tensorflow:global_step/sec: 1003.06\n",
            "INFO:tensorflow:loss = 0.10473113, step = 8101 (0.101 sec)\n",
            "INFO:tensorflow:global_step/sec: 952.385\n",
            "INFO:tensorflow:loss = 0.15197358, step = 8201 (0.105 sec)\n",
            "INFO:tensorflow:global_step/sec: 992.652\n",
            "INFO:tensorflow:loss = 0.09416011, step = 8301 (0.098 sec)\n",
            "INFO:tensorflow:global_step/sec: 977.554\n",
            "INFO:tensorflow:loss = 0.0684769, step = 8401 (0.102 sec)\n",
            "INFO:tensorflow:global_step/sec: 891.129\n",
            "INFO:tensorflow:loss = 0.06852698, step = 8501 (0.114 sec)\n",
            "INFO:tensorflow:global_step/sec: 972.527\n",
            "INFO:tensorflow:loss = 0.06558812, step = 8601 (0.101 sec)\n",
            "INFO:tensorflow:global_step/sec: 926.601\n",
            "INFO:tensorflow:loss = 0.13119723, step = 8701 (0.109 sec)\n",
            "INFO:tensorflow:global_step/sec: 914.994\n",
            "INFO:tensorflow:loss = 0.17047727, step = 8801 (0.111 sec)\n",
            "INFO:tensorflow:global_step/sec: 876.575\n",
            "INFO:tensorflow:loss = 0.05016754, step = 8901 (0.114 sec)\n",
            "INFO:tensorflow:global_step/sec: 890.342\n",
            "INFO:tensorflow:loss = 0.18586728, step = 9001 (0.111 sec)\n",
            "INFO:tensorflow:global_step/sec: 889.966\n",
            "INFO:tensorflow:loss = 0.05954077, step = 9101 (0.120 sec)\n",
            "INFO:tensorflow:global_step/sec: 851.056\n",
            "INFO:tensorflow:loss = 0.09979944, step = 9201 (0.108 sec)\n",
            "INFO:tensorflow:global_step/sec: 866.139\n",
            "INFO:tensorflow:loss = 0.1212146, step = 9301 (0.118 sec)\n",
            "INFO:tensorflow:global_step/sec: 938.067\n",
            "INFO:tensorflow:loss = 0.19704661, step = 9401 (0.110 sec)\n",
            "INFO:tensorflow:global_step/sec: 910.718\n",
            "INFO:tensorflow:loss = 0.10554154, step = 9501 (0.103 sec)\n",
            "INFO:tensorflow:global_step/sec: 898.303\n",
            "INFO:tensorflow:loss = 0.04972416, step = 9601 (0.114 sec)\n",
            "INFO:tensorflow:global_step/sec: 950.335\n",
            "INFO:tensorflow:loss = 0.057636365, step = 9701 (0.104 sec)\n",
            "INFO:tensorflow:global_step/sec: 921.38\n",
            "INFO:tensorflow:loss = 0.064139865, step = 9801 (0.111 sec)\n",
            "INFO:tensorflow:global_step/sec: 893.664\n",
            "INFO:tensorflow:loss = 0.26368767, step = 9901 (0.113 sec)\n",
            "INFO:tensorflow:Saving checkpoints for 10000 into /tmp/linear_regression_trained_model/model.ckpt.\n",
            "INFO:tensorflow:Loss for final step: 0.076792225.\n",
            "WARNING:tensorflow:float64 is not supported by many models, consider casting to float32.\n",
            "INFO:tensorflow:Graph was finalized.\n",
            "INFO:tensorflow:Restoring parameters from /tmp/linear_regression_trained_model/model.ckpt-10000\n",
            "INFO:tensorflow:Running local_init_op.\n",
            "INFO:tensorflow:Done running local_init_op.\n",
            "LinearRegression has RMSE of 0.2572608127245344\n",
            "Just using average = 0.5208670598942228 has RMSE of 0.27335622605446985\n"
          ],
          "name": "stdout"
        }
      ]
    },
    {
      "cell_type": "markdown",
      "metadata": {
        "id": "J51-HMBW1xxB"
      },
      "source": [
        "The RMSE for data from 2016-18 often appears higher than previous years, which can be attributed to higher fluctuations in data and greater number of values gathered. An RMSE of around 0.26 is most useful for making accurate predictions."
      ]
    },
    {
      "cell_type": "code",
      "metadata": {
        "colab": {
          "base_uri": "https://localhost:8080/"
        },
        "id": "-ES3u4i31cba",
        "outputId": "d97eb55c-7059-419a-f6a7-787a3b75d5bd"
      },
      "source": [
        "input = pd.DataFrame.from_dict(data = \n",
        "\t\t\t\t{'day' : [1,1,1],\n",
        "         'mo' : [1, 5, 8],\n",
        "         'temp' : [8.9, 20.5, 54.0]})\n",
        "\t\t\t\t\t\n",
        "\n",
        "estimator = tf.contrib.learn.SKCompat(tf.contrib.learn.LinearRegressor(model_dir='/tmp/linear_regression_trained_model', enable_centered_bias=False, feature_columns=tf.contrib.learn.infer_real_valued_columns_from_input(input.values)))\n",
        "\n",
        "preds = estimator.predict(x=input.values)\n",
        "predslistscale = preds['scores']*SCALE_NUM_COLLISIONS\n",
        "pred = format(str(predslistscale))\n",
        "print(pred)"
      ],
      "execution_count": null,
      "outputs": [
        {
          "output_type": "stream",
          "text": [
            "WARNING:tensorflow:float64 is not supported by many models, consider casting to float32.\n",
            "INFO:tensorflow:Using default config.\n",
            "INFO:tensorflow:Using config: {'_task_type': None, '_task_id': 0, '_cluster_spec': <tensorflow.python.training.server_lib.ClusterSpec object at 0x7efddfc61710>, '_master': '', '_num_ps_replicas': 0, '_num_worker_replicas': 0, '_environment': 'local', '_is_chief': True, '_evaluation_master': '', '_train_distribute': None, '_eval_distribute': None, '_experimental_max_worker_delay_secs': None, '_device_fn': None, '_tf_config': gpu_options {\n",
            "  per_process_gpu_memory_fraction: 1.0\n",
            "}\n",
            ", '_tf_random_seed': None, '_save_summary_steps': 100, '_save_checkpoints_secs': 600, '_log_step_count_steps': 100, '_protocol': None, '_session_config': None, '_save_checkpoints_steps': None, '_keep_checkpoint_max': 5, '_keep_checkpoint_every_n_hours': 10000, '_model_dir': '/tmp/linear_regression_trained_model', '_session_creation_timeout_secs': 7200}\n",
            "WARNING:tensorflow:float64 is not supported by many models, consider casting to float32.\n",
            "INFO:tensorflow:Graph was finalized.\n",
            "INFO:tensorflow:Restoring parameters from /tmp/linear_regression_trained_model/model.ckpt-10000\n",
            "INFO:tensorflow:Running local_init_op.\n",
            "INFO:tensorflow:Done running local_init_op.\n",
            "[0.52261543 0.5899744  0.72763   ]\n"
          ],
          "name": "stdout"
        }
      ]
    },
    {
      "cell_type": "markdown",
      "metadata": {
        "id": "QwK3Uv1217xI"
      },
      "source": [
        "A regression model with relatively low RMSE predicts suitable values for each of the input values that rise throughout the year, although compared to the 2013-15 model (and depending on the shuffled input values) it shows wider variability between the highest and lowest values - mirroring the wider spread in collision numbers throughout these years."
      ]
    },
    {
      "cell_type": "markdown",
      "metadata": {
        "id": "irgupfrU2TdY"
      },
      "source": [
        "### 2019"
      ]
    },
    {
      "cell_type": "code",
      "metadata": {
        "id": "ExV3P7tg2PY5"
      },
      "source": [
        "# needed to create the data frame\n",
        "import pandas as pd\n",
        "\n",
        "# create the dataframe from 2019 csv file\n",
        "df = pd.read_csv('https://raw.githubusercontent.com/15007919uhi/15007919_DataAnalytics/master/lineardata19.csv', index_col=0, )"
      ],
      "execution_count": null,
      "outputs": []
    },
    {
      "cell_type": "code",
      "metadata": {
        "colab": {
          "base_uri": "https://localhost:8080/"
        },
        "id": "aht-as4y2PY6",
        "outputId": "0ad07319-31f1-46e4-c13d-cab17db33867"
      },
      "source": [
        "# check the data is correct\n",
        "print(df[:6])\n",
        "# print(df) #all"
      ],
      "execution_count": null,
      "outputs": [
        {
          "output_type": "stream",
          "text": [
            "      day  mo  temp  dewp   max   min  NUM_COLLISIONS\n",
            "2376    2   1  47.4  41.6  54.0  39.9        0.083095\n",
            "2377    3   1  35.0  23.4  55.0  28.0        0.292264\n",
            "2378    4   1  39.4  32.9  46.9  28.0        0.297994\n",
            "2379    5   1  39.0  30.2  46.9  30.9        0.567335\n",
            "2380    6   1  43.8  42.4  46.9  30.9        0.157593\n",
            "2382    1   1  27.4  11.7  45.0  21.9        0.524355\n"
          ],
          "name": "stdout"
        }
      ]
    },
    {
      "cell_type": "code",
      "metadata": {
        "colab": {
          "base_uri": "https://localhost:8080/"
        },
        "id": "1uMT4yrM2PY6",
        "outputId": "1bea5106-77c8-48a0-e402-906fb7be5c43"
      },
      "source": [
        "# needed for calculations\n",
        "import numpy as np\n",
        "\n",
        "# shuffle rows at random\n",
        "shuffle = df.iloc[np.random.permutation(len(df))]\n",
        "\n",
        "# specify the column to select all rows from\n",
        "predictors = shuffle.iloc[:,0:3]\n",
        "\n",
        "# print the first 6 rows of the predictors\n",
        "print(predictors[:6])"
      ],
      "execution_count": null,
      "outputs": [
        {
          "output_type": "stream",
          "text": [
            "      day  mo  temp\n",
            "2555    6   6  65.8\n",
            "2442    5   3  27.2\n",
            "2479    7   4  50.8\n",
            "2671    3  10  61.4\n",
            "2432    2   2  29.2\n",
            "2453    2   3  35.2\n"
          ],
          "name": "stdout"
        }
      ]
    },
    {
      "cell_type": "code",
      "metadata": {
        "colab": {
          "base_uri": "https://localhost:8080/",
          "height": 204
        },
        "id": "20NcClb_2PY6",
        "outputId": "a4935a98-4cdd-465f-f638-d206f4449232"
      },
      "source": [
        "# print the first five rows of the shuffled data\n",
        "shuffle[:5]"
      ],
      "execution_count": null,
      "outputs": [
        {
          "output_type": "execute_result",
          "data": {
            "text/html": [
              "<div>\n",
              "<style scoped>\n",
              "    .dataframe tbody tr th:only-of-type {\n",
              "        vertical-align: middle;\n",
              "    }\n",
              "\n",
              "    .dataframe tbody tr th {\n",
              "        vertical-align: top;\n",
              "    }\n",
              "\n",
              "    .dataframe thead th {\n",
              "        text-align: right;\n",
              "    }\n",
              "</style>\n",
              "<table border=\"1\" class=\"dataframe\">\n",
              "  <thead>\n",
              "    <tr style=\"text-align: right;\">\n",
              "      <th></th>\n",
              "      <th>day</th>\n",
              "      <th>mo</th>\n",
              "      <th>temp</th>\n",
              "      <th>dewp</th>\n",
              "      <th>max</th>\n",
              "      <th>min</th>\n",
              "      <th>NUM_COLLISIONS</th>\n",
              "    </tr>\n",
              "  </thead>\n",
              "  <tbody>\n",
              "    <tr>\n",
              "      <th>2555</th>\n",
              "      <td>6</td>\n",
              "      <td>6</td>\n",
              "      <td>65.8</td>\n",
              "      <td>63.5</td>\n",
              "      <td>80.1</td>\n",
              "      <td>57.9</td>\n",
              "      <td>0.744986</td>\n",
              "    </tr>\n",
              "    <tr>\n",
              "      <th>2442</th>\n",
              "      <td>5</td>\n",
              "      <td>3</td>\n",
              "      <td>27.2</td>\n",
              "      <td>10.7</td>\n",
              "      <td>35.1</td>\n",
              "      <td>15.1</td>\n",
              "      <td>0.722063</td>\n",
              "    </tr>\n",
              "    <tr>\n",
              "      <th>2479</th>\n",
              "      <td>7</td>\n",
              "      <td>4</td>\n",
              "      <td>50.8</td>\n",
              "      <td>48.7</td>\n",
              "      <td>68.0</td>\n",
              "      <td>45.0</td>\n",
              "      <td>0.163324</td>\n",
              "    </tr>\n",
              "    <tr>\n",
              "      <th>2671</th>\n",
              "      <td>3</td>\n",
              "      <td>10</td>\n",
              "      <td>61.4</td>\n",
              "      <td>57.7</td>\n",
              "      <td>68.0</td>\n",
              "      <td>53.1</td>\n",
              "      <td>0.770774</td>\n",
              "    </tr>\n",
              "    <tr>\n",
              "      <th>2432</th>\n",
              "      <td>2</td>\n",
              "      <td>2</td>\n",
              "      <td>29.2</td>\n",
              "      <td>6.8</td>\n",
              "      <td>42.1</td>\n",
              "      <td>26.1</td>\n",
              "      <td>0.773639</td>\n",
              "    </tr>\n",
              "  </tbody>\n",
              "</table>\n",
              "</div>"
            ],
            "text/plain": [
              "      day  mo  temp  dewp   max   min  NUM_COLLISIONS\n",
              "2555    6   6  65.8  63.5  80.1  57.9        0.744986\n",
              "2442    5   3  27.2  10.7  35.1  15.1        0.722063\n",
              "2479    7   4  50.8  48.7  68.0  45.0        0.163324\n",
              "2671    3  10  61.4  57.7  68.0  53.1        0.770774\n",
              "2432    2   2  29.2   6.8  42.1  26.1        0.773639"
            ]
          },
          "metadata": {
            "tags": []
          },
          "execution_count": 84
        }
      ]
    },
    {
      "cell_type": "code",
      "metadata": {
        "colab": {
          "base_uri": "https://localhost:8080/"
        },
        "id": "Qkr6z7cl2PY6",
        "outputId": "365a547a-9f6b-40c7-d5d7-b2ca2da03c94"
      },
      "source": [
        "# select all rows of the specified column\n",
        "targets = shuffle.iloc[:,-1]\n",
        "\n",
        "# print the first 6 rows of the targets\n",
        "print(targets[:6])"
      ],
      "execution_count": null,
      "outputs": [
        {
          "output_type": "stream",
          "text": [
            "2555    0.744986\n",
            "2442    0.722063\n",
            "2479    0.163324\n",
            "2671    0.770774\n",
            "2432    0.773639\n",
            "2453    0.472779\n",
            "Name: NUM_COLLISIONS, dtype: float64\n"
          ],
          "name": "stdout"
        }
      ]
    },
    {
      "cell_type": "code",
      "metadata": {
        "id": "eyOiqL5P2PY6"
      },
      "source": [
        "# scale the data\n",
        "SCALE_NUM_COLLISIONS = 1.0"
      ],
      "execution_count": null,
      "outputs": []
    },
    {
      "cell_type": "code",
      "metadata": {
        "id": "fP7SLoNZ2PY7"
      },
      "source": [
        "# split data into a training set that is 80% of the full shuffled array\n",
        "trainsize = int(len(shuffle['NUM_COLLISIONS'])*0.8)\n",
        "# subtract training set size from test set to leave 20% of the array\n",
        "testsize = len(shuffle['NUM_COLLISIONS']) - trainsize\n",
        "\n",
        "# set number of input values/predictors\n",
        "nppredictors = 3\n",
        "# set number of output values/targets\n",
        "noutputs = 1"
      ],
      "execution_count": null,
      "outputs": []
    },
    {
      "cell_type": "code",
      "metadata": {
        "colab": {
          "base_uri": "https://localhost:8080/"
        },
        "id": "U8c9lMn-2PY7",
        "outputId": "81118308-e328-4820-f3f9-d38785e0f8d3"
      },
      "source": [
        "# import tensorflow\n",
        "%tensorflow_version 1.x\n",
        "import tensorflow as tf\n",
        "\n",
        "# check the version\n",
        "print(tf.__version__)\n",
        "\n",
        "import shutil  \n",
        "\n",
        "# logging for tensorflow\n",
        "tf.compat.v1.logging.set_verbosity(tf.compat.v1.logging.INFO)\n",
        "\n",
        "# remove saved model from previous training attempts\n",
        "shutil.rmtree('/tmp/linear_regression_trained_model', ignore_errors=True)\n",
        "\n",
        "estimator = tf.contrib.learn.SKCompat(tf.contrib.learn.LinearRegressor(model_dir='/tmp/linear_regression_trained_model', optimizer=tf.train.AdamOptimizer(learning_rate=0.1), enable_centered_bias=False, feature_columns=tf.contrib.learn.infer_real_valued_columns_from_input(predictors.values)))\n",
        "\n",
        "# show model is beginning to train\n",
        "print(\"starting to train\");\n",
        "\n",
        "# use predictors and target values to train the model\n",
        "estimator.fit(predictors[:trainsize].values, targets[:trainsize].values.reshape(trainsize, noutputs)/SCALE_NUM_COLLISIONS, steps=10000)\n",
        "\n",
        "# check predictors\n",
        "preds = estimator.predict(x=predictors[trainsize:].values)\n",
        "\n",
        "# apply the same scale to the output\n",
        "predslistscale = preds['scores']*SCALE_NUM_COLLISIONS\n",
        "\n",
        "# pred = format(str(predslistscale)) # useful for checking outputs and printing.\n",
        "\n",
        "# calculate RMSE\n",
        "rmse = np.sqrt(np.mean((targets[trainsize:].values - predslistscale)**2))\n",
        "print('LinearRegression has RMSE of {0}'.format(rmse));\n",
        "\n",
        "# calculate mean number of collisions\n",
        "avg = np.mean(shuffle['NUM_COLLISIONS'][:trainsize])\n",
        "\n",
        "# calculate RMSE using the number of collisions and mean of all other values\n",
        "rmse = np.sqrt(np.mean((shuffle['NUM_COLLISIONS'][trainsize:] - avg)**2))\n",
        "print('Just using average = {0} has RMSE of {1}'.format(avg, rmse));\n"
      ],
      "execution_count": null,
      "outputs": [
        {
          "output_type": "stream",
          "text": [
            "1.15.2\n",
            "WARNING:tensorflow:float64 is not supported by many models, consider casting to float32.\n",
            "INFO:tensorflow:Using default config.\n",
            "INFO:tensorflow:Using config: {'_task_type': None, '_task_id': 0, '_cluster_spec': <tensorflow.python.training.server_lib.ClusterSpec object at 0x7f9d9ec56be0>, '_master': '', '_num_ps_replicas': 0, '_num_worker_replicas': 0, '_environment': 'local', '_is_chief': True, '_evaluation_master': '', '_train_distribute': None, '_eval_distribute': None, '_experimental_max_worker_delay_secs': None, '_device_fn': None, '_tf_config': gpu_options {\n",
            "  per_process_gpu_memory_fraction: 1.0\n",
            "}\n",
            ", '_tf_random_seed': None, '_save_summary_steps': 100, '_save_checkpoints_secs': 600, '_log_step_count_steps': 100, '_protocol': None, '_session_config': None, '_save_checkpoints_steps': None, '_keep_checkpoint_max': 5, '_keep_checkpoint_every_n_hours': 10000, '_model_dir': '/tmp/linear_regression_trained_model', '_session_creation_timeout_secs': 7200}\n",
            "starting to train\n",
            "WARNING:tensorflow:float64 is not supported by many models, consider casting to float32.\n",
            "WARNING:tensorflow:float64 is not supported by many models, consider casting to float32.\n",
            "INFO:tensorflow:Create CheckpointSaverHook.\n",
            "INFO:tensorflow:Graph was finalized.\n",
            "INFO:tensorflow:Running local_init_op.\n",
            "INFO:tensorflow:Done running local_init_op.\n",
            "INFO:tensorflow:Saving checkpoints for 0 into /tmp/linear_regression_trained_model/model.ckpt.\n",
            "INFO:tensorflow:loss = 0.32404655, step = 1\n",
            "INFO:tensorflow:global_step/sec: 788.456\n",
            "INFO:tensorflow:loss = 0.054508224, step = 101 (0.131 sec)\n",
            "INFO:tensorflow:global_step/sec: 973.055\n",
            "INFO:tensorflow:loss = 0.037839673, step = 201 (0.102 sec)\n",
            "INFO:tensorflow:global_step/sec: 950.876\n",
            "INFO:tensorflow:loss = 0.048977148, step = 301 (0.104 sec)\n",
            "INFO:tensorflow:global_step/sec: 1043.33\n",
            "INFO:tensorflow:loss = 0.04423264, step = 401 (0.098 sec)\n",
            "INFO:tensorflow:global_step/sec: 993.334\n",
            "INFO:tensorflow:loss = 0.046145555, step = 501 (0.099 sec)\n",
            "INFO:tensorflow:global_step/sec: 982.358\n",
            "INFO:tensorflow:loss = 0.046943933, step = 601 (0.102 sec)\n",
            "INFO:tensorflow:global_step/sec: 975.277\n",
            "INFO:tensorflow:loss = 0.04982946, step = 701 (0.101 sec)\n",
            "INFO:tensorflow:global_step/sec: 1011.93\n",
            "INFO:tensorflow:loss = 0.061571915, step = 801 (0.103 sec)\n",
            "INFO:tensorflow:global_step/sec: 1021.5\n",
            "INFO:tensorflow:loss = 0.12302978, step = 901 (0.095 sec)\n",
            "INFO:tensorflow:global_step/sec: 965.711\n",
            "INFO:tensorflow:loss = 0.0476862, step = 1001 (0.103 sec)\n",
            "INFO:tensorflow:global_step/sec: 1032.3\n",
            "INFO:tensorflow:loss = 0.051879708, step = 1101 (0.096 sec)\n",
            "INFO:tensorflow:global_step/sec: 972.011\n",
            "INFO:tensorflow:loss = 0.07163229, step = 1201 (0.102 sec)\n",
            "INFO:tensorflow:global_step/sec: 937.769\n",
            "INFO:tensorflow:loss = 0.06224063, step = 1301 (0.108 sec)\n",
            "INFO:tensorflow:global_step/sec: 940.071\n",
            "INFO:tensorflow:loss = 0.063218035, step = 1401 (0.106 sec)\n",
            "INFO:tensorflow:global_step/sec: 1013.41\n",
            "INFO:tensorflow:loss = 0.24757409, step = 1501 (0.098 sec)\n",
            "INFO:tensorflow:global_step/sec: 962.917\n",
            "INFO:tensorflow:loss = 0.05890206, step = 1601 (0.105 sec)\n",
            "INFO:tensorflow:global_step/sec: 1000.13\n",
            "INFO:tensorflow:loss = 0.056070603, step = 1701 (0.103 sec)\n",
            "INFO:tensorflow:global_step/sec: 956.75\n",
            "INFO:tensorflow:loss = 0.116585985, step = 1801 (0.104 sec)\n",
            "INFO:tensorflow:global_step/sec: 866.406\n",
            "INFO:tensorflow:loss = 0.066434145, step = 1901 (0.114 sec)\n",
            "INFO:tensorflow:global_step/sec: 957.429\n",
            "INFO:tensorflow:loss = 0.043474782, step = 2001 (0.105 sec)\n",
            "INFO:tensorflow:global_step/sec: 925.05\n",
            "INFO:tensorflow:loss = 0.059077952, step = 2101 (0.106 sec)\n",
            "INFO:tensorflow:global_step/sec: 1010.23\n",
            "INFO:tensorflow:loss = 0.049126238, step = 2201 (0.099 sec)\n",
            "INFO:tensorflow:global_step/sec: 915.393\n",
            "INFO:tensorflow:loss = 0.06311963, step = 2301 (0.109 sec)\n",
            "INFO:tensorflow:global_step/sec: 988.849\n",
            "INFO:tensorflow:loss = 0.18622595, step = 2401 (0.100 sec)\n",
            "INFO:tensorflow:global_step/sec: 989.412\n",
            "INFO:tensorflow:loss = 0.051170014, step = 2501 (0.102 sec)\n",
            "INFO:tensorflow:global_step/sec: 981.689\n",
            "INFO:tensorflow:loss = 0.02995683, step = 2601 (0.104 sec)\n",
            "INFO:tensorflow:global_step/sec: 1010.33\n",
            "INFO:tensorflow:loss = 0.19153817, step = 2701 (0.099 sec)\n",
            "INFO:tensorflow:global_step/sec: 981.659\n",
            "INFO:tensorflow:loss = 0.07527706, step = 2801 (0.100 sec)\n",
            "INFO:tensorflow:global_step/sec: 821.295\n",
            "INFO:tensorflow:loss = 0.045743674, step = 2901 (0.122 sec)\n",
            "INFO:tensorflow:global_step/sec: 973.685\n",
            "INFO:tensorflow:loss = 0.08747494, step = 3001 (0.105 sec)\n",
            "INFO:tensorflow:global_step/sec: 991.493\n",
            "INFO:tensorflow:loss = 0.63069427, step = 3101 (0.099 sec)\n",
            "INFO:tensorflow:global_step/sec: 854.028\n",
            "INFO:tensorflow:loss = 0.06719449, step = 3201 (0.119 sec)\n",
            "INFO:tensorflow:global_step/sec: 899.519\n",
            "INFO:tensorflow:loss = 0.17481765, step = 3301 (0.109 sec)\n",
            "INFO:tensorflow:global_step/sec: 945.016\n",
            "INFO:tensorflow:loss = 0.047829006, step = 3401 (0.108 sec)\n",
            "INFO:tensorflow:global_step/sec: 907.648\n",
            "INFO:tensorflow:loss = 0.03242912, step = 3501 (0.108 sec)\n",
            "INFO:tensorflow:global_step/sec: 1009.98\n",
            "INFO:tensorflow:loss = 0.040367026, step = 3601 (0.099 sec)\n",
            "INFO:tensorflow:global_step/sec: 983.18\n",
            "INFO:tensorflow:loss = 0.048714507, step = 3701 (0.107 sec)\n",
            "INFO:tensorflow:global_step/sec: 970.502\n",
            "INFO:tensorflow:loss = 0.06398392, step = 3801 (0.100 sec)\n",
            "INFO:tensorflow:global_step/sec: 888.759\n",
            "INFO:tensorflow:loss = 0.09668481, step = 3901 (0.113 sec)\n",
            "INFO:tensorflow:global_step/sec: 969.129\n",
            "INFO:tensorflow:loss = 0.12043877, step = 4001 (0.101 sec)\n",
            "INFO:tensorflow:global_step/sec: 996.494\n",
            "INFO:tensorflow:loss = 0.041828394, step = 4101 (0.102 sec)\n",
            "INFO:tensorflow:global_step/sec: 935.087\n",
            "INFO:tensorflow:loss = 0.09574228, step = 4201 (0.106 sec)\n",
            "INFO:tensorflow:global_step/sec: 1005.61\n",
            "INFO:tensorflow:loss = 0.08444171, step = 4301 (0.099 sec)\n",
            "INFO:tensorflow:global_step/sec: 1031.44\n",
            "INFO:tensorflow:loss = 0.44490018, step = 4401 (0.099 sec)\n",
            "INFO:tensorflow:global_step/sec: 963.132\n",
            "INFO:tensorflow:loss = 0.03673905, step = 4501 (0.101 sec)\n",
            "INFO:tensorflow:global_step/sec: 1006.77\n",
            "INFO:tensorflow:loss = 0.22609279, step = 4601 (0.102 sec)\n",
            "INFO:tensorflow:global_step/sec: 963.889\n",
            "INFO:tensorflow:loss = 0.13603757, step = 4701 (0.103 sec)\n",
            "INFO:tensorflow:global_step/sec: 1002.01\n",
            "INFO:tensorflow:loss = 0.04805453, step = 4801 (0.101 sec)\n",
            "INFO:tensorflow:global_step/sec: 966.265\n",
            "INFO:tensorflow:loss = 0.050540008, step = 4901 (0.101 sec)\n",
            "INFO:tensorflow:global_step/sec: 1004.24\n",
            "INFO:tensorflow:loss = 0.037784882, step = 5001 (0.102 sec)\n",
            "INFO:tensorflow:global_step/sec: 866.479\n",
            "INFO:tensorflow:loss = 0.044621784, step = 5101 (0.118 sec)\n",
            "INFO:tensorflow:global_step/sec: 867.423\n",
            "INFO:tensorflow:loss = 0.06761133, step = 5201 (0.110 sec)\n",
            "INFO:tensorflow:global_step/sec: 903.322\n",
            "INFO:tensorflow:loss = 0.05983777, step = 5301 (0.114 sec)\n",
            "INFO:tensorflow:global_step/sec: 955.207\n",
            "INFO:tensorflow:loss = 0.10057338, step = 5401 (0.102 sec)\n",
            "INFO:tensorflow:global_step/sec: 990.419\n",
            "INFO:tensorflow:loss = 0.045856338, step = 5501 (0.103 sec)\n",
            "INFO:tensorflow:global_step/sec: 979.538\n",
            "INFO:tensorflow:loss = 0.12551895, step = 5601 (0.103 sec)\n",
            "INFO:tensorflow:global_step/sec: 988.353\n",
            "INFO:tensorflow:loss = 0.18446234, step = 5701 (0.098 sec)\n",
            "INFO:tensorflow:global_step/sec: 950.286\n",
            "INFO:tensorflow:loss = 0.060115952, step = 5801 (0.106 sec)\n",
            "INFO:tensorflow:global_step/sec: 952.301\n",
            "INFO:tensorflow:loss = 0.031934597, step = 5901 (0.105 sec)\n",
            "INFO:tensorflow:global_step/sec: 949.513\n",
            "INFO:tensorflow:loss = 0.20173067, step = 6001 (0.107 sec)\n",
            "INFO:tensorflow:global_step/sec: 910.043\n",
            "INFO:tensorflow:loss = 0.05654622, step = 6101 (0.109 sec)\n",
            "INFO:tensorflow:global_step/sec: 969.172\n",
            "INFO:tensorflow:loss = 0.049158245, step = 6201 (0.105 sec)\n",
            "INFO:tensorflow:global_step/sec: 973.615\n",
            "INFO:tensorflow:loss = 0.117821306, step = 6301 (0.100 sec)\n",
            "INFO:tensorflow:global_step/sec: 986.15\n",
            "INFO:tensorflow:loss = 0.35745695, step = 6401 (0.103 sec)\n",
            "INFO:tensorflow:global_step/sec: 983.542\n",
            "INFO:tensorflow:loss = 0.11806663, step = 6501 (0.103 sec)\n",
            "INFO:tensorflow:global_step/sec: 992.652\n",
            "INFO:tensorflow:loss = 0.054251328, step = 6601 (0.098 sec)\n",
            "INFO:tensorflow:global_step/sec: 979.621\n",
            "INFO:tensorflow:loss = 0.122116484, step = 6701 (0.102 sec)\n",
            "INFO:tensorflow:global_step/sec: 1014.08\n",
            "INFO:tensorflow:loss = 0.07900448, step = 6801 (0.099 sec)\n",
            "INFO:tensorflow:global_step/sec: 1000.65\n",
            "INFO:tensorflow:loss = 0.077983454, step = 6901 (0.101 sec)\n",
            "INFO:tensorflow:global_step/sec: 965.4\n",
            "INFO:tensorflow:loss = 0.046894938, step = 7001 (0.103 sec)\n",
            "INFO:tensorflow:global_step/sec: 936.314\n",
            "INFO:tensorflow:loss = 0.044076838, step = 7101 (0.106 sec)\n",
            "INFO:tensorflow:global_step/sec: 957.748\n",
            "INFO:tensorflow:loss = 0.32757008, step = 7201 (0.107 sec)\n",
            "INFO:tensorflow:global_step/sec: 990.76\n",
            "INFO:tensorflow:loss = 0.14117073, step = 7301 (0.100 sec)\n",
            "INFO:tensorflow:global_step/sec: 921.07\n",
            "INFO:tensorflow:loss = 0.039168023, step = 7401 (0.109 sec)\n",
            "INFO:tensorflow:global_step/sec: 960.492\n",
            "INFO:tensorflow:loss = 0.042542055, step = 7501 (0.105 sec)\n",
            "INFO:tensorflow:global_step/sec: 946.283\n",
            "INFO:tensorflow:loss = 0.05454003, step = 7601 (0.104 sec)\n",
            "INFO:tensorflow:global_step/sec: 937.27\n",
            "INFO:tensorflow:loss = 0.08846212, step = 7701 (0.105 sec)\n",
            "INFO:tensorflow:global_step/sec: 944.384\n",
            "INFO:tensorflow:loss = 0.059852116, step = 7801 (0.106 sec)\n",
            "INFO:tensorflow:global_step/sec: 911.128\n",
            "INFO:tensorflow:loss = 0.10083534, step = 7901 (0.112 sec)\n",
            "INFO:tensorflow:global_step/sec: 994.212\n",
            "INFO:tensorflow:loss = 0.22924343, step = 8001 (0.100 sec)\n",
            "INFO:tensorflow:global_step/sec: 894.552\n",
            "INFO:tensorflow:loss = 0.048446216, step = 8101 (0.112 sec)\n",
            "INFO:tensorflow:global_step/sec: 953.936\n",
            "INFO:tensorflow:loss = 0.080329284, step = 8201 (0.103 sec)\n",
            "INFO:tensorflow:global_step/sec: 1005.79\n",
            "INFO:tensorflow:loss = 0.060566083, step = 8301 (0.102 sec)\n",
            "INFO:tensorflow:global_step/sec: 962.785\n",
            "INFO:tensorflow:loss = 0.05027782, step = 8401 (0.103 sec)\n",
            "INFO:tensorflow:global_step/sec: 971.43\n",
            "INFO:tensorflow:loss = 0.044593323, step = 8501 (0.104 sec)\n",
            "INFO:tensorflow:global_step/sec: 951.003\n",
            "INFO:tensorflow:loss = 0.03727231, step = 8601 (0.106 sec)\n",
            "INFO:tensorflow:global_step/sec: 984.669\n",
            "INFO:tensorflow:loss = 0.13863467, step = 8701 (0.101 sec)\n",
            "INFO:tensorflow:global_step/sec: 956.383\n",
            "INFO:tensorflow:loss = 0.14096496, step = 8801 (0.102 sec)\n",
            "INFO:tensorflow:global_step/sec: 1015.63\n",
            "INFO:tensorflow:loss = 0.049448844, step = 8901 (0.101 sec)\n",
            "INFO:tensorflow:global_step/sec: 956.267\n",
            "INFO:tensorflow:loss = 0.28821725, step = 9001 (0.103 sec)\n",
            "INFO:tensorflow:global_step/sec: 970.901\n",
            "INFO:tensorflow:loss = 0.058117144, step = 9101 (0.102 sec)\n",
            "INFO:tensorflow:global_step/sec: 1000.06\n",
            "INFO:tensorflow:loss = 0.072390825, step = 9201 (0.100 sec)\n",
            "INFO:tensorflow:global_step/sec: 998.05\n",
            "INFO:tensorflow:loss = 0.051311523, step = 9301 (0.102 sec)\n",
            "INFO:tensorflow:global_step/sec: 990.435\n",
            "INFO:tensorflow:loss = 0.088220984, step = 9401 (0.103 sec)\n",
            "INFO:tensorflow:global_step/sec: 941.973\n",
            "INFO:tensorflow:loss = 0.06132816, step = 9501 (0.102 sec)\n",
            "INFO:tensorflow:global_step/sec: 914.071\n",
            "INFO:tensorflow:loss = 0.04699916, step = 9601 (0.110 sec)\n",
            "INFO:tensorflow:global_step/sec: 924.534\n",
            "INFO:tensorflow:loss = 0.048685253, step = 9701 (0.108 sec)\n",
            "INFO:tensorflow:global_step/sec: 913.169\n",
            "INFO:tensorflow:loss = 0.057232868, step = 9801 (0.113 sec)\n",
            "INFO:tensorflow:global_step/sec: 930.608\n",
            "INFO:tensorflow:loss = 0.04062748, step = 9901 (0.103 sec)\n",
            "INFO:tensorflow:Saving checkpoints for 10000 into /tmp/linear_regression_trained_model/model.ckpt.\n",
            "INFO:tensorflow:Loss for final step: 0.050552312.\n",
            "WARNING:tensorflow:float64 is not supported by many models, consider casting to float32.\n",
            "INFO:tensorflow:Graph was finalized.\n",
            "INFO:tensorflow:Restoring parameters from /tmp/linear_regression_trained_model/model.ckpt-10000\n",
            "INFO:tensorflow:Running local_init_op.\n",
            "INFO:tensorflow:Done running local_init_op.\n",
            "LinearRegression has RMSE of 0.30159660217227746\n",
            "Just using average = 0.5263271405243862 has RMSE of 0.22539560609482276\n"
          ],
          "name": "stdout"
        }
      ]
    },
    {
      "cell_type": "markdown",
      "metadata": {
        "id": "KwM1keGrCiiR"
      },
      "source": [
        "2019 shows more fluctuation in RMSE values due to external conditions affecting collision numbers and weakening the correlation between seasonal changes or temperature. As such, predicted values show the same fluctuations, but typically follow the same increasing pattern."
      ]
    },
    {
      "cell_type": "code",
      "metadata": {
        "colab": {
          "base_uri": "https://localhost:8080/"
        },
        "id": "oR_T-DfH2PY7",
        "outputId": "c957f977-ac28-4b4f-f188-335993450ce4"
      },
      "source": [
        "input = pd.DataFrame.from_dict(data = \n",
        "\t\t\t\t{'day' : [1,1,1],\n",
        "         'mo' : [1, 5, 8],\n",
        "         'temp' : [8.9, 20.5, 54.0]})\n",
        "\t\t\t\t\t\n",
        "\n",
        "estimator = tf.contrib.learn.SKCompat(tf.contrib.learn.LinearRegressor(model_dir='/tmp/linear_regression_trained_model', enable_centered_bias=False, feature_columns=tf.contrib.learn.infer_real_valued_columns_from_input(input.values)))\n",
        "\n",
        "preds = estimator.predict(x=input.values)\n",
        "predslistscale = preds['scores']*SCALE_NUM_COLLISIONS\n",
        "pred = format(str(predslistscale))\n",
        "print(pred)"
      ],
      "execution_count": null,
      "outputs": [
        {
          "output_type": "stream",
          "text": [
            "WARNING:tensorflow:float64 is not supported by many models, consider casting to float32.\n",
            "INFO:tensorflow:Using default config.\n",
            "INFO:tensorflow:Using config: {'_task_type': None, '_task_id': 0, '_cluster_spec': <tensorflow.python.training.server_lib.ClusterSpec object at 0x7f9d9ec46f60>, '_master': '', '_num_ps_replicas': 0, '_num_worker_replicas': 0, '_environment': 'local', '_is_chief': True, '_evaluation_master': '', '_train_distribute': None, '_eval_distribute': None, '_experimental_max_worker_delay_secs': None, '_device_fn': None, '_tf_config': gpu_options {\n",
            "  per_process_gpu_memory_fraction: 1.0\n",
            "}\n",
            ", '_tf_random_seed': None, '_save_summary_steps': 100, '_save_checkpoints_secs': 600, '_log_step_count_steps': 100, '_protocol': None, '_session_config': None, '_save_checkpoints_steps': None, '_keep_checkpoint_max': 5, '_keep_checkpoint_every_n_hours': 10000, '_model_dir': '/tmp/linear_regression_trained_model', '_session_creation_timeout_secs': 7200}\n",
            "WARNING:tensorflow:float64 is not supported by many models, consider casting to float32.\n",
            "INFO:tensorflow:Graph was finalized.\n",
            "INFO:tensorflow:Restoring parameters from /tmp/linear_regression_trained_model/model.ckpt-10000\n",
            "INFO:tensorflow:Running local_init_op.\n",
            "INFO:tensorflow:Done running local_init_op.\n",
            "[0.5962029 0.6672108 0.8731516]\n"
          ],
          "name": "stdout"
        }
      ]
    },
    {
      "cell_type": "markdown",
      "metadata": {
        "id": "5eel_nFg2m4A"
      },
      "source": [
        "### 2020"
      ]
    },
    {
      "cell_type": "code",
      "metadata": {
        "id": "8YdgtF9D2orE"
      },
      "source": [
        "# needed to create the data frame\n",
        "import pandas as pd\n",
        "\n",
        "# create the dataframe from 2020 csv file\n",
        "df = pd.read_csv('https://raw.githubusercontent.com/15007919uhi/15007919_DataAnalytics/master/lineardata20.csv', index_col=0, )"
      ],
      "execution_count": null,
      "outputs": []
    },
    {
      "cell_type": "code",
      "metadata": {
        "colab": {
          "base_uri": "https://localhost:8080/"
        },
        "id": "KutkFwon2orF",
        "outputId": "07a16840-2837-446d-a521-4e725e7337fb"
      },
      "source": [
        "# check the data is correct\n",
        "print(df[:6])\n",
        "# print(df) #all"
      ],
      "execution_count": null,
      "outputs": [
        {
          "output_type": "stream",
          "text": [
            "      day  mo  temp  dewp   max   min  NUM_COLLISIONS\n",
            "2826    4   3  41.2  33.6  46.9  36.0        0.138235\n",
            "2827    5   3  47.6  36.5  59.0  35.1        0.150000\n",
            "2828    6   3  42.3  33.0  59.0  30.0        0.132353\n",
            "2829    7   3  44.8  41.2  53.1  30.0        0.077941\n",
            "2830    1   3  44.7  42.2  48.9  39.9        0.104412\n",
            "2831    2   3  39.4  32.1  48.9  34.0        0.094118\n"
          ],
          "name": "stdout"
        }
      ]
    },
    {
      "cell_type": "code",
      "metadata": {
        "colab": {
          "base_uri": "https://localhost:8080/"
        },
        "id": "9eAabyLh2orF",
        "outputId": "8ea85ce5-fb6b-4851-ee18-e25d1e88ced1"
      },
      "source": [
        "# needed for calculations\n",
        "import numpy as np\n",
        "\n",
        "# shuffle rows at random\n",
        "shuffle = df.iloc[np.random.permutation(len(df))]\n",
        "\n",
        "# specify the column to select all rows from\n",
        "predictors = shuffle.iloc[:,0:3]\n",
        "\n",
        "# print the first 6 rows of the predictors\n",
        "print(predictors[:6])"
      ],
      "execution_count": null,
      "outputs": [
        {
          "output_type": "stream",
          "text": [
            "      day  mo  temp\n",
            "2894    2   6  57.1\n",
            "2865    1   5  56.3\n",
            "2945    4   7  74.1\n",
            "2954    6   8  72.6\n",
            "2972    3   8  70.4\n",
            "2900    1   6  62.6\n"
          ],
          "name": "stdout"
        }
      ]
    },
    {
      "cell_type": "code",
      "metadata": {
        "colab": {
          "base_uri": "https://localhost:8080/",
          "height": 204
        },
        "id": "25W3UhiT2orF",
        "outputId": "d73d504e-0eed-4a30-e41d-7b2bb1377f00"
      },
      "source": [
        "# print the first five rows of the shuffled data\n",
        "shuffle[:5]"
      ],
      "execution_count": null,
      "outputs": [
        {
          "output_type": "execute_result",
          "data": {
            "text/html": [
              "<div>\n",
              "<style scoped>\n",
              "    .dataframe tbody tr th:only-of-type {\n",
              "        vertical-align: middle;\n",
              "    }\n",
              "\n",
              "    .dataframe tbody tr th {\n",
              "        vertical-align: top;\n",
              "    }\n",
              "\n",
              "    .dataframe thead th {\n",
              "        text-align: right;\n",
              "    }\n",
              "</style>\n",
              "<table border=\"1\" class=\"dataframe\">\n",
              "  <thead>\n",
              "    <tr style=\"text-align: right;\">\n",
              "      <th></th>\n",
              "      <th>day</th>\n",
              "      <th>mo</th>\n",
              "      <th>temp</th>\n",
              "      <th>dewp</th>\n",
              "      <th>max</th>\n",
              "      <th>min</th>\n",
              "      <th>NUM_COLLISIONS</th>\n",
              "    </tr>\n",
              "  </thead>\n",
              "  <tbody>\n",
              "    <tr>\n",
              "      <th>2894</th>\n",
              "      <td>2</td>\n",
              "      <td>6</td>\n",
              "      <td>57.1</td>\n",
              "      <td>46.6</td>\n",
              "      <td>62.1</td>\n",
              "      <td>48.9</td>\n",
              "      <td>0.152941</td>\n",
              "    </tr>\n",
              "    <tr>\n",
              "      <th>2865</th>\n",
              "      <td>1</td>\n",
              "      <td>5</td>\n",
              "      <td>56.3</td>\n",
              "      <td>46.2</td>\n",
              "      <td>69.1</td>\n",
              "      <td>46.9</td>\n",
              "      <td>0.117647</td>\n",
              "    </tr>\n",
              "    <tr>\n",
              "      <th>2945</th>\n",
              "      <td>4</td>\n",
              "      <td>7</td>\n",
              "      <td>74.1</td>\n",
              "      <td>70.9</td>\n",
              "      <td>82.0</td>\n",
              "      <td>64.9</td>\n",
              "      <td>0.351471</td>\n",
              "    </tr>\n",
              "    <tr>\n",
              "      <th>2954</th>\n",
              "      <td>6</td>\n",
              "      <td>8</td>\n",
              "      <td>72.6</td>\n",
              "      <td>66.2</td>\n",
              "      <td>82.9</td>\n",
              "      <td>62.1</td>\n",
              "      <td>0.414706</td>\n",
              "    </tr>\n",
              "    <tr>\n",
              "      <th>2972</th>\n",
              "      <td>3</td>\n",
              "      <td>8</td>\n",
              "      <td>70.4</td>\n",
              "      <td>62.6</td>\n",
              "      <td>78.1</td>\n",
              "      <td>62.6</td>\n",
              "      <td>0.283824</td>\n",
              "    </tr>\n",
              "  </tbody>\n",
              "</table>\n",
              "</div>"
            ],
            "text/plain": [
              "      day  mo  temp  dewp   max   min  NUM_COLLISIONS\n",
              "2894    2   6  57.1  46.6  62.1  48.9        0.152941\n",
              "2865    1   5  56.3  46.2  69.1  46.9        0.117647\n",
              "2945    4   7  74.1  70.9  82.0  64.9        0.351471\n",
              "2954    6   8  72.6  66.2  82.9  62.1        0.414706\n",
              "2972    3   8  70.4  62.6  78.1  62.6        0.283824"
            ]
          },
          "metadata": {
            "tags": []
          },
          "execution_count": 101
        }
      ]
    },
    {
      "cell_type": "code",
      "metadata": {
        "colab": {
          "base_uri": "https://localhost:8080/"
        },
        "id": "la5hWCx72orF",
        "outputId": "39099f3d-6bb5-4ab0-8249-0158a34b29ff"
      },
      "source": [
        "# select all rows of the specified column\n",
        "targets = shuffle.iloc[:,-1]\n",
        "\n",
        "# print the first 6 rows of the targets\n",
        "print(targets[:6])"
      ],
      "execution_count": null,
      "outputs": [
        {
          "output_type": "stream",
          "text": [
            "2894    0.152941\n",
            "2865    0.117647\n",
            "2945    0.351471\n",
            "2954    0.414706\n",
            "2972    0.283824\n",
            "2900    0.207353\n",
            "Name: NUM_COLLISIONS, dtype: float64\n"
          ],
          "name": "stdout"
        }
      ]
    },
    {
      "cell_type": "code",
      "metadata": {
        "id": "CyEgj0aS2orF"
      },
      "source": [
        "# scale the data\n",
        "SCALE_NUM_COLLISIONS = 1.0"
      ],
      "execution_count": null,
      "outputs": []
    },
    {
      "cell_type": "code",
      "metadata": {
        "id": "r1XDgZML2orF"
      },
      "source": [
        "# split data into a training set that is 80% of the full shuffled array\n",
        "trainsize = int(len(shuffle['NUM_COLLISIONS'])*0.8)\n",
        "# subtract training set size from test set to leave 20% of the array\n",
        "testsize = len(shuffle['NUM_COLLISIONS']) - trainsize\n",
        "\n",
        "# set number of input values/predictors\n",
        "nppredictors = 3\n",
        "# set number of output values/targets\n",
        "noutputs = 1"
      ],
      "execution_count": null,
      "outputs": []
    },
    {
      "cell_type": "code",
      "metadata": {
        "colab": {
          "base_uri": "https://localhost:8080/"
        },
        "id": "HSbpuIcP2orF",
        "outputId": "3b718dbf-3412-48b1-a4ec-57b45fb9b87d"
      },
      "source": [
        "# import tensorflow\n",
        "%tensorflow_version 1.x\n",
        "import tensorflow as tf\n",
        "\n",
        "# check the version\n",
        "print(tf.__version__)\n",
        "\n",
        "import shutil  \n",
        "\n",
        "# logging for tensorflow\n",
        "tf.compat.v1.logging.set_verbosity(tf.compat.v1.logging.INFO)\n",
        "\n",
        "# remove saved model from previous training attempts\n",
        "shutil.rmtree('/tmp/linear_regression_trained_model', ignore_errors=True)\n",
        "\n",
        "estimator = tf.contrib.learn.SKCompat(tf.contrib.learn.LinearRegressor(model_dir='/tmp/linear_regression_trained_model', optimizer=tf.train.AdamOptimizer(learning_rate=0.1), enable_centered_bias=False, feature_columns=tf.contrib.learn.infer_real_valued_columns_from_input(predictors.values)))\n",
        "\n",
        "# show model is beginning to train\n",
        "print(\"starting to train\");\n",
        "\n",
        "# use predictors and target values to train the model\n",
        "estimator.fit(predictors[:trainsize].values, targets[:trainsize].values.reshape(trainsize, noutputs)/SCALE_NUM_COLLISIONS, steps=10000)\n",
        "\n",
        "# check predictors\n",
        "preds = estimator.predict(x=predictors[trainsize:].values)\n",
        "\n",
        "# apply the same scale to the output\n",
        "predslistscale = preds['scores']*SCALE_NUM_COLLISIONS\n",
        "\n",
        "# pred = format(str(predslistscale)) # useful for checking outputs and printing.\n",
        "\n",
        "# calculate RMSE\n",
        "rmse = np.sqrt(np.mean((targets[trainsize:].values - predslistscale)**2))\n",
        "print('LinearRegression has RMSE of {0}'.format(rmse));\n",
        "\n",
        "# calculate mean number of collisions\n",
        "avg = np.mean(shuffle['NUM_COLLISIONS'][:trainsize])\n",
        "\n",
        "# calculate RMSE using the number of collisions and mean of all other values\n",
        "rmse = np.sqrt(np.mean((shuffle['NUM_COLLISIONS'][trainsize:] - avg)**2))\n",
        "print('Just using average = {0} has RMSE of {1}'.format(avg, rmse));\n"
      ],
      "execution_count": null,
      "outputs": [
        {
          "output_type": "stream",
          "text": [
            "1.15.2\n",
            "WARNING:tensorflow:float64 is not supported by many models, consider casting to float32.\n",
            "INFO:tensorflow:Using default config.\n",
            "INFO:tensorflow:Using config: {'_task_type': None, '_task_id': 0, '_cluster_spec': <tensorflow.python.training.server_lib.ClusterSpec object at 0x7f9d9fc5be80>, '_master': '', '_num_ps_replicas': 0, '_num_worker_replicas': 0, '_environment': 'local', '_is_chief': True, '_evaluation_master': '', '_train_distribute': None, '_eval_distribute': None, '_experimental_max_worker_delay_secs': None, '_device_fn': None, '_tf_config': gpu_options {\n",
            "  per_process_gpu_memory_fraction: 1.0\n",
            "}\n",
            ", '_tf_random_seed': None, '_save_summary_steps': 100, '_save_checkpoints_secs': 600, '_log_step_count_steps': 100, '_protocol': None, '_session_config': None, '_save_checkpoints_steps': None, '_keep_checkpoint_max': 5, '_keep_checkpoint_every_n_hours': 10000, '_model_dir': '/tmp/linear_regression_trained_model', '_session_creation_timeout_secs': 7200}\n",
            "starting to train\n",
            "WARNING:tensorflow:float64 is not supported by many models, consider casting to float32.\n",
            "WARNING:tensorflow:float64 is not supported by many models, consider casting to float32.\n",
            "INFO:tensorflow:Create CheckpointSaverHook.\n",
            "INFO:tensorflow:Graph was finalized.\n",
            "INFO:tensorflow:Running local_init_op.\n",
            "INFO:tensorflow:Done running local_init_op.\n",
            "INFO:tensorflow:Saving checkpoints for 0 into /tmp/linear_regression_trained_model/model.ckpt.\n",
            "INFO:tensorflow:loss = 0.069302276, step = 1\n",
            "INFO:tensorflow:global_step/sec: 848.066\n",
            "INFO:tensorflow:loss = 0.0032416882, step = 101 (0.122 sec)\n",
            "INFO:tensorflow:global_step/sec: 981.163\n",
            "INFO:tensorflow:loss = 0.0024431713, step = 201 (0.100 sec)\n",
            "INFO:tensorflow:global_step/sec: 1042.44\n",
            "INFO:tensorflow:loss = 0.0020924348, step = 301 (0.099 sec)\n",
            "INFO:tensorflow:global_step/sec: 1002.8\n",
            "INFO:tensorflow:loss = 0.0020055778, step = 401 (0.098 sec)\n",
            "INFO:tensorflow:global_step/sec: 995.258\n",
            "INFO:tensorflow:loss = 0.0020744826, step = 501 (0.104 sec)\n",
            "INFO:tensorflow:global_step/sec: 974.862\n",
            "INFO:tensorflow:loss = 0.0017492498, step = 601 (0.100 sec)\n",
            "INFO:tensorflow:global_step/sec: 933.347\n",
            "INFO:tensorflow:loss = 0.0018598164, step = 701 (0.106 sec)\n",
            "INFO:tensorflow:global_step/sec: 983.883\n",
            "INFO:tensorflow:loss = 0.0030927951, step = 801 (0.101 sec)\n",
            "INFO:tensorflow:global_step/sec: 1006.3\n",
            "INFO:tensorflow:loss = 0.003539443, step = 901 (0.104 sec)\n",
            "INFO:tensorflow:global_step/sec: 944.374\n",
            "INFO:tensorflow:loss = 0.0017821329, step = 1001 (0.103 sec)\n",
            "INFO:tensorflow:global_step/sec: 1005.14\n",
            "INFO:tensorflow:loss = 0.0014786818, step = 1101 (0.098 sec)\n",
            "INFO:tensorflow:global_step/sec: 858.243\n",
            "INFO:tensorflow:loss = 0.0029542777, step = 1201 (0.119 sec)\n",
            "INFO:tensorflow:global_step/sec: 994.554\n",
            "INFO:tensorflow:loss = 0.0017531926, step = 1301 (0.098 sec)\n",
            "INFO:tensorflow:global_step/sec: 1008.03\n",
            "INFO:tensorflow:loss = 0.0015957572, step = 1401 (0.102 sec)\n",
            "INFO:tensorflow:global_step/sec: 917.536\n",
            "INFO:tensorflow:loss = 0.0016469439, step = 1501 (0.109 sec)\n",
            "INFO:tensorflow:global_step/sec: 985.191\n",
            "INFO:tensorflow:loss = 0.0031575004, step = 1601 (0.100 sec)\n",
            "INFO:tensorflow:global_step/sec: 984.712\n",
            "INFO:tensorflow:loss = 0.00696143, step = 1701 (0.103 sec)\n",
            "INFO:tensorflow:global_step/sec: 1016.06\n",
            "INFO:tensorflow:loss = 0.010075958, step = 1801 (0.097 sec)\n",
            "INFO:tensorflow:global_step/sec: 982.309\n",
            "INFO:tensorflow:loss = 0.0073119868, step = 1901 (0.104 sec)\n",
            "INFO:tensorflow:global_step/sec: 980.156\n",
            "INFO:tensorflow:loss = 0.20491612, step = 2001 (0.104 sec)\n",
            "INFO:tensorflow:global_step/sec: 968.064\n",
            "INFO:tensorflow:loss = 0.001695083, step = 2101 (0.105 sec)\n",
            "INFO:tensorflow:global_step/sec: 933.715\n",
            "INFO:tensorflow:loss = 0.09431611, step = 2201 (0.101 sec)\n",
            "INFO:tensorflow:global_step/sec: 949.528\n",
            "INFO:tensorflow:loss = 0.002297447, step = 2301 (0.107 sec)\n",
            "INFO:tensorflow:global_step/sec: 1027.25\n",
            "INFO:tensorflow:loss = 0.0068340357, step = 2401 (0.097 sec)\n",
            "INFO:tensorflow:global_step/sec: 989.164\n",
            "INFO:tensorflow:loss = 0.012432931, step = 2501 (0.101 sec)\n",
            "INFO:tensorflow:global_step/sec: 986.997\n",
            "INFO:tensorflow:loss = 0.018094525, step = 2601 (0.101 sec)\n",
            "INFO:tensorflow:global_step/sec: 971.288\n",
            "INFO:tensorflow:loss = 0.0018739249, step = 2701 (0.105 sec)\n",
            "INFO:tensorflow:global_step/sec: 965.453\n",
            "INFO:tensorflow:loss = 0.030752629, step = 2801 (0.104 sec)\n",
            "INFO:tensorflow:global_step/sec: 970.998\n",
            "INFO:tensorflow:loss = 0.002760611, step = 2901 (0.102 sec)\n",
            "INFO:tensorflow:global_step/sec: 993.252\n",
            "INFO:tensorflow:loss = 0.0016972183, step = 3001 (0.101 sec)\n",
            "INFO:tensorflow:global_step/sec: 1022.68\n",
            "INFO:tensorflow:loss = 0.073952645, step = 3101 (0.096 sec)\n",
            "INFO:tensorflow:global_step/sec: 1005.67\n",
            "INFO:tensorflow:loss = 0.16372424, step = 3201 (0.099 sec)\n",
            "INFO:tensorflow:global_step/sec: 999.012\n",
            "INFO:tensorflow:loss = 0.1299918, step = 3301 (0.100 sec)\n",
            "INFO:tensorflow:global_step/sec: 995.017\n",
            "INFO:tensorflow:loss = 0.0028075632, step = 3401 (0.103 sec)\n",
            "INFO:tensorflow:global_step/sec: 931.668\n",
            "INFO:tensorflow:loss = 0.058401696, step = 3501 (0.107 sec)\n",
            "INFO:tensorflow:global_step/sec: 896.01\n",
            "INFO:tensorflow:loss = 0.12518191, step = 3601 (0.112 sec)\n",
            "INFO:tensorflow:global_step/sec: 978.403\n",
            "INFO:tensorflow:loss = 0.0058184396, step = 3701 (0.101 sec)\n",
            "INFO:tensorflow:global_step/sec: 889.664\n",
            "INFO:tensorflow:loss = 0.14745666, step = 3801 (0.113 sec)\n",
            "INFO:tensorflow:global_step/sec: 1016.36\n",
            "INFO:tensorflow:loss = 0.0039628604, step = 3901 (0.099 sec)\n",
            "INFO:tensorflow:global_step/sec: 1016.55\n",
            "INFO:tensorflow:loss = 0.11098558, step = 4001 (0.099 sec)\n",
            "INFO:tensorflow:global_step/sec: 1011.01\n",
            "INFO:tensorflow:loss = 0.0019248008, step = 4101 (0.099 sec)\n",
            "INFO:tensorflow:global_step/sec: 1002.75\n",
            "INFO:tensorflow:loss = 0.074529395, step = 4201 (0.097 sec)\n",
            "INFO:tensorflow:global_step/sec: 1028.15\n",
            "INFO:tensorflow:loss = 0.0053562336, step = 4301 (0.099 sec)\n",
            "INFO:tensorflow:global_step/sec: 997.592\n",
            "INFO:tensorflow:loss = 0.11925648, step = 4401 (0.101 sec)\n",
            "INFO:tensorflow:global_step/sec: 1016.22\n",
            "INFO:tensorflow:loss = 0.35586578, step = 4501 (0.097 sec)\n",
            "INFO:tensorflow:global_step/sec: 914.694\n",
            "INFO:tensorflow:loss = 0.024297569, step = 4601 (0.109 sec)\n",
            "INFO:tensorflow:global_step/sec: 1033.93\n",
            "INFO:tensorflow:loss = 0.010173965, step = 4701 (0.097 sec)\n",
            "INFO:tensorflow:global_step/sec: 1003.37\n",
            "INFO:tensorflow:loss = 0.33601618, step = 4801 (0.100 sec)\n",
            "INFO:tensorflow:global_step/sec: 1031.14\n",
            "INFO:tensorflow:loss = 0.023567634, step = 4901 (0.097 sec)\n",
            "INFO:tensorflow:global_step/sec: 949.101\n",
            "INFO:tensorflow:loss = 0.012607236, step = 5001 (0.105 sec)\n",
            "INFO:tensorflow:global_step/sec: 1012.11\n",
            "INFO:tensorflow:loss = 0.0020875484, step = 5101 (0.099 sec)\n",
            "INFO:tensorflow:global_step/sec: 988.318\n",
            "INFO:tensorflow:loss = 0.09046075, step = 5201 (0.103 sec)\n",
            "INFO:tensorflow:global_step/sec: 1010.75\n",
            "INFO:tensorflow:loss = 0.014132252, step = 5301 (0.098 sec)\n",
            "INFO:tensorflow:global_step/sec: 1024.12\n",
            "INFO:tensorflow:loss = 0.0060650413, step = 5401 (0.097 sec)\n",
            "INFO:tensorflow:global_step/sec: 1009.1\n",
            "INFO:tensorflow:loss = 0.08185677, step = 5501 (0.099 sec)\n",
            "INFO:tensorflow:global_step/sec: 882.913\n",
            "INFO:tensorflow:loss = 0.030687762, step = 5601 (0.113 sec)\n",
            "INFO:tensorflow:global_step/sec: 974.072\n",
            "INFO:tensorflow:loss = 0.004957787, step = 5701 (0.102 sec)\n",
            "INFO:tensorflow:global_step/sec: 935.754\n",
            "INFO:tensorflow:loss = 0.0016748408, step = 5801 (0.110 sec)\n",
            "INFO:tensorflow:global_step/sec: 985.983\n",
            "INFO:tensorflow:loss = 0.031238705, step = 5901 (0.099 sec)\n",
            "INFO:tensorflow:global_step/sec: 999.331\n",
            "INFO:tensorflow:loss = 0.025068566, step = 6001 (0.100 sec)\n",
            "INFO:tensorflow:global_step/sec: 1035.74\n",
            "INFO:tensorflow:loss = 0.054019596, step = 6101 (0.098 sec)\n",
            "INFO:tensorflow:global_step/sec: 1000.92\n",
            "INFO:tensorflow:loss = 0.047420893, step = 6201 (0.101 sec)\n",
            "INFO:tensorflow:global_step/sec: 944.963\n",
            "INFO:tensorflow:loss = 0.008441119, step = 6301 (0.106 sec)\n",
            "INFO:tensorflow:global_step/sec: 945.381\n",
            "INFO:tensorflow:loss = 0.0021086344, step = 6401 (0.106 sec)\n",
            "INFO:tensorflow:global_step/sec: 998.069\n",
            "INFO:tensorflow:loss = 0.039842665, step = 6501 (0.100 sec)\n",
            "INFO:tensorflow:global_step/sec: 890.766\n",
            "INFO:tensorflow:loss = 0.0023319437, step = 6601 (0.110 sec)\n",
            "INFO:tensorflow:global_step/sec: 1045.09\n",
            "INFO:tensorflow:loss = 0.005336228, step = 6701 (0.096 sec)\n",
            "INFO:tensorflow:global_step/sec: 1031.33\n",
            "INFO:tensorflow:loss = 0.11193114, step = 6801 (0.102 sec)\n",
            "INFO:tensorflow:global_step/sec: 995.421\n",
            "INFO:tensorflow:loss = 0.003534922, step = 6901 (0.096 sec)\n",
            "INFO:tensorflow:global_step/sec: 1045.31\n",
            "INFO:tensorflow:loss = 0.03519468, step = 7001 (0.095 sec)\n",
            "INFO:tensorflow:global_step/sec: 1011.33\n",
            "INFO:tensorflow:loss = 0.0111027965, step = 7101 (0.101 sec)\n",
            "INFO:tensorflow:global_step/sec: 1017.92\n",
            "INFO:tensorflow:loss = 0.16263288, step = 7201 (0.098 sec)\n",
            "INFO:tensorflow:global_step/sec: 1007.53\n",
            "INFO:tensorflow:loss = 0.008545991, step = 7301 (0.098 sec)\n",
            "INFO:tensorflow:global_step/sec: 1049.3\n",
            "INFO:tensorflow:loss = 0.0048408057, step = 7401 (0.097 sec)\n",
            "INFO:tensorflow:global_step/sec: 994.686\n",
            "INFO:tensorflow:loss = 0.041080564, step = 7501 (0.100 sec)\n",
            "INFO:tensorflow:global_step/sec: 1012.03\n",
            "INFO:tensorflow:loss = 0.004932209, step = 7601 (0.098 sec)\n",
            "INFO:tensorflow:global_step/sec: 882.172\n",
            "INFO:tensorflow:loss = 0.17455786, step = 7701 (0.112 sec)\n",
            "INFO:tensorflow:global_step/sec: 1002.29\n",
            "INFO:tensorflow:loss = 0.01483637, step = 7801 (0.102 sec)\n",
            "INFO:tensorflow:global_step/sec: 998.518\n",
            "INFO:tensorflow:loss = 0.0019470574, step = 7901 (0.098 sec)\n",
            "INFO:tensorflow:global_step/sec: 1054.68\n",
            "INFO:tensorflow:loss = 0.002196625, step = 8001 (0.097 sec)\n",
            "INFO:tensorflow:global_step/sec: 1014.13\n",
            "INFO:tensorflow:loss = 0.025555372, step = 8101 (0.097 sec)\n",
            "INFO:tensorflow:global_step/sec: 1049.61\n",
            "INFO:tensorflow:loss = 0.106546775, step = 8201 (0.097 sec)\n",
            "INFO:tensorflow:global_step/sec: 966.358\n",
            "INFO:tensorflow:loss = 0.0912609, step = 8301 (0.101 sec)\n",
            "INFO:tensorflow:global_step/sec: 1047.56\n",
            "INFO:tensorflow:loss = 0.0058730775, step = 8401 (0.098 sec)\n",
            "INFO:tensorflow:global_step/sec: 928.613\n",
            "INFO:tensorflow:loss = 0.103594676, step = 8501 (0.107 sec)\n",
            "INFO:tensorflow:global_step/sec: 958.65\n",
            "INFO:tensorflow:loss = 0.02418521, step = 8601 (0.105 sec)\n",
            "INFO:tensorflow:global_step/sec: 885.782\n",
            "INFO:tensorflow:loss = 0.009998282, step = 8701 (0.113 sec)\n",
            "INFO:tensorflow:global_step/sec: 1020.86\n",
            "INFO:tensorflow:loss = 0.012150258, step = 8801 (0.096 sec)\n",
            "INFO:tensorflow:global_step/sec: 1026.4\n",
            "INFO:tensorflow:loss = 0.021453738, step = 8901 (0.100 sec)\n",
            "INFO:tensorflow:global_step/sec: 981.108\n",
            "INFO:tensorflow:loss = 0.009627239, step = 9001 (0.102 sec)\n",
            "INFO:tensorflow:global_step/sec: 859.078\n",
            "INFO:tensorflow:loss = 0.0073881457, step = 9101 (0.118 sec)\n",
            "INFO:tensorflow:global_step/sec: 909.502\n",
            "INFO:tensorflow:loss = 0.061954677, step = 9201 (0.109 sec)\n",
            "INFO:tensorflow:global_step/sec: 1003.56\n",
            "INFO:tensorflow:loss = 0.005419419, step = 9301 (0.099 sec)\n",
            "INFO:tensorflow:global_step/sec: 950.174\n",
            "INFO:tensorflow:loss = 0.021127846, step = 9401 (0.107 sec)\n",
            "INFO:tensorflow:global_step/sec: 976.278\n",
            "INFO:tensorflow:loss = 0.116448104, step = 9501 (0.101 sec)\n",
            "INFO:tensorflow:global_step/sec: 915.403\n",
            "INFO:tensorflow:loss = 0.002226884, step = 9601 (0.109 sec)\n",
            "INFO:tensorflow:global_step/sec: 1015.57\n",
            "INFO:tensorflow:loss = 0.013727359, step = 9701 (0.099 sec)\n",
            "INFO:tensorflow:global_step/sec: 980.401\n",
            "INFO:tensorflow:loss = 0.039261788, step = 9801 (0.099 sec)\n",
            "INFO:tensorflow:global_step/sec: 984.879\n",
            "INFO:tensorflow:loss = 0.3544702, step = 9901 (0.103 sec)\n",
            "INFO:tensorflow:Saving checkpoints for 10000 into /tmp/linear_regression_trained_model/model.ckpt.\n",
            "INFO:tensorflow:Loss for final step: 0.00231025.\n",
            "WARNING:tensorflow:float64 is not supported by many models, consider casting to float32.\n",
            "INFO:tensorflow:Graph was finalized.\n",
            "INFO:tensorflow:Restoring parameters from /tmp/linear_regression_trained_model/model.ckpt-10000\n",
            "INFO:tensorflow:Running local_init_op.\n",
            "INFO:tensorflow:Done running local_init_op.\n",
            "LinearRegression has RMSE of 0.18982373314906056\n",
            "Just using average = 0.24175766114829167 has RMSE of 0.10811715234845803\n"
          ],
          "name": "stdout"
        }
      ]
    },
    {
      "cell_type": "markdown",
      "metadata": {
        "id": "jcnDBb7rhf74"
      },
      "source": [
        "Due to 2020's smaller scale of data and values, the RMSE is harder to calculate clearly, with attempts reaching values as small as 0.04 or as large as 0.3, although mostly remaining around 0.25."
      ]
    },
    {
      "cell_type": "code",
      "metadata": {
        "colab": {
          "base_uri": "https://localhost:8080/"
        },
        "id": "KVwFYc6k2orF",
        "outputId": "747b50c6-760d-4948-e63b-d75de9b0902d"
      },
      "source": [
        "input = pd.DataFrame.from_dict(data = \n",
        "\t\t\t\t{'day' : [1,1,1],\n",
        "         'mo' : [1, 5, 8],\n",
        "         'dewp' : [8.9, 20.5, 54.0]})\n",
        "\t\t\t\t\t\n",
        "\n",
        "estimator = tf.contrib.learn.SKCompat(tf.contrib.learn.LinearRegressor(model_dir='/tmp/linear_regression_trained_model', enable_centered_bias=False, feature_columns=tf.contrib.learn.infer_real_valued_columns_from_input(input.values)))\n",
        "\n",
        "preds = estimator.predict(x=input.values)\n",
        "predslistscale = preds['scores']*SCALE_NUM_COLLISIONS\n",
        "pred = format(str(predslistscale))\n",
        "print(pred)"
      ],
      "execution_count": null,
      "outputs": [
        {
          "output_type": "stream",
          "text": [
            "WARNING:tensorflow:float64 is not supported by many models, consider casting to float32.\n",
            "INFO:tensorflow:Using default config.\n",
            "INFO:tensorflow:Using config: {'_task_type': None, '_task_id': 0, '_cluster_spec': <tensorflow.python.training.server_lib.ClusterSpec object at 0x7f9d9f3b8358>, '_master': '', '_num_ps_replicas': 0, '_num_worker_replicas': 0, '_environment': 'local', '_is_chief': True, '_evaluation_master': '', '_train_distribute': None, '_eval_distribute': None, '_experimental_max_worker_delay_secs': None, '_device_fn': None, '_tf_config': gpu_options {\n",
            "  per_process_gpu_memory_fraction: 1.0\n",
            "}\n",
            ", '_tf_random_seed': None, '_save_summary_steps': 100, '_save_checkpoints_secs': 600, '_log_step_count_steps': 100, '_protocol': None, '_session_config': None, '_save_checkpoints_steps': None, '_keep_checkpoint_max': 5, '_keep_checkpoint_every_n_hours': 10000, '_model_dir': '/tmp/linear_regression_trained_model', '_session_creation_timeout_secs': 7200}\n",
            "WARNING:tensorflow:float64 is not supported by many models, consider casting to float32.\n",
            "INFO:tensorflow:Graph was finalized.\n",
            "INFO:tensorflow:Restoring parameters from /tmp/linear_regression_trained_model/model.ckpt-10000\n",
            "INFO:tensorflow:Running local_init_op.\n",
            "INFO:tensorflow:Done running local_init_op.\n",
            "[-0.22515959 -0.08592165  0.07851249]\n"
          ],
          "name": "stdout"
        }
      ]
    },
    {
      "cell_type": "markdown",
      "metadata": {
        "id": "bqKMT6gSn1AU"
      },
      "source": [
        "The sample values used in each previous prediction model are not as helpful for this example due to data up to late March being excluded to create dataset reflecting conditions since the beginning of COVID restrictions, in addition to the data collected only reaching mid October. With missing values for certain months, particularly where temperature may be far lower than the values already present, negative values may be returned as part of predictions. "
      ]
    },
    {
      "cell_type": "markdown",
      "metadata": {
        "id": "DgIYLWa7w5Hf"
      },
      "source": [
        "## Deep Neural Network"
      ]
    },
    {
      "cell_type": "markdown",
      "metadata": {
        "id": "H12xEzy-dGTw"
      },
      "source": [
        "It is evident there are limitations present in the linear regression models used above, particularly when examining 2020's data. A deep neural network model may be more suited to making predictions concerning collision numbers due to its ability to understand potential non-linear relationships present in the data provided."
      ]
    },
    {
      "cell_type": "markdown",
      "metadata": {
        "id": "0xL8_nIXyrvG"
      },
      "source": [
        "### 2013-15"
      ]
    },
    {
      "cell_type": "code",
      "metadata": {
        "id": "3rZT-XAAytql"
      },
      "source": [
        "# needed to create the data frame\n",
        "import pandas as pd\n",
        "\n",
        "# create data frame from 2013-15 csv file\n",
        "df = pd.read_csv('https://raw.githubusercontent.com/15007919uhi/15007919_DataAnalytics/master/dnn1315.csv', index_col=0)"
      ],
      "execution_count": null,
      "outputs": []
    },
    {
      "cell_type": "code",
      "metadata": {
        "colab": {
          "base_uri": "https://localhost:8080/"
        },
        "id": "Wd2CEZU0y3WV",
        "outputId": "a8a6bb79-dac4-4e99-98be-689852a34a6e"
      },
      "source": [
        "# print the data\n",
        "print(df[:6])"
      ],
      "execution_count": null,
      "outputs": [
        {
          "output_type": "stream",
          "text": [
            "   Apr  Aug  Dec  Feb  Jan  Jul  ...  Tue  Wed  year  temp  dewp  NUM_COLLISIONS\n",
            "1    0    0    0    0    1    0  ...    1    0  2013  38.0  25.6        0.000000\n",
            "2    0    0    0    0    1    0  ...    0    1  2013  27.5  12.1        0.336735\n",
            "3    0    0    0    0    1    0  ...    0    0  2013  21.8   7.8        0.571429\n",
            "4    0    0    0    0    1    0  ...    0    0  2013  32.2  21.1        0.421769\n",
            "5    0    0    0    0    1    0  ...    0    0  2013  37.3  24.5        0.027211\n",
            "6    0    0    0    0    1    0  ...    0    0  2013  35.7  31.3        0.040816\n",
            "\n",
            "[6 rows x 23 columns]\n"
          ],
          "name": "stdout"
        }
      ]
    },
    {
      "cell_type": "code",
      "metadata": {
        "colab": {
          "base_uri": "https://localhost:8080/"
        },
        "id": "5KOEqNOay5xd",
        "outputId": "817f4c8e-a32f-4056-8d10-0457a58bfe59"
      },
      "source": [
        "# needed for calculations\n",
        "import numpy as np\n",
        "\n",
        "# shuffle the data by row at random\n",
        "shuffle = df.iloc[np.random.permutation(len(df))]\n",
        "\n",
        "# select columns to take predictors from\n",
        "predictors = shuffle.iloc[:,0:22]\n",
        "\n",
        "# print the first 6 rows of predictors\n",
        "print(predictors[:6])"
      ],
      "execution_count": null,
      "outputs": [
        {
          "output_type": "stream",
          "text": [
            "     Apr  Aug  Dec  Feb  Jan  Jul  Jun  ...  Sun  Thu  Tue  Wed  year  temp  dewp\n",
            "698    0    0    0    1    0    0    0  ...    0    0    0    0  2015  37.1  34.3\n",
            "904    0    0    0    0    0    0    0  ...    0    0    0    0  2015  67.6  57.8\n",
            "240    0    0    0    0    0    0    0  ...    0    0    0    1  2013  56.1  42.7\n",
            "271    0    0    0    0    0    0    0  ...    1    0    0    0  2013  58.3  47.4\n",
            "690    0    0    0    0    1    0    0  ...    0    0    0    0  2015  24.5  12.9\n",
            "598    0    0    0    0    0    0    0  ...    0    0    0    1  2014  64.9  62.1\n",
            "\n",
            "[6 rows x 22 columns]\n"
          ],
          "name": "stdout"
        }
      ]
    },
    {
      "cell_type": "code",
      "metadata": {
        "colab": {
          "base_uri": "https://localhost:8080/",
          "height": 204
        },
        "id": "BhMKvKvDy9eu",
        "outputId": "27d94000-4c43-4734-a54c-3a2b9097d01c"
      },
      "source": [
        "# print the first 5 rows of the shuffled data\n",
        "shuffle[:5]"
      ],
      "execution_count": null,
      "outputs": [
        {
          "output_type": "execute_result",
          "data": {
            "text/html": [
              "<div>\n",
              "<style scoped>\n",
              "    .dataframe tbody tr th:only-of-type {\n",
              "        vertical-align: middle;\n",
              "    }\n",
              "\n",
              "    .dataframe tbody tr th {\n",
              "        vertical-align: top;\n",
              "    }\n",
              "\n",
              "    .dataframe thead th {\n",
              "        text-align: right;\n",
              "    }\n",
              "</style>\n",
              "<table border=\"1\" class=\"dataframe\">\n",
              "  <thead>\n",
              "    <tr style=\"text-align: right;\">\n",
              "      <th></th>\n",
              "      <th>Apr</th>\n",
              "      <th>Aug</th>\n",
              "      <th>Dec</th>\n",
              "      <th>Feb</th>\n",
              "      <th>Jan</th>\n",
              "      <th>Jul</th>\n",
              "      <th>Jun</th>\n",
              "      <th>Mar</th>\n",
              "      <th>May</th>\n",
              "      <th>Nov</th>\n",
              "      <th>Oct</th>\n",
              "      <th>Sep</th>\n",
              "      <th>Fri</th>\n",
              "      <th>Mon</th>\n",
              "      <th>Sat</th>\n",
              "      <th>Sun</th>\n",
              "      <th>Thu</th>\n",
              "      <th>Tue</th>\n",
              "      <th>Wed</th>\n",
              "      <th>year</th>\n",
              "      <th>temp</th>\n",
              "      <th>dewp</th>\n",
              "      <th>NUM_COLLISIONS</th>\n",
              "    </tr>\n",
              "  </thead>\n",
              "  <tbody>\n",
              "    <tr>\n",
              "      <th>698</th>\n",
              "      <td>0</td>\n",
              "      <td>0</td>\n",
              "      <td>0</td>\n",
              "      <td>1</td>\n",
              "      <td>0</td>\n",
              "      <td>0</td>\n",
              "      <td>0</td>\n",
              "      <td>0</td>\n",
              "      <td>0</td>\n",
              "      <td>0</td>\n",
              "      <td>0</td>\n",
              "      <td>0</td>\n",
              "      <td>0</td>\n",
              "      <td>1</td>\n",
              "      <td>0</td>\n",
              "      <td>0</td>\n",
              "      <td>0</td>\n",
              "      <td>0</td>\n",
              "      <td>0</td>\n",
              "      <td>2015</td>\n",
              "      <td>37.1</td>\n",
              "      <td>34.3</td>\n",
              "      <td>0.452316</td>\n",
              "    </tr>\n",
              "    <tr>\n",
              "      <th>904</th>\n",
              "      <td>0</td>\n",
              "      <td>0</td>\n",
              "      <td>0</td>\n",
              "      <td>0</td>\n",
              "      <td>0</td>\n",
              "      <td>0</td>\n",
              "      <td>0</td>\n",
              "      <td>0</td>\n",
              "      <td>0</td>\n",
              "      <td>0</td>\n",
              "      <td>0</td>\n",
              "      <td>1</td>\n",
              "      <td>0</td>\n",
              "      <td>1</td>\n",
              "      <td>0</td>\n",
              "      <td>0</td>\n",
              "      <td>0</td>\n",
              "      <td>0</td>\n",
              "      <td>0</td>\n",
              "      <td>2015</td>\n",
              "      <td>67.6</td>\n",
              "      <td>57.8</td>\n",
              "      <td>0.539510</td>\n",
              "    </tr>\n",
              "    <tr>\n",
              "      <th>240</th>\n",
              "      <td>0</td>\n",
              "      <td>0</td>\n",
              "      <td>0</td>\n",
              "      <td>0</td>\n",
              "      <td>0</td>\n",
              "      <td>0</td>\n",
              "      <td>0</td>\n",
              "      <td>0</td>\n",
              "      <td>0</td>\n",
              "      <td>0</td>\n",
              "      <td>0</td>\n",
              "      <td>1</td>\n",
              "      <td>0</td>\n",
              "      <td>0</td>\n",
              "      <td>0</td>\n",
              "      <td>0</td>\n",
              "      <td>0</td>\n",
              "      <td>0</td>\n",
              "      <td>1</td>\n",
              "      <td>2013</td>\n",
              "      <td>56.1</td>\n",
              "      <td>42.7</td>\n",
              "      <td>0.646259</td>\n",
              "    </tr>\n",
              "    <tr>\n",
              "      <th>271</th>\n",
              "      <td>0</td>\n",
              "      <td>0</td>\n",
              "      <td>0</td>\n",
              "      <td>0</td>\n",
              "      <td>0</td>\n",
              "      <td>0</td>\n",
              "      <td>0</td>\n",
              "      <td>0</td>\n",
              "      <td>0</td>\n",
              "      <td>0</td>\n",
              "      <td>1</td>\n",
              "      <td>0</td>\n",
              "      <td>0</td>\n",
              "      <td>0</td>\n",
              "      <td>0</td>\n",
              "      <td>1</td>\n",
              "      <td>0</td>\n",
              "      <td>0</td>\n",
              "      <td>0</td>\n",
              "      <td>2013</td>\n",
              "      <td>58.3</td>\n",
              "      <td>47.4</td>\n",
              "      <td>0.370748</td>\n",
              "    </tr>\n",
              "    <tr>\n",
              "      <th>690</th>\n",
              "      <td>0</td>\n",
              "      <td>0</td>\n",
              "      <td>0</td>\n",
              "      <td>0</td>\n",
              "      <td>1</td>\n",
              "      <td>0</td>\n",
              "      <td>0</td>\n",
              "      <td>0</td>\n",
              "      <td>0</td>\n",
              "      <td>0</td>\n",
              "      <td>0</td>\n",
              "      <td>0</td>\n",
              "      <td>0</td>\n",
              "      <td>0</td>\n",
              "      <td>1</td>\n",
              "      <td>0</td>\n",
              "      <td>0</td>\n",
              "      <td>0</td>\n",
              "      <td>0</td>\n",
              "      <td>2015</td>\n",
              "      <td>24.5</td>\n",
              "      <td>12.9</td>\n",
              "      <td>0.395095</td>\n",
              "    </tr>\n",
              "  </tbody>\n",
              "</table>\n",
              "</div>"
            ],
            "text/plain": [
              "     Apr  Aug  Dec  Feb  Jan  Jul  ...  Tue  Wed  year  temp  dewp  NUM_COLLISIONS\n",
              "698    0    0    0    1    0    0  ...    0    0  2015  37.1  34.3        0.452316\n",
              "904    0    0    0    0    0    0  ...    0    0  2015  67.6  57.8        0.539510\n",
              "240    0    0    0    0    0    0  ...    0    1  2013  56.1  42.7        0.646259\n",
              "271    0    0    0    0    0    0  ...    0    0  2013  58.3  47.4        0.370748\n",
              "690    0    0    0    0    1    0  ...    0    0  2015  24.5  12.9        0.395095\n",
              "\n",
              "[5 rows x 23 columns]"
            ]
          },
          "metadata": {
            "tags": []
          },
          "execution_count": 152
        }
      ]
    },
    {
      "cell_type": "code",
      "metadata": {
        "colab": {
          "base_uri": "https://localhost:8080/"
        },
        "id": "PrGyhpy8y_Hf",
        "outputId": "718e7957-298b-49a5-c6d2-40b89a4610a9"
      },
      "source": [
        "# select all rows of the chosen colummn\n",
        "targets = shuffle.iloc[:,22]\n",
        "\n",
        "# show the first six rows of the targets\n",
        "print(targets[:6])"
      ],
      "execution_count": null,
      "outputs": [
        {
          "output_type": "stream",
          "text": [
            "698    0.452316\n",
            "904    0.539510\n",
            "240    0.646259\n",
            "271    0.370748\n",
            "690    0.395095\n",
            "598    0.664430\n",
            "Name: NUM_COLLISIONS, dtype: float64\n"
          ],
          "name": "stdout"
        }
      ]
    },
    {
      "cell_type": "code",
      "metadata": {
        "id": "K-nMcuftzBUW"
      },
      "source": [
        "# scale the data\n",
        "SCALE_NUM_COLLISIONS = 1.0"
      ],
      "execution_count": null,
      "outputs": []
    },
    {
      "cell_type": "code",
      "metadata": {
        "id": "d8YBrjiWzD--"
      },
      "source": [
        "# split data into a training set that is 80% of the full shuffled array\n",
        "trainsize = int(len(shuffle['NUM_COLLISIONS'])*0.8)\n",
        "# subtract training set size from test set to leave 20% of the array\n",
        "testsize = len(shuffle['NUM_COLLISIONS']) - trainsize\n",
        "\n",
        "# set number of input values/predictors\n",
        "nppredictors = 22\n",
        "# set number of output values/targets\n",
        "noutputs = 1"
      ],
      "execution_count": null,
      "outputs": []
    },
    {
      "cell_type": "code",
      "metadata": {
        "colab": {
          "base_uri": "https://localhost:8080/"
        },
        "id": "ldeDvqIhzHT1",
        "outputId": "277c7336-e6f7-4de5-bb35-df2a5aa492b4"
      },
      "source": [
        "# import tensorflow\n",
        "%tensorflow_version 1.x\n",
        "import tensorflow as tf\n",
        "\n",
        "# check version\n",
        "print(tf.__version__)\n",
        "\n",
        "import shutil  \n",
        "\n",
        "# logging for tensorflow\n",
        "tf.compat.v1.logging.set_verbosity(tf.compat.v1.logging.INFO)\n",
        "\n",
        "# remove saved model from previous training attempts\n",
        "shutil.rmtree('/tmp/DNN_regression_trained_model', ignore_errors=True)\n",
        "\n",
        "estimator = tf.contrib.learn.SKCompat(tf.contrib.learn.DNNRegressor(model_dir='/tmp/DNN_regression_trained_model', hidden_units=[20,18,14], optimizer=tf.train.AdamOptimizer(learning_rate=0.01), enable_centered_bias=False, feature_columns=tf.contrib.learn.infer_real_valued_columns_from_input(predictors.values)))\n",
        "\n",
        "# show model is beginning to train\n",
        "print(\"starting to train\");\n",
        "\n",
        "# use predictors and target values to train the model\n",
        "estimator.fit(predictors[:trainsize].values, targets[:trainsize].values.reshape(trainsize, noutputs)/SCALE_NUM_COLLISIONS, steps=10000)\n",
        "\n",
        "# check predictors\n",
        "preds = estimator.predict(x=predictors[trainsize:].values)\n",
        "\n",
        "# apply the same scale to output\n",
        "predslistscale = preds['scores']*SCALE_NUM_COLLISIONS\n",
        "\n",
        "# calculate RMSE\n",
        "rmse = np.sqrt(np.mean((targets[trainsize:].values - predslistscale)**2))\n",
        "print('DNNRegression has RMSE of {0}'.format(rmse));\n",
        "\n",
        "# calculate mean number of collisions\n",
        "avg = np.mean(shuffle['NUM_COLLISIONS'][:trainsize])\n",
        "\n",
        "# calculate RMSE using the number of collisions and mean of all other values\n",
        "rmse = np.sqrt(np.mean((shuffle['NUM_COLLISIONS'][trainsize:] - avg)**2))\n",
        "print('Just using average = {0} has RMSE of {1}'.format(avg, rmse));"
      ],
      "execution_count": null,
      "outputs": [
        {
          "output_type": "stream",
          "text": [
            "1.15.2\n",
            "WARNING:tensorflow:float64 is not supported by many models, consider casting to float32.\n",
            "INFO:tensorflow:Using default config.\n",
            "INFO:tensorflow:Using config: {'_task_type': None, '_task_id': 0, '_cluster_spec': <tensorflow.python.training.server_lib.ClusterSpec object at 0x7f9da57c5668>, '_master': '', '_num_ps_replicas': 0, '_num_worker_replicas': 0, '_environment': 'local', '_is_chief': True, '_evaluation_master': '', '_train_distribute': None, '_eval_distribute': None, '_experimental_max_worker_delay_secs': None, '_device_fn': None, '_tf_config': gpu_options {\n",
            "  per_process_gpu_memory_fraction: 1.0\n",
            "}\n",
            ", '_tf_random_seed': None, '_save_summary_steps': 100, '_save_checkpoints_secs': 600, '_log_step_count_steps': 100, '_protocol': None, '_session_config': None, '_save_checkpoints_steps': None, '_keep_checkpoint_max': 5, '_keep_checkpoint_every_n_hours': 10000, '_model_dir': '/tmp/DNN_regression_trained_model', '_session_creation_timeout_secs': 7200}\n",
            "starting to train\n",
            "WARNING:tensorflow:float64 is not supported by many models, consider casting to float32.\n",
            "WARNING:tensorflow:float64 is not supported by many models, consider casting to float32.\n",
            "INFO:tensorflow:Create CheckpointSaverHook.\n",
            "INFO:tensorflow:Graph was finalized.\n",
            "INFO:tensorflow:Running local_init_op.\n",
            "INFO:tensorflow:Done running local_init_op.\n",
            "INFO:tensorflow:Saving checkpoints for 0 into /tmp/DNN_regression_trained_model/model.ckpt.\n",
            "INFO:tensorflow:loss = 4853.9326, step = 1\n",
            "INFO:tensorflow:global_step/sec: 462.605\n",
            "INFO:tensorflow:loss = 0.29527354, step = 101 (0.222 sec)\n",
            "INFO:tensorflow:global_step/sec: 528.322\n",
            "INFO:tensorflow:loss = 0.1387267, step = 201 (0.186 sec)\n",
            "INFO:tensorflow:global_step/sec: 617.086\n",
            "INFO:tensorflow:loss = 0.071311556, step = 301 (0.163 sec)\n",
            "INFO:tensorflow:global_step/sec: 623.094\n",
            "INFO:tensorflow:loss = 0.20741454, step = 401 (0.163 sec)\n",
            "INFO:tensorflow:global_step/sec: 583.43\n",
            "INFO:tensorflow:loss = 0.03681662, step = 501 (0.168 sec)\n",
            "INFO:tensorflow:global_step/sec: 578.551\n",
            "INFO:tensorflow:loss = 0.17335126, step = 601 (0.180 sec)\n",
            "INFO:tensorflow:global_step/sec: 490.26\n",
            "INFO:tensorflow:loss = 0.09574301, step = 701 (0.197 sec)\n",
            "INFO:tensorflow:global_step/sec: 578.973\n",
            "INFO:tensorflow:loss = 0.2490296, step = 801 (0.172 sec)\n",
            "INFO:tensorflow:global_step/sec: 593.756\n",
            "INFO:tensorflow:loss = 0.42825136, step = 901 (0.168 sec)\n",
            "INFO:tensorflow:global_step/sec: 517.859\n",
            "INFO:tensorflow:loss = 0.039606687, step = 1001 (0.197 sec)\n",
            "INFO:tensorflow:global_step/sec: 612.043\n",
            "INFO:tensorflow:loss = 0.20481718, step = 1101 (0.160 sec)\n",
            "INFO:tensorflow:global_step/sec: 625.055\n",
            "INFO:tensorflow:loss = 0.531369, step = 1201 (0.165 sec)\n",
            "INFO:tensorflow:global_step/sec: 607.396\n",
            "INFO:tensorflow:loss = 0.90343153, step = 1301 (0.163 sec)\n",
            "INFO:tensorflow:global_step/sec: 593.274\n",
            "INFO:tensorflow:loss = 0.042465985, step = 1401 (0.165 sec)\n",
            "INFO:tensorflow:global_step/sec: 605.089\n",
            "INFO:tensorflow:loss = 0.77858114, step = 1501 (0.165 sec)\n",
            "INFO:tensorflow:global_step/sec: 644.947\n",
            "INFO:tensorflow:loss = 0.14152227, step = 1601 (0.155 sec)\n",
            "INFO:tensorflow:global_step/sec: 625.662\n",
            "INFO:tensorflow:loss = 0.08162961, step = 1701 (0.161 sec)\n",
            "INFO:tensorflow:global_step/sec: 621.3\n",
            "INFO:tensorflow:loss = 0.06794013, step = 1801 (0.160 sec)\n",
            "INFO:tensorflow:global_step/sec: 623.778\n",
            "INFO:tensorflow:loss = 0.037272535, step = 1901 (0.164 sec)\n",
            "INFO:tensorflow:global_step/sec: 560.37\n",
            "INFO:tensorflow:loss = 0.2912473, step = 2001 (0.178 sec)\n",
            "INFO:tensorflow:global_step/sec: 632.272\n",
            "INFO:tensorflow:loss = 0.060157847, step = 2101 (0.158 sec)\n",
            "INFO:tensorflow:global_step/sec: 630.808\n",
            "INFO:tensorflow:loss = 0.04346076, step = 2201 (0.155 sec)\n",
            "INFO:tensorflow:global_step/sec: 594.936\n",
            "INFO:tensorflow:loss = 0.041434713, step = 2301 (0.170 sec)\n",
            "INFO:tensorflow:global_step/sec: 585.397\n",
            "INFO:tensorflow:loss = 0.122555844, step = 2401 (0.173 sec)\n",
            "INFO:tensorflow:global_step/sec: 593.746\n",
            "INFO:tensorflow:loss = 0.15678915, step = 2501 (0.167 sec)\n",
            "INFO:tensorflow:global_step/sec: 529.002\n",
            "INFO:tensorflow:loss = 0.1113873, step = 2601 (0.189 sec)\n",
            "INFO:tensorflow:global_step/sec: 537.361\n",
            "INFO:tensorflow:loss = 0.03996457, step = 2701 (0.183 sec)\n",
            "INFO:tensorflow:global_step/sec: 586.455\n",
            "INFO:tensorflow:loss = 0.033335187, step = 2801 (0.174 sec)\n",
            "INFO:tensorflow:global_step/sec: 611.28\n",
            "INFO:tensorflow:loss = 0.10161033, step = 2901 (0.163 sec)\n",
            "INFO:tensorflow:global_step/sec: 588.082\n",
            "INFO:tensorflow:loss = 0.031032968, step = 3001 (0.170 sec)\n",
            "INFO:tensorflow:global_step/sec: 633.232\n",
            "INFO:tensorflow:loss = 0.04076968, step = 3101 (0.158 sec)\n",
            "INFO:tensorflow:global_step/sec: 572.583\n",
            "INFO:tensorflow:loss = 0.028528804, step = 3201 (0.174 sec)\n",
            "INFO:tensorflow:global_step/sec: 620.675\n",
            "INFO:tensorflow:loss = 0.06990721, step = 3301 (0.162 sec)\n",
            "INFO:tensorflow:global_step/sec: 562.615\n",
            "INFO:tensorflow:loss = 0.3223266, step = 3401 (0.178 sec)\n",
            "INFO:tensorflow:global_step/sec: 567.422\n",
            "INFO:tensorflow:loss = 0.16505936, step = 3501 (0.176 sec)\n",
            "INFO:tensorflow:global_step/sec: 477.226\n",
            "INFO:tensorflow:loss = 0.09292883, step = 3601 (0.211 sec)\n",
            "INFO:tensorflow:global_step/sec: 531.301\n",
            "INFO:tensorflow:loss = 0.037622314, step = 3701 (0.188 sec)\n",
            "INFO:tensorflow:global_step/sec: 506.747\n",
            "INFO:tensorflow:loss = 0.04123787, step = 3801 (0.199 sec)\n",
            "INFO:tensorflow:global_step/sec: 532.345\n",
            "INFO:tensorflow:loss = 0.03567208, step = 3901 (0.191 sec)\n",
            "INFO:tensorflow:global_step/sec: 479.409\n",
            "INFO:tensorflow:loss = 0.032015435, step = 4001 (0.206 sec)\n",
            "INFO:tensorflow:global_step/sec: 551.981\n",
            "INFO:tensorflow:loss = 0.03899625, step = 4101 (0.177 sec)\n",
            "INFO:tensorflow:global_step/sec: 528.29\n",
            "INFO:tensorflow:loss = 0.029800583, step = 4201 (0.192 sec)\n",
            "INFO:tensorflow:global_step/sec: 523.095\n",
            "INFO:tensorflow:loss = 0.030952934, step = 4301 (0.187 sec)\n",
            "INFO:tensorflow:global_step/sec: 565.188\n",
            "INFO:tensorflow:loss = 0.037455, step = 4401 (0.177 sec)\n",
            "INFO:tensorflow:global_step/sec: 548.558\n",
            "INFO:tensorflow:loss = 0.024650585, step = 4501 (0.182 sec)\n",
            "INFO:tensorflow:global_step/sec: 592.008\n",
            "INFO:tensorflow:loss = 0.04353378, step = 4601 (0.174 sec)\n",
            "INFO:tensorflow:global_step/sec: 596.004\n",
            "INFO:tensorflow:loss = 0.042368382, step = 4701 (0.169 sec)\n",
            "INFO:tensorflow:global_step/sec: 610.113\n",
            "INFO:tensorflow:loss = 0.028110512, step = 4801 (0.159 sec)\n",
            "INFO:tensorflow:global_step/sec: 564.644\n",
            "INFO:tensorflow:loss = 0.03072696, step = 4901 (0.181 sec)\n",
            "INFO:tensorflow:global_step/sec: 610.297\n",
            "INFO:tensorflow:loss = 0.05571837, step = 5001 (0.163 sec)\n",
            "INFO:tensorflow:global_step/sec: 602.098\n",
            "INFO:tensorflow:loss = 0.09884318, step = 5101 (0.163 sec)\n",
            "INFO:tensorflow:global_step/sec: 596.462\n",
            "INFO:tensorflow:loss = 0.029720979, step = 5201 (0.168 sec)\n",
            "INFO:tensorflow:global_step/sec: 620.776\n",
            "INFO:tensorflow:loss = 0.039188363, step = 5301 (0.161 sec)\n",
            "INFO:tensorflow:global_step/sec: 552.464\n",
            "INFO:tensorflow:loss = 0.05452787, step = 5401 (0.181 sec)\n",
            "INFO:tensorflow:global_step/sec: 542.084\n",
            "INFO:tensorflow:loss = 0.033500705, step = 5501 (0.184 sec)\n",
            "INFO:tensorflow:global_step/sec: 578.511\n",
            "INFO:tensorflow:loss = 0.039124776, step = 5601 (0.173 sec)\n",
            "INFO:tensorflow:global_step/sec: 601.657\n",
            "INFO:tensorflow:loss = 0.09150894, step = 5701 (0.167 sec)\n",
            "INFO:tensorflow:global_step/sec: 607.785\n",
            "INFO:tensorflow:loss = 0.03680011, step = 5801 (0.164 sec)\n",
            "INFO:tensorflow:global_step/sec: 597.741\n",
            "INFO:tensorflow:loss = 0.019056952, step = 5901 (0.168 sec)\n",
            "INFO:tensorflow:global_step/sec: 593.304\n",
            "INFO:tensorflow:loss = 0.033257194, step = 6001 (0.168 sec)\n",
            "INFO:tensorflow:global_step/sec: 580.629\n",
            "INFO:tensorflow:loss = 0.039914314, step = 6101 (0.177 sec)\n",
            "INFO:tensorflow:global_step/sec: 589.988\n",
            "INFO:tensorflow:loss = 0.04621412, step = 6201 (0.169 sec)\n",
            "INFO:tensorflow:global_step/sec: 598.519\n",
            "INFO:tensorflow:loss = 0.039836433, step = 6301 (0.167 sec)\n",
            "INFO:tensorflow:global_step/sec: 585.709\n",
            "INFO:tensorflow:loss = 0.03481865, step = 6401 (0.170 sec)\n",
            "INFO:tensorflow:global_step/sec: 586.974\n",
            "INFO:tensorflow:loss = 0.032588843, step = 6501 (0.167 sec)\n",
            "INFO:tensorflow:global_step/sec: 626.928\n",
            "INFO:tensorflow:loss = 0.03700014, step = 6601 (0.163 sec)\n",
            "INFO:tensorflow:global_step/sec: 578.302\n",
            "INFO:tensorflow:loss = 0.045501903, step = 6701 (0.174 sec)\n",
            "INFO:tensorflow:global_step/sec: 584.916\n",
            "INFO:tensorflow:loss = 0.056578062, step = 6801 (0.167 sec)\n",
            "INFO:tensorflow:global_step/sec: 589.799\n",
            "INFO:tensorflow:loss = 0.04062093, step = 6901 (0.169 sec)\n",
            "INFO:tensorflow:global_step/sec: 600.525\n",
            "INFO:tensorflow:loss = 0.044595525, step = 7001 (0.167 sec)\n",
            "INFO:tensorflow:global_step/sec: 582.911\n",
            "INFO:tensorflow:loss = 0.03303176, step = 7101 (0.176 sec)\n",
            "INFO:tensorflow:global_step/sec: 589.306\n",
            "INFO:tensorflow:loss = 0.04370004, step = 7201 (0.165 sec)\n",
            "INFO:tensorflow:global_step/sec: 611.677\n",
            "INFO:tensorflow:loss = 0.029649593, step = 7301 (0.167 sec)\n",
            "INFO:tensorflow:global_step/sec: 595.05\n",
            "INFO:tensorflow:loss = 0.04781961, step = 7401 (0.166 sec)\n",
            "INFO:tensorflow:global_step/sec: 587.273\n",
            "INFO:tensorflow:loss = 0.027588543, step = 7501 (0.175 sec)\n",
            "INFO:tensorflow:global_step/sec: 573.26\n",
            "INFO:tensorflow:loss = 0.025817249, step = 7601 (0.172 sec)\n",
            "INFO:tensorflow:global_step/sec: 604.133\n",
            "INFO:tensorflow:loss = 0.07120985, step = 7701 (0.166 sec)\n",
            "INFO:tensorflow:global_step/sec: 562.648\n",
            "INFO:tensorflow:loss = 0.032480784, step = 7801 (0.174 sec)\n",
            "INFO:tensorflow:global_step/sec: 588.621\n",
            "INFO:tensorflow:loss = 0.03178963, step = 7901 (0.172 sec)\n",
            "INFO:tensorflow:global_step/sec: 601.863\n",
            "INFO:tensorflow:loss = 0.047994863, step = 8001 (0.168 sec)\n",
            "INFO:tensorflow:global_step/sec: 617.197\n",
            "INFO:tensorflow:loss = 0.04380109, step = 8101 (0.162 sec)\n",
            "INFO:tensorflow:global_step/sec: 576.821\n",
            "INFO:tensorflow:loss = 0.022842515, step = 8201 (0.174 sec)\n",
            "INFO:tensorflow:global_step/sec: 592.981\n",
            "INFO:tensorflow:loss = 0.025793824, step = 8301 (0.169 sec)\n",
            "INFO:tensorflow:global_step/sec: 571.733\n",
            "INFO:tensorflow:loss = 0.038548876, step = 8401 (0.170 sec)\n",
            "INFO:tensorflow:global_step/sec: 491.4\n",
            "INFO:tensorflow:loss = 0.032637563, step = 8501 (0.213 sec)\n",
            "INFO:tensorflow:global_step/sec: 533.806\n",
            "INFO:tensorflow:loss = 0.032965634, step = 8601 (0.178 sec)\n",
            "INFO:tensorflow:global_step/sec: 588.153\n",
            "INFO:tensorflow:loss = 0.036573403, step = 8701 (0.170 sec)\n",
            "INFO:tensorflow:global_step/sec: 577.44\n",
            "INFO:tensorflow:loss = 0.038619056, step = 8801 (0.173 sec)\n",
            "INFO:tensorflow:global_step/sec: 559.304\n",
            "INFO:tensorflow:loss = 0.034341156, step = 8901 (0.183 sec)\n",
            "INFO:tensorflow:global_step/sec: 544.133\n",
            "INFO:tensorflow:loss = 0.030450929, step = 9001 (0.182 sec)\n",
            "INFO:tensorflow:global_step/sec: 580.925\n",
            "INFO:tensorflow:loss = 0.033853844, step = 9101 (0.173 sec)\n",
            "INFO:tensorflow:global_step/sec: 542.966\n",
            "INFO:tensorflow:loss = 0.040889457, step = 9201 (0.185 sec)\n",
            "INFO:tensorflow:global_step/sec: 574.016\n",
            "INFO:tensorflow:loss = 0.03762245, step = 9301 (0.174 sec)\n",
            "INFO:tensorflow:global_step/sec: 562.354\n",
            "INFO:tensorflow:loss = 0.032816254, step = 9401 (0.174 sec)\n",
            "INFO:tensorflow:global_step/sec: 544.489\n",
            "INFO:tensorflow:loss = 0.027958998, step = 9501 (0.188 sec)\n",
            "INFO:tensorflow:global_step/sec: 601.992\n",
            "INFO:tensorflow:loss = 0.025391798, step = 9601 (0.165 sec)\n",
            "INFO:tensorflow:global_step/sec: 537.508\n",
            "INFO:tensorflow:loss = 0.022092143, step = 9701 (0.184 sec)\n",
            "INFO:tensorflow:global_step/sec: 603.474\n",
            "INFO:tensorflow:loss = 0.02935187, step = 9801 (0.165 sec)\n",
            "INFO:tensorflow:global_step/sec: 554.245\n",
            "INFO:tensorflow:loss = 0.03570482, step = 9901 (0.181 sec)\n",
            "INFO:tensorflow:Saving checkpoints for 10000 into /tmp/DNN_regression_trained_model/model.ckpt.\n",
            "INFO:tensorflow:Loss for final step: 0.034302466.\n",
            "WARNING:tensorflow:float64 is not supported by many models, consider casting to float32.\n",
            "INFO:tensorflow:Graph was finalized.\n",
            "INFO:tensorflow:Restoring parameters from /tmp/DNN_regression_trained_model/model.ckpt-10000\n",
            "INFO:tensorflow:Running local_init_op.\n",
            "INFO:tensorflow:Done running local_init_op.\n",
            "DNNRegression has RMSE of 0.19759788353048177\n",
            "Just using average = 0.5701948678125816 has RMSE of 0.227840472042161\n"
          ],
          "name": "stdout"
        }
      ]
    },
    {
      "cell_type": "markdown",
      "metadata": {
        "id": "Ovug7KoVSTEs"
      },
      "source": [
        "A lower RMSE is present when using a deep neural network model. As demonstrated previously, the data can be validated using real entries in the dataset that were not used as part of the training data, identified by manually selection in from the full dataset in comparison to the predictors shown below."
      ]
    },
    {
      "cell_type": "code",
      "metadata": {
        "colab": {
          "base_uri": "https://localhost:8080/"
        },
        "id": "-7LwmNL8RAf0",
        "outputId": "984e1a57-0d41-4c88-97bc-9692c9ffcaf0"
      },
      "source": [
        "print(preds)"
      ],
      "execution_count": null,
      "outputs": [
        {
          "output_type": "stream",
          "text": [
            "{'scores': array([0.4629023 , 0.5429624 , 0.42276162, 0.43025172, 0.6825472 ,\n",
            "       0.72752494, 0.5749796 , 0.6859055 , 0.70134467, 0.4440515 ,\n",
            "       0.6937975 , 0.4812401 , 0.6950825 , 0.5909236 , 0.19610704,\n",
            "       0.7259197 , 0.6440246 , 0.32073882, 0.7026121 , 0.44772714,\n",
            "       0.30961323, 0.5427398 , 0.54237056, 0.66540974, 0.7764637 ,\n",
            "       0.55159223, 0.5990605 , 0.73318005, 0.60288405, 0.7264879 ,\n",
            "       0.6289759 , 0.5827084 , 0.6023879 , 0.60652155, 0.3930419 ,\n",
            "       0.7432711 , 0.7216243 , 0.5887956 , 0.6451551 , 0.6753668 ,\n",
            "       0.7560595 , 0.5295702 , 0.47913128, 0.5753547 , 0.7686741 ,\n",
            "       0.19264102, 0.48136884, 0.5537827 , 0.5495374 , 0.40602833,\n",
            "       0.68962914, 0.40351397, 0.6132774 , 0.7418737 , 0.4831059 ,\n",
            "       0.63177496, 0.80118454, 0.60134935, 0.72231513, 0.6182646 ,\n",
            "       0.66004866, 0.37863636, 0.6104003 , 0.40712497, 0.39578626,\n",
            "       0.5430946 , 0.68439513, 0.708652  , 0.21687254, 0.7201941 ,\n",
            "       0.5435876 , 0.6394695 , 0.7162373 , 0.66067404, 0.5449016 ,\n",
            "       0.72192687, 0.73870754, 0.59769505, 0.56243277, 0.32149184,\n",
            "       0.7036217 , 0.6439231 , 0.6664075 , 0.47822374, 0.60938066,\n",
            "       0.49144334, 0.48320198, 0.5472036 , 0.27349848, 0.564254  ,\n",
            "       0.39454788, 0.7304334 , 0.6915131 , 0.6203962 , 0.35462737,\n",
            "       0.7279174 , 0.6033031 , 0.67770904, 0.3759403 , 0.39965737,\n",
            "       0.72936064, 0.23361887, 0.71414757, 0.3797053 , 0.59972084,\n",
            "       0.66399   , 0.622982  , 0.4170134 , 0.6058371 , 0.54903716,\n",
            "       0.7304695 , 0.634892  , 0.67881   , 0.36678672, 0.6902821 ,\n",
            "       0.8366117 , 0.6514228 , 0.71924716, 0.6372202 , 0.16786924,\n",
            "       0.28213418, 0.23944537, 0.556121  , 0.6409551 , 0.64559466,\n",
            "       0.57957613, 0.6525695 , 0.63852704, 0.58758986, 0.47768235,\n",
            "       0.71825033, 0.84139645, 0.69983715, 0.61874306, 0.6288181 ,\n",
            "       0.753473  , 0.47470558, 0.48943877, 0.52766496, 0.3691507 ,\n",
            "       0.3890007 , 0.6682032 , 0.700481  , 0.59325576, 0.34372646,\n",
            "       0.40927237, 0.57273895, 0.64534825, 0.28598163, 0.65854007,\n",
            "       0.70213616, 0.639072  , 0.76119316, 0.79086936, 0.660635  ,\n",
            "       0.28253996, 0.68027633, 0.5435626 , 0.7653596 , 0.5400556 ,\n",
            "       0.3978355 , 0.686975  , 0.30358213, 0.64679843, 0.7128826 ,\n",
            "       0.63750166, 0.55594856, 0.69592184, 0.5337131 , 0.64666003,\n",
            "       0.81310433, 0.36869895, 0.43287522, 0.62998396, 0.4086867 ,\n",
            "       0.54388064, 0.5946378 , 0.48869568, 0.57912314, 0.7591653 ,\n",
            "       0.48648196, 0.7479714 , 0.6182553 , 0.55397564, 0.56035066,\n",
            "       0.74473405, 0.614851  , 0.63255227, 0.44841945, 0.7113789 ,\n",
            "       0.6888522 , 0.6248241 , 0.604323  , 0.6233273 , 0.6496884 ,\n",
            "       0.62321097, 0.6069537 , 0.6641075 , 0.78667176, 0.59685165],\n",
            "      dtype=float32)}\n"
          ],
          "name": "stdout"
        }
      ]
    },
    {
      "cell_type": "code",
      "metadata": {
        "colab": {
          "base_uri": "https://localhost:8080/"
        },
        "id": "wIUKZoBEzp4N",
        "outputId": "55ff1ff6-310d-4a65-f954-d243a15e173b"
      },
      "source": [
        "input = pd.DataFrame.from_dict(data = \n",
        "\t\t\t\t{\n",
        "         'Apr' : [0,0,0],\n",
        "         'Aug' : [0,0,1],\n",
        "         'Dec' : [0,0,0],\n",
        "         'Feb' : [0,1,0],\n",
        "         'Jan' : [1,0,0],\n",
        "         'Jul' : [0,0,0],\n",
        "         'Jun' : [0,0,0],\n",
        "         'Mar' : [0,0,0],\n",
        "         'May' : [0,0,0],\n",
        "         'Nov' : [0,0,0],\n",
        "         'Oct' : [0,0,0],\n",
        "         'Sep' : [0,0,1],\n",
        "         'Fri' : [1,0,0],\n",
        "         'Mon' : [0,1,0],\n",
        "         'Sat' : [0,0,0],\n",
        "         'Sun' : [0,0,0],\n",
        "         'Thu' : [0,0,0],\n",
        "         'Tue' : [0,0,0],\n",
        "         'Wed' : [0,0,1],\n",
        "         'year' : [2013,2014,2015],\n",
        "         'dewp' : [16.6, 8.9, 55.2],\n",
        "         'temp' : [28.1, 24.3, 62.4]\n",
        "        })\n",
        "\n",
        "estimator = tf.contrib.learn.SKCompat(tf.contrib.learn.DNNRegressor(model_dir='/tmp/DNN_regression_trained_model', hidden_units=[20,18,14], enable_centered_bias=False, feature_columns=tf.contrib.learn.infer_real_valued_columns_from_input(input.values)))\n",
        "\n",
        "preds = estimator.predict(x=input.values)\n",
        "\n",
        "predslistnorm = preds['scores']\n",
        "prednorm = format(str(predslistnorm))\n",
        "print(prednorm)"
      ],
      "execution_count": null,
      "outputs": [
        {
          "output_type": "stream",
          "text": [
            "WARNING:tensorflow:float64 is not supported by many models, consider casting to float32.\n",
            "INFO:tensorflow:Using default config.\n",
            "INFO:tensorflow:Using config: {'_task_type': None, '_task_id': 0, '_cluster_spec': <tensorflow.python.training.server_lib.ClusterSpec object at 0x7f9da581e748>, '_master': '', '_num_ps_replicas': 0, '_num_worker_replicas': 0, '_environment': 'local', '_is_chief': True, '_evaluation_master': '', '_train_distribute': None, '_eval_distribute': None, '_experimental_max_worker_delay_secs': None, '_device_fn': None, '_tf_config': gpu_options {\n",
            "  per_process_gpu_memory_fraction: 1.0\n",
            "}\n",
            ", '_tf_random_seed': None, '_save_summary_steps': 100, '_save_checkpoints_secs': 600, '_log_step_count_steps': 100, '_protocol': None, '_session_config': None, '_save_checkpoints_steps': None, '_keep_checkpoint_max': 5, '_keep_checkpoint_every_n_hours': 10000, '_model_dir': '/tmp/DNN_regression_trained_model', '_session_creation_timeout_secs': 7200}\n",
            "WARNING:tensorflow:float64 is not supported by many models, consider casting to float32.\n",
            "INFO:tensorflow:Graph was finalized.\n",
            "INFO:tensorflow:Restoring parameters from /tmp/DNN_regression_trained_model/model.ckpt-10000\n",
            "INFO:tensorflow:Running local_init_op.\n",
            "INFO:tensorflow:Done running local_init_op.\n",
            "[0.47870296 0.42074668 0.5854699 ]\n"
          ],
          "name": "stdout"
        }
      ]
    },
    {
      "cell_type": "markdown",
      "metadata": {
        "id": "Olrt8CozSz8g"
      },
      "source": [
        "The accuracy of these collision numbers is poorer than that shown by the linear regression model, although this model does show a better understanding of the daily and monthly variations in collisions in contrast to the other model. This is shown below using imaginary values."
      ]
    },
    {
      "cell_type": "code",
      "metadata": {
        "colab": {
          "base_uri": "https://localhost:8080/"
        },
        "id": "cWJHJi7ITJf5",
        "outputId": "787b6dd8-769b-4879-cc85-3f9c183298da"
      },
      "source": [
        "input = pd.DataFrame.from_dict(data = \r\n",
        "\t\t\t\t{\r\n",
        "         'Apr' : [0,0,0],\r\n",
        "         'Aug' : [0,0,0],\r\n",
        "         'Dec' : [0,0,0],\r\n",
        "         'Feb' : [0,0,0],\r\n",
        "         'Jan' : [1,1,1],\r\n",
        "         'Jul' : [0,0,0],\r\n",
        "         'Jun' : [0,0,0],\r\n",
        "         'Mar' : [0,0,0],\r\n",
        "         'May' : [0,0,0],\r\n",
        "         'Nov' : [0,0,0],\r\n",
        "         'Oct' : [0,0,0],\r\n",
        "         'Sep' : [0,0,0],\r\n",
        "         'Fri' : [0,0,1],\r\n",
        "         'Mon' : [0,1,0],\r\n",
        "         'Sat' : [0,0,0],\r\n",
        "         'Sun' : [1,0,0],\r\n",
        "         'Thu' : [0,0,0],\r\n",
        "         'Tue' : [0,0,0],\r\n",
        "         'Wed' : [0,0,0],\r\n",
        "         'year' : [2015,2015,2015],\r\n",
        "         'dewp' : [16.6, 8.9, 24.2],\r\n",
        "         'temp' : [28.1, 24.3, 30.4]\r\n",
        "        })\r\n",
        "\r\n",
        "estimator = tf.contrib.learn.SKCompat(tf.contrib.learn.DNNRegressor(model_dir='/tmp/DNN_regression_trained_model', hidden_units=[20,18,14], enable_centered_bias=False, feature_columns=tf.contrib.learn.infer_real_valued_columns_from_input(input.values)))\r\n",
        "\r\n",
        "preds = estimator.predict(x=input.values)\r\n",
        "\r\n",
        "predslistnorm = preds['scores']\r\n",
        "prednorm = format(str(predslistnorm))\r\n",
        "print(prednorm)"
      ],
      "execution_count": null,
      "outputs": [
        {
          "output_type": "stream",
          "text": [
            "WARNING:tensorflow:float64 is not supported by many models, consider casting to float32.\n",
            "INFO:tensorflow:Using default config.\n",
            "INFO:tensorflow:Using config: {'_task_type': None, '_task_id': 0, '_cluster_spec': <tensorflow.python.training.server_lib.ClusterSpec object at 0x7f9d9eff2b00>, '_master': '', '_num_ps_replicas': 0, '_num_worker_replicas': 0, '_environment': 'local', '_is_chief': True, '_evaluation_master': '', '_train_distribute': None, '_eval_distribute': None, '_experimental_max_worker_delay_secs': None, '_device_fn': None, '_tf_config': gpu_options {\n",
            "  per_process_gpu_memory_fraction: 1.0\n",
            "}\n",
            ", '_tf_random_seed': None, '_save_summary_steps': 100, '_save_checkpoints_secs': 600, '_log_step_count_steps': 100, '_protocol': None, '_session_config': None, '_save_checkpoints_steps': None, '_keep_checkpoint_max': 5, '_keep_checkpoint_every_n_hours': 10000, '_model_dir': '/tmp/DNN_regression_trained_model', '_session_creation_timeout_secs': 7200}\n",
            "WARNING:tensorflow:float64 is not supported by many models, consider casting to float32.\n",
            "INFO:tensorflow:Graph was finalized.\n",
            "INFO:tensorflow:Restoring parameters from /tmp/DNN_regression_trained_model/model.ckpt-10000\n",
            "INFO:tensorflow:Running local_init_op.\n",
            "INFO:tensorflow:Done running local_init_op.\n",
            "[0.08269055 0.36795926 0.4952885 ]\n"
          ],
          "name": "stdout"
        }
      ]
    },
    {
      "cell_type": "markdown",
      "metadata": {
        "id": "emem2AJkTUu7"
      },
      "source": [
        "Looking at a Sunday, Monday and Friday in January 2015, an increase can be seen throughout the working week, in accordance with previous findings concerning factors in collisions. This is much clearer than the increase shown in the linear regression model, suggesting this model may work better with month and day values, while the other is more effective in understanding the relationship specifically with temperature."
      ]
    },
    {
      "cell_type": "markdown",
      "metadata": {
        "id": "vNF-huTvILtm"
      },
      "source": [
        "### 2016-18"
      ]
    },
    {
      "cell_type": "code",
      "metadata": {
        "id": "PwtOp1E1ILtm"
      },
      "source": [
        "# needed to create the data frame\n",
        "import pandas as pd\n",
        "\n",
        "# create data frame from 2016-18 csv file\n",
        "df = pd.read_csv('https://raw.githubusercontent.com/15007919uhi/15007919_DataAnalytics/master/dnn1618.csv', index_col=0)"
      ],
      "execution_count": null,
      "outputs": []
    },
    {
      "cell_type": "code",
      "metadata": {
        "colab": {
          "base_uri": "https://localhost:8080/"
        },
        "id": "INvX5uToILtm",
        "outputId": "c8f14dc6-4a44-497d-a3c3-681cb8a79a71"
      },
      "source": [
        "# print the data\n",
        "print(df[:6])"
      ],
      "execution_count": null,
      "outputs": [
        {
          "output_type": "stream",
          "text": [
            "   Apr  Aug  Dec  Feb  Jan  Jul  ...  Tue  Wed  year  temp  dewp  NUM_COLLISIONS\n",
            "1    0    0    0    0    1    0  ...    0    0  2016  38.2  27.4        0.368613\n",
            "2    0    0    0    0    1    0  ...    1    0  2016  27.7  18.1        0.510949\n",
            "3    0    0    0    0    1    0  ...    0    1  2016  33.5  19.3        0.456204\n",
            "4    0    0    0    0    1    0  ...    0    0  2016  40.5  29.9        0.153285\n",
            "5    0    0    0    0    1    0  ...    0    0  2016  41.3  33.1        0.372263\n",
            "6    0    0    0    0    1    0  ...    0    0  2016  45.9  38.6        0.197080\n",
            "\n",
            "[6 rows x 23 columns]\n"
          ],
          "name": "stdout"
        }
      ]
    },
    {
      "cell_type": "code",
      "metadata": {
        "colab": {
          "base_uri": "https://localhost:8080/"
        },
        "id": "dkG7_vwcILtm",
        "outputId": "f3fe603a-a4f9-460c-84ff-f8a50896c2f7"
      },
      "source": [
        "# needed for calculations\n",
        "import numpy as np\n",
        "\n",
        "# shuffle the data by row at random\n",
        "shuffle = df.iloc[np.random.permutation(len(df))]\n",
        "\n",
        "# select columns to take predictors from\n",
        "predictors = shuffle.iloc[:,0:22]\n",
        "\n",
        "# print the first 6 rows of predictors\n",
        "print(predictors[:6])"
      ],
      "execution_count": null,
      "outputs": [
        {
          "output_type": "stream",
          "text": [
            "     Apr  Aug  Dec  Feb  Jan  Jul  Jun  ...  Sun  Thu  Tue  Wed  year  temp  dewp\n",
            "46     0    0    0    1    0    0    0  ...    0    0    0    0  2016  47.8  40.9\n",
            "474    0    0    0    0    0    1    0  ...    1    0    0    0  2017  67.1  57.7\n",
            "669    0    0    0    0    0    0    0  ...    0    1    0    0  2018  36.5  28.1\n",
            "629    0    0    0    0    1    0    0  ...    0    1    0    0  2018  28.0  12.4\n",
            "735    0    0    0    0    0    0    1  ...    1    0    0    0  2018  52.8  48.1\n",
            "549    0    0    0    0    0    0    0  ...    0    0    1    0  2017  51.1  39.0\n",
            "\n",
            "[6 rows x 22 columns]\n"
          ],
          "name": "stdout"
        }
      ]
    },
    {
      "cell_type": "code",
      "metadata": {
        "colab": {
          "base_uri": "https://localhost:8080/",
          "height": 204
        },
        "id": "qfX7psFRILtn",
        "outputId": "87b00185-35ba-442c-a10f-a08b6298d67a"
      },
      "source": [
        "# print the first 5 rows of the shuffled data\n",
        "shuffle[:5]"
      ],
      "execution_count": null,
      "outputs": [
        {
          "output_type": "execute_result",
          "data": {
            "text/html": [
              "<div>\n",
              "<style scoped>\n",
              "    .dataframe tbody tr th:only-of-type {\n",
              "        vertical-align: middle;\n",
              "    }\n",
              "\n",
              "    .dataframe tbody tr th {\n",
              "        vertical-align: top;\n",
              "    }\n",
              "\n",
              "    .dataframe thead th {\n",
              "        text-align: right;\n",
              "    }\n",
              "</style>\n",
              "<table border=\"1\" class=\"dataframe\">\n",
              "  <thead>\n",
              "    <tr style=\"text-align: right;\">\n",
              "      <th></th>\n",
              "      <th>Apr</th>\n",
              "      <th>Aug</th>\n",
              "      <th>Dec</th>\n",
              "      <th>Feb</th>\n",
              "      <th>Jan</th>\n",
              "      <th>Jul</th>\n",
              "      <th>Jun</th>\n",
              "      <th>Mar</th>\n",
              "      <th>May</th>\n",
              "      <th>Nov</th>\n",
              "      <th>Oct</th>\n",
              "      <th>Sep</th>\n",
              "      <th>Fri</th>\n",
              "      <th>Mon</th>\n",
              "      <th>Sat</th>\n",
              "      <th>Sun</th>\n",
              "      <th>Thu</th>\n",
              "      <th>Tue</th>\n",
              "      <th>Wed</th>\n",
              "      <th>year</th>\n",
              "      <th>temp</th>\n",
              "      <th>dewp</th>\n",
              "      <th>NUM_COLLISIONS</th>\n",
              "    </tr>\n",
              "  </thead>\n",
              "  <tbody>\n",
              "    <tr>\n",
              "      <th>46</th>\n",
              "      <td>0</td>\n",
              "      <td>0</td>\n",
              "      <td>0</td>\n",
              "      <td>1</td>\n",
              "      <td>0</td>\n",
              "      <td>0</td>\n",
              "      <td>0</td>\n",
              "      <td>0</td>\n",
              "      <td>0</td>\n",
              "      <td>0</td>\n",
              "      <td>0</td>\n",
              "      <td>0</td>\n",
              "      <td>0</td>\n",
              "      <td>1</td>\n",
              "      <td>0</td>\n",
              "      <td>0</td>\n",
              "      <td>0</td>\n",
              "      <td>0</td>\n",
              "      <td>0</td>\n",
              "      <td>2016</td>\n",
              "      <td>47.8</td>\n",
              "      <td>40.9</td>\n",
              "      <td>0.423358</td>\n",
              "    </tr>\n",
              "    <tr>\n",
              "      <th>474</th>\n",
              "      <td>0</td>\n",
              "      <td>0</td>\n",
              "      <td>0</td>\n",
              "      <td>0</td>\n",
              "      <td>0</td>\n",
              "      <td>1</td>\n",
              "      <td>0</td>\n",
              "      <td>0</td>\n",
              "      <td>0</td>\n",
              "      <td>0</td>\n",
              "      <td>0</td>\n",
              "      <td>0</td>\n",
              "      <td>0</td>\n",
              "      <td>0</td>\n",
              "      <td>0</td>\n",
              "      <td>1</td>\n",
              "      <td>0</td>\n",
              "      <td>0</td>\n",
              "      <td>0</td>\n",
              "      <td>2017</td>\n",
              "      <td>67.1</td>\n",
              "      <td>57.7</td>\n",
              "      <td>0.384615</td>\n",
              "    </tr>\n",
              "    <tr>\n",
              "      <th>669</th>\n",
              "      <td>0</td>\n",
              "      <td>0</td>\n",
              "      <td>0</td>\n",
              "      <td>0</td>\n",
              "      <td>0</td>\n",
              "      <td>0</td>\n",
              "      <td>0</td>\n",
              "      <td>1</td>\n",
              "      <td>0</td>\n",
              "      <td>0</td>\n",
              "      <td>0</td>\n",
              "      <td>0</td>\n",
              "      <td>0</td>\n",
              "      <td>0</td>\n",
              "      <td>0</td>\n",
              "      <td>0</td>\n",
              "      <td>1</td>\n",
              "      <td>0</td>\n",
              "      <td>0</td>\n",
              "      <td>2018</td>\n",
              "      <td>36.5</td>\n",
              "      <td>28.1</td>\n",
              "      <td>0.700000</td>\n",
              "    </tr>\n",
              "    <tr>\n",
              "      <th>629</th>\n",
              "      <td>0</td>\n",
              "      <td>0</td>\n",
              "      <td>0</td>\n",
              "      <td>0</td>\n",
              "      <td>1</td>\n",
              "      <td>0</td>\n",
              "      <td>0</td>\n",
              "      <td>0</td>\n",
              "      <td>0</td>\n",
              "      <td>0</td>\n",
              "      <td>0</td>\n",
              "      <td>0</td>\n",
              "      <td>0</td>\n",
              "      <td>0</td>\n",
              "      <td>0</td>\n",
              "      <td>0</td>\n",
              "      <td>1</td>\n",
              "      <td>0</td>\n",
              "      <td>0</td>\n",
              "      <td>2018</td>\n",
              "      <td>28.0</td>\n",
              "      <td>12.4</td>\n",
              "      <td>0.377778</td>\n",
              "    </tr>\n",
              "    <tr>\n",
              "      <th>735</th>\n",
              "      <td>0</td>\n",
              "      <td>0</td>\n",
              "      <td>0</td>\n",
              "      <td>0</td>\n",
              "      <td>0</td>\n",
              "      <td>0</td>\n",
              "      <td>1</td>\n",
              "      <td>0</td>\n",
              "      <td>0</td>\n",
              "      <td>0</td>\n",
              "      <td>0</td>\n",
              "      <td>0</td>\n",
              "      <td>0</td>\n",
              "      <td>0</td>\n",
              "      <td>0</td>\n",
              "      <td>1</td>\n",
              "      <td>0</td>\n",
              "      <td>0</td>\n",
              "      <td>0</td>\n",
              "      <td>2018</td>\n",
              "      <td>52.8</td>\n",
              "      <td>48.1</td>\n",
              "      <td>0.092593</td>\n",
              "    </tr>\n",
              "  </tbody>\n",
              "</table>\n",
              "</div>"
            ],
            "text/plain": [
              "     Apr  Aug  Dec  Feb  Jan  Jul  ...  Tue  Wed  year  temp  dewp  NUM_COLLISIONS\n",
              "46     0    0    0    1    0    0  ...    0    0  2016  47.8  40.9        0.423358\n",
              "474    0    0    0    0    0    1  ...    0    0  2017  67.1  57.7        0.384615\n",
              "669    0    0    0    0    0    0  ...    0    0  2018  36.5  28.1        0.700000\n",
              "629    0    0    0    0    1    0  ...    0    0  2018  28.0  12.4        0.377778\n",
              "735    0    0    0    0    0    0  ...    0    0  2018  52.8  48.1        0.092593\n",
              "\n",
              "[5 rows x 23 columns]"
            ]
          },
          "metadata": {
            "tags": []
          },
          "execution_count": 214
        }
      ]
    },
    {
      "cell_type": "code",
      "metadata": {
        "colab": {
          "base_uri": "https://localhost:8080/"
        },
        "id": "UJ6zgak7ILtn",
        "outputId": "33497b21-d806-4634-cf3e-635b86ff4eed"
      },
      "source": [
        "# select all rows of the chosen colummn\n",
        "targets = shuffle.iloc[:,22]\n",
        "\n",
        "# show the first six rows of the targets\n",
        "print(targets[:6])"
      ],
      "execution_count": null,
      "outputs": [
        {
          "output_type": "stream",
          "text": [
            "46     0.423358\n",
            "474    0.384615\n",
            "669    0.700000\n",
            "629    0.377778\n",
            "735    0.092593\n",
            "549    0.860806\n",
            "Name: NUM_COLLISIONS, dtype: float64\n"
          ],
          "name": "stdout"
        }
      ]
    },
    {
      "cell_type": "code",
      "metadata": {
        "id": "k-0VuMuwILtn"
      },
      "source": [
        "# scale the data\n",
        "SCALE_NUM_COLLISIONS = 1.0"
      ],
      "execution_count": null,
      "outputs": []
    },
    {
      "cell_type": "code",
      "metadata": {
        "id": "udX5-gQ8ILtn"
      },
      "source": [
        "# split data into a training set that is 80% of the full shuffled array\n",
        "trainsize = int(len(shuffle['NUM_COLLISIONS'])*0.8)\n",
        "# subtract training set size from test set to leave 20% of the array\n",
        "testsize = len(shuffle['NUM_COLLISIONS']) - trainsize\n",
        "\n",
        "# set number of input values/predictors\n",
        "nppredictors = 22\n",
        "# set number of output values/targets\n",
        "noutputs = 1"
      ],
      "execution_count": null,
      "outputs": []
    },
    {
      "cell_type": "code",
      "metadata": {
        "colab": {
          "base_uri": "https://localhost:8080/"
        },
        "id": "i9QptEzuILtn",
        "outputId": "e5e2143f-052b-4026-9275-c8f2d050403e"
      },
      "source": [
        "# import tensorflow\n",
        "%tensorflow_version 1.x\n",
        "import tensorflow as tf\n",
        "\n",
        "# check version\n",
        "print(tf.__version__)\n",
        "\n",
        "import shutil  \n",
        "\n",
        "# logging for tensorflow\n",
        "tf.compat.v1.logging.set_verbosity(tf.compat.v1.logging.INFO)\n",
        "\n",
        "# remove saved model from previous training attempts\n",
        "shutil.rmtree('/tmp/DNN_regression_trained_model', ignore_errors=True)\n",
        "\n",
        "estimator = tf.contrib.learn.SKCompat(tf.contrib.learn.DNNRegressor(model_dir='/tmp/DNN_regression_trained_model', hidden_units=[20,18,14], optimizer=tf.train.AdamOptimizer(learning_rate=0.01), enable_centered_bias=False, feature_columns=tf.contrib.learn.infer_real_valued_columns_from_input(predictors.values)))\n",
        "\n",
        "# show model is beginning to train\n",
        "print(\"starting to train\");\n",
        "\n",
        "# use predictors and target values to train the model\n",
        "estimator.fit(predictors[:trainsize].values, targets[:trainsize].values.reshape(trainsize, noutputs)/SCALE_NUM_COLLISIONS, steps=10000)\n",
        "\n",
        "# check predictors\n",
        "preds = estimator.predict(x=predictors[trainsize:].values)\n",
        "\n",
        "# apply the same scale to output\n",
        "predslistscale = preds['scores']*SCALE_NUM_COLLISIONS\n",
        "\n",
        "# calculate RMSE\n",
        "rmse = np.sqrt(np.mean((targets[trainsize:].values - predslistscale)**2))\n",
        "print('DNNRegression has RMSE of {0}'.format(rmse));\n",
        "\n",
        "# calculate mean number of collisions\n",
        "avg = np.mean(shuffle['NUM_COLLISIONS'][:trainsize])\n",
        "\n",
        "# calculate RMSE using the number of collisions and mean of all other values\n",
        "rmse = np.sqrt(np.mean((shuffle['NUM_COLLISIONS'][trainsize:] - avg)**2))\n",
        "print('Just using average = {0} has RMSE of {1}'.format(avg, rmse));"
      ],
      "execution_count": null,
      "outputs": [
        {
          "output_type": "stream",
          "text": [
            "1.15.2\n",
            "WARNING:tensorflow:float64 is not supported by many models, consider casting to float32.\n",
            "INFO:tensorflow:Using default config.\n",
            "INFO:tensorflow:Using config: {'_task_type': None, '_task_id': 0, '_cluster_spec': <tensorflow.python.training.server_lib.ClusterSpec object at 0x7f9d9f06e208>, '_master': '', '_num_ps_replicas': 0, '_num_worker_replicas': 0, '_environment': 'local', '_is_chief': True, '_evaluation_master': '', '_train_distribute': None, '_eval_distribute': None, '_experimental_max_worker_delay_secs': None, '_device_fn': None, '_tf_config': gpu_options {\n",
            "  per_process_gpu_memory_fraction: 1.0\n",
            "}\n",
            ", '_tf_random_seed': None, '_save_summary_steps': 100, '_save_checkpoints_secs': 600, '_log_step_count_steps': 100, '_protocol': None, '_session_config': None, '_save_checkpoints_steps': None, '_keep_checkpoint_max': 5, '_keep_checkpoint_every_n_hours': 10000, '_model_dir': '/tmp/DNN_regression_trained_model', '_session_creation_timeout_secs': 7200}\n",
            "starting to train\n",
            "WARNING:tensorflow:float64 is not supported by many models, consider casting to float32.\n",
            "WARNING:tensorflow:float64 is not supported by many models, consider casting to float32.\n",
            "INFO:tensorflow:Create CheckpointSaverHook.\n",
            "INFO:tensorflow:Graph was finalized.\n",
            "INFO:tensorflow:Running local_init_op.\n",
            "INFO:tensorflow:Done running local_init_op.\n",
            "INFO:tensorflow:Saving checkpoints for 0 into /tmp/DNN_regression_trained_model/model.ckpt.\n",
            "INFO:tensorflow:loss = 12269.108, step = 1\n",
            "INFO:tensorflow:global_step/sec: 484.809\n",
            "INFO:tensorflow:loss = 0.11957745, step = 101 (0.208 sec)\n",
            "INFO:tensorflow:global_step/sec: 607.761\n",
            "INFO:tensorflow:loss = 0.07331431, step = 201 (0.166 sec)\n",
            "INFO:tensorflow:global_step/sec: 641.939\n",
            "INFO:tensorflow:loss = 0.06632992, step = 301 (0.154 sec)\n",
            "INFO:tensorflow:global_step/sec: 617.331\n",
            "INFO:tensorflow:loss = 0.06710313, step = 401 (0.161 sec)\n",
            "INFO:tensorflow:global_step/sec: 617.312\n",
            "INFO:tensorflow:loss = 0.067231715, step = 501 (0.165 sec)\n",
            "INFO:tensorflow:global_step/sec: 521.784\n",
            "INFO:tensorflow:loss = 0.06929998, step = 601 (0.189 sec)\n",
            "INFO:tensorflow:global_step/sec: 610.457\n",
            "INFO:tensorflow:loss = 0.05802957, step = 701 (0.167 sec)\n",
            "INFO:tensorflow:global_step/sec: 565.128\n",
            "INFO:tensorflow:loss = 0.058047645, step = 801 (0.177 sec)\n",
            "INFO:tensorflow:global_step/sec: 600.678\n",
            "INFO:tensorflow:loss = 0.064503275, step = 901 (0.164 sec)\n",
            "INFO:tensorflow:global_step/sec: 596.354\n",
            "INFO:tensorflow:loss = 0.05009511, step = 1001 (0.171 sec)\n",
            "INFO:tensorflow:global_step/sec: 574.478\n",
            "INFO:tensorflow:loss = 0.050740015, step = 1101 (0.170 sec)\n",
            "INFO:tensorflow:global_step/sec: 525.114\n",
            "INFO:tensorflow:loss = 0.068309754, step = 1201 (0.190 sec)\n",
            "INFO:tensorflow:global_step/sec: 526.896\n",
            "INFO:tensorflow:loss = 0.05886577, step = 1301 (0.190 sec)\n",
            "INFO:tensorflow:global_step/sec: 523.906\n",
            "INFO:tensorflow:loss = 0.059256565, step = 1401 (0.193 sec)\n",
            "INFO:tensorflow:global_step/sec: 546.142\n",
            "INFO:tensorflow:loss = 0.056178454, step = 1501 (0.183 sec)\n",
            "INFO:tensorflow:global_step/sec: 604.365\n",
            "INFO:tensorflow:loss = 0.060235344, step = 1601 (0.162 sec)\n",
            "INFO:tensorflow:global_step/sec: 570.567\n",
            "INFO:tensorflow:loss = 0.051457033, step = 1701 (0.179 sec)\n",
            "INFO:tensorflow:global_step/sec: 606.868\n",
            "INFO:tensorflow:loss = 0.05112545, step = 1801 (0.161 sec)\n",
            "INFO:tensorflow:global_step/sec: 601.741\n",
            "INFO:tensorflow:loss = 0.05308324, step = 1901 (0.167 sec)\n",
            "INFO:tensorflow:global_step/sec: 606.737\n",
            "INFO:tensorflow:loss = 0.044866376, step = 2001 (0.164 sec)\n",
            "INFO:tensorflow:global_step/sec: 610.399\n",
            "INFO:tensorflow:loss = 0.050662037, step = 2101 (0.164 sec)\n",
            "INFO:tensorflow:global_step/sec: 552.887\n",
            "INFO:tensorflow:loss = 0.046087712, step = 2201 (0.183 sec)\n",
            "INFO:tensorflow:global_step/sec: 548.325\n",
            "INFO:tensorflow:loss = 0.04700063, step = 2301 (0.182 sec)\n",
            "INFO:tensorflow:global_step/sec: 601.171\n",
            "INFO:tensorflow:loss = 0.045507047, step = 2401 (0.164 sec)\n",
            "INFO:tensorflow:global_step/sec: 619.694\n",
            "INFO:tensorflow:loss = 0.044656325, step = 2501 (0.164 sec)\n",
            "INFO:tensorflow:global_step/sec: 618.684\n",
            "INFO:tensorflow:loss = 0.045706183, step = 2601 (0.162 sec)\n",
            "INFO:tensorflow:global_step/sec: 589.156\n",
            "INFO:tensorflow:loss = 0.049383663, step = 2701 (0.167 sec)\n",
            "INFO:tensorflow:global_step/sec: 636.885\n",
            "INFO:tensorflow:loss = 0.064131804, step = 2801 (0.160 sec)\n",
            "INFO:tensorflow:global_step/sec: 573.27\n",
            "INFO:tensorflow:loss = 0.047644712, step = 2901 (0.175 sec)\n",
            "INFO:tensorflow:global_step/sec: 572.439\n",
            "INFO:tensorflow:loss = 0.052824236, step = 3001 (0.174 sec)\n",
            "INFO:tensorflow:global_step/sec: 571.724\n",
            "INFO:tensorflow:loss = 0.049298726, step = 3101 (0.175 sec)\n",
            "INFO:tensorflow:global_step/sec: 621.317\n",
            "INFO:tensorflow:loss = 0.038610537, step = 3201 (0.161 sec)\n",
            "INFO:tensorflow:global_step/sec: 615.761\n",
            "INFO:tensorflow:loss = 0.041122876, step = 3301 (0.162 sec)\n",
            "INFO:tensorflow:global_step/sec: 593.766\n",
            "INFO:tensorflow:loss = 0.039345138, step = 3401 (0.166 sec)\n",
            "INFO:tensorflow:global_step/sec: 575.601\n",
            "INFO:tensorflow:loss = 0.039927423, step = 3501 (0.173 sec)\n",
            "INFO:tensorflow:global_step/sec: 601.126\n",
            "INFO:tensorflow:loss = 0.048508555, step = 3601 (0.166 sec)\n",
            "INFO:tensorflow:global_step/sec: 583.066\n",
            "INFO:tensorflow:loss = 0.045669623, step = 3701 (0.175 sec)\n",
            "INFO:tensorflow:global_step/sec: 618.293\n",
            "INFO:tensorflow:loss = 0.03568642, step = 3801 (0.161 sec)\n",
            "INFO:tensorflow:global_step/sec: 644.604\n",
            "INFO:tensorflow:loss = 0.040935982, step = 3901 (0.152 sec)\n",
            "INFO:tensorflow:global_step/sec: 595.657\n",
            "INFO:tensorflow:loss = 0.03685971, step = 4001 (0.168 sec)\n",
            "INFO:tensorflow:global_step/sec: 617.721\n",
            "INFO:tensorflow:loss = 0.045445114, step = 4101 (0.164 sec)\n",
            "INFO:tensorflow:global_step/sec: 319.954\n",
            "INFO:tensorflow:loss = 0.036875427, step = 4201 (0.309 sec)\n",
            "INFO:tensorflow:global_step/sec: 606.709\n",
            "INFO:tensorflow:loss = 0.04855653, step = 4301 (0.164 sec)\n",
            "INFO:tensorflow:global_step/sec: 606.905\n",
            "INFO:tensorflow:loss = 0.03698868, step = 4401 (0.165 sec)\n",
            "INFO:tensorflow:global_step/sec: 630.732\n",
            "INFO:tensorflow:loss = 0.034975406, step = 4501 (0.159 sec)\n",
            "INFO:tensorflow:global_step/sec: 601.933\n",
            "INFO:tensorflow:loss = 0.04683961, step = 4601 (0.166 sec)\n",
            "INFO:tensorflow:global_step/sec: 552.096\n",
            "INFO:tensorflow:loss = 0.06462586, step = 4701 (0.181 sec)\n",
            "INFO:tensorflow:global_step/sec: 616.834\n",
            "INFO:tensorflow:loss = 0.06891523, step = 4801 (0.162 sec)\n",
            "INFO:tensorflow:global_step/sec: 633.323\n",
            "INFO:tensorflow:loss = 0.06778322, step = 4901 (0.158 sec)\n",
            "INFO:tensorflow:global_step/sec: 632.681\n",
            "INFO:tensorflow:loss = 0.041925445, step = 5001 (0.158 sec)\n",
            "INFO:tensorflow:global_step/sec: 594.32\n",
            "INFO:tensorflow:loss = 0.042395383, step = 5101 (0.168 sec)\n",
            "INFO:tensorflow:global_step/sec: 606.967\n",
            "INFO:tensorflow:loss = 0.05382072, step = 5201 (0.165 sec)\n",
            "INFO:tensorflow:global_step/sec: 533.9\n",
            "INFO:tensorflow:loss = 0.036868017, step = 5301 (0.188 sec)\n",
            "INFO:tensorflow:global_step/sec: 578.078\n",
            "INFO:tensorflow:loss = 0.046430238, step = 5401 (0.174 sec)\n",
            "INFO:tensorflow:global_step/sec: 618.083\n",
            "INFO:tensorflow:loss = 0.04360417, step = 5501 (0.160 sec)\n",
            "INFO:tensorflow:global_step/sec: 569.386\n",
            "INFO:tensorflow:loss = 0.026780833, step = 5601 (0.176 sec)\n",
            "INFO:tensorflow:global_step/sec: 617.241\n",
            "INFO:tensorflow:loss = 0.07073589, step = 5701 (0.162 sec)\n",
            "INFO:tensorflow:global_step/sec: 560.196\n",
            "INFO:tensorflow:loss = 0.03411849, step = 5801 (0.178 sec)\n",
            "INFO:tensorflow:global_step/sec: 494.496\n",
            "INFO:tensorflow:loss = 0.05450995, step = 5901 (0.203 sec)\n",
            "INFO:tensorflow:global_step/sec: 557.034\n",
            "INFO:tensorflow:loss = 0.05624667, step = 6001 (0.179 sec)\n",
            "INFO:tensorflow:global_step/sec: 620.035\n",
            "INFO:tensorflow:loss = 0.09749371, step = 6101 (0.161 sec)\n",
            "INFO:tensorflow:global_step/sec: 592.726\n",
            "INFO:tensorflow:loss = 0.039246213, step = 6201 (0.169 sec)\n",
            "INFO:tensorflow:global_step/sec: 607.338\n",
            "INFO:tensorflow:loss = 0.052370884, step = 6301 (0.165 sec)\n",
            "INFO:tensorflow:global_step/sec: 545.111\n",
            "INFO:tensorflow:loss = 0.13252015, step = 6401 (0.183 sec)\n",
            "INFO:tensorflow:global_step/sec: 575.62\n",
            "INFO:tensorflow:loss = 0.24786913, step = 6501 (0.174 sec)\n",
            "INFO:tensorflow:global_step/sec: 535.079\n",
            "INFO:tensorflow:loss = 0.03718187, step = 6601 (0.186 sec)\n",
            "INFO:tensorflow:global_step/sec: 556.213\n",
            "INFO:tensorflow:loss = 0.04508406, step = 6701 (0.180 sec)\n",
            "INFO:tensorflow:global_step/sec: 599.826\n",
            "INFO:tensorflow:loss = 0.044835597, step = 6801 (0.167 sec)\n",
            "INFO:tensorflow:global_step/sec: 623.371\n",
            "INFO:tensorflow:loss = 0.050130002, step = 6901 (0.160 sec)\n",
            "INFO:tensorflow:global_step/sec: 634.451\n",
            "INFO:tensorflow:loss = 0.067731395, step = 7001 (0.158 sec)\n",
            "INFO:tensorflow:global_step/sec: 576.294\n",
            "INFO:tensorflow:loss = 0.052985415, step = 7101 (0.174 sec)\n",
            "INFO:tensorflow:global_step/sec: 614.714\n",
            "INFO:tensorflow:loss = 0.045178995, step = 7201 (0.162 sec)\n",
            "INFO:tensorflow:global_step/sec: 624.139\n",
            "INFO:tensorflow:loss = 0.104995266, step = 7301 (0.160 sec)\n",
            "INFO:tensorflow:global_step/sec: 588.835\n",
            "INFO:tensorflow:loss = 0.039212506, step = 7401 (0.170 sec)\n",
            "INFO:tensorflow:global_step/sec: 621.332\n",
            "INFO:tensorflow:loss = 0.07824676, step = 7501 (0.161 sec)\n",
            "INFO:tensorflow:global_step/sec: 632.623\n",
            "INFO:tensorflow:loss = 0.051150907, step = 7601 (0.158 sec)\n",
            "INFO:tensorflow:global_step/sec: 608.166\n",
            "INFO:tensorflow:loss = 0.056566037, step = 7701 (0.165 sec)\n",
            "INFO:tensorflow:global_step/sec: 628.203\n",
            "INFO:tensorflow:loss = 0.041603405, step = 7801 (0.159 sec)\n",
            "INFO:tensorflow:global_step/sec: 642.443\n",
            "INFO:tensorflow:loss = 0.04220596, step = 7901 (0.156 sec)\n",
            "INFO:tensorflow:global_step/sec: 609.846\n",
            "INFO:tensorflow:loss = 0.039355643, step = 8001 (0.164 sec)\n",
            "INFO:tensorflow:global_step/sec: 601.197\n",
            "INFO:tensorflow:loss = 0.052792076, step = 8101 (0.166 sec)\n",
            "INFO:tensorflow:global_step/sec: 608.677\n",
            "INFO:tensorflow:loss = 0.04871536, step = 8201 (0.164 sec)\n",
            "INFO:tensorflow:global_step/sec: 552.753\n",
            "INFO:tensorflow:loss = 0.06372366, step = 8301 (0.181 sec)\n",
            "INFO:tensorflow:global_step/sec: 586.405\n",
            "INFO:tensorflow:loss = 0.05210057, step = 8401 (0.171 sec)\n",
            "INFO:tensorflow:global_step/sec: 613.475\n",
            "INFO:tensorflow:loss = 0.03895309, step = 8501 (0.163 sec)\n",
            "INFO:tensorflow:global_step/sec: 587.581\n",
            "INFO:tensorflow:loss = 0.047350556, step = 8601 (0.170 sec)\n",
            "INFO:tensorflow:global_step/sec: 597.847\n",
            "INFO:tensorflow:loss = 0.036558077, step = 8701 (0.167 sec)\n",
            "INFO:tensorflow:global_step/sec: 585.638\n",
            "INFO:tensorflow:loss = 0.036380224, step = 8801 (0.171 sec)\n",
            "INFO:tensorflow:global_step/sec: 571.715\n",
            "INFO:tensorflow:loss = 0.04547948, step = 8901 (0.175 sec)\n",
            "INFO:tensorflow:global_step/sec: 585.999\n",
            "INFO:tensorflow:loss = 0.030308504, step = 9001 (0.170 sec)\n",
            "INFO:tensorflow:global_step/sec: 626.78\n",
            "INFO:tensorflow:loss = 0.036102407, step = 9101 (0.160 sec)\n",
            "INFO:tensorflow:global_step/sec: 648.262\n",
            "INFO:tensorflow:loss = 0.04410394, step = 9201 (0.155 sec)\n",
            "INFO:tensorflow:global_step/sec: 608.292\n",
            "INFO:tensorflow:loss = 0.02845662, step = 9301 (0.164 sec)\n",
            "INFO:tensorflow:global_step/sec: 596.36\n",
            "INFO:tensorflow:loss = 0.037988923, step = 9401 (0.168 sec)\n",
            "INFO:tensorflow:global_step/sec: 597.145\n",
            "INFO:tensorflow:loss = 0.049559977, step = 9501 (0.167 sec)\n",
            "INFO:tensorflow:global_step/sec: 625.677\n",
            "INFO:tensorflow:loss = 0.029841935, step = 9601 (0.161 sec)\n",
            "INFO:tensorflow:global_step/sec: 543.697\n",
            "INFO:tensorflow:loss = 79.47215, step = 9701 (0.183 sec)\n",
            "INFO:tensorflow:global_step/sec: 596.583\n",
            "INFO:tensorflow:loss = 0.06550568, step = 9801 (0.167 sec)\n",
            "INFO:tensorflow:global_step/sec: 601.587\n",
            "INFO:tensorflow:loss = 0.07531345, step = 9901 (0.166 sec)\n",
            "INFO:tensorflow:Saving checkpoints for 10000 into /tmp/DNN_regression_trained_model/model.ckpt.\n",
            "INFO:tensorflow:Loss for final step: 0.06000925.\n",
            "WARNING:tensorflow:float64 is not supported by many models, consider casting to float32.\n",
            "INFO:tensorflow:Graph was finalized.\n",
            "INFO:tensorflow:Restoring parameters from /tmp/DNN_regression_trained_model/model.ckpt-10000\n",
            "INFO:tensorflow:Running local_init_op.\n",
            "INFO:tensorflow:Done running local_init_op.\n",
            "DNNRegression has RMSE of 0.2349944647341423\n",
            "Just using average = 0.5145282249855261 has RMSE of 0.23611840669995776\n"
          ],
          "name": "stdout"
        }
      ]
    },
    {
      "cell_type": "markdown",
      "metadata": {
        "id": "ux1BoWMZVtC0"
      },
      "source": [
        "The RMSE for 2016-18 is very similar to that found while using the linear regression model, however, as shown below, this model struggles with making useful predictions, with collision numbers within very close range of each other. This is unrepresentative of the spread between collision numbers of the years included in the dataset."
      ]
    },
    {
      "cell_type": "code",
      "metadata": {
        "colab": {
          "base_uri": "https://localhost:8080/"
        },
        "id": "VrsGJfjIILtn",
        "outputId": "45313e9a-f0e5-47eb-d1e1-029d20a79ece"
      },
      "source": [
        "input = pd.DataFrame.from_dict(data = \n",
        "\t\t\t\t{\n",
        "         'Apr' : [0,0,0],\n",
        "         'Aug' : [0,0,1],\n",
        "         'Dec' : [0,0,0],\n",
        "         'Feb' : [0,0,0],\n",
        "         'Jan' : [1,0,0],\n",
        "         'Jul' : [0,0,0],\n",
        "         'Jun' : [0,0,0],\n",
        "         'Mar' : [0,0,0],\n",
        "         'May' : [0,1,0],\n",
        "         'Nov' : [0,0,0],\n",
        "         'Oct' : [0,0,0],\n",
        "         'Sep' : [0,0,0],\n",
        "         'Fri' : [0,0,0],\n",
        "         'Mon' : [1,1,1],\n",
        "         'Sat' : [0,0,0],\n",
        "         'Sun' : [0,0,0],\n",
        "         'Thu' : [0,0,0],\n",
        "         'Tue' : [0,0,0],\n",
        "         'Wed' : [0,0,0],\n",
        "         'year' : [2017,2017,2017],\n",
        "         'dewp' : [5.4, 16.9, 48.3],\n",
        "         'temp' : [8.9, 20.5, 54.0]\n",
        "        })\n",
        "\n",
        "estimator = tf.contrib.learn.SKCompat(tf.contrib.learn.DNNRegressor(model_dir='/tmp/DNN_regression_trained_model', hidden_units=[20,18,14], enable_centered_bias=False, feature_columns=tf.contrib.learn.infer_real_valued_columns_from_input(input.values)))\n",
        "\n",
        "preds = estimator.predict(x=input.values)\n",
        "\n",
        "predslistnorm = preds['scores']\n",
        "prednorm = format(str(predslistnorm))\n",
        "print(prednorm)"
      ],
      "execution_count": null,
      "outputs": [
        {
          "output_type": "stream",
          "text": [
            "WARNING:tensorflow:float64 is not supported by many models, consider casting to float32.\n",
            "INFO:tensorflow:Using default config.\n",
            "INFO:tensorflow:Using config: {'_task_type': None, '_task_id': 0, '_cluster_spec': <tensorflow.python.training.server_lib.ClusterSpec object at 0x7f9d9ed33860>, '_master': '', '_num_ps_replicas': 0, '_num_worker_replicas': 0, '_environment': 'local', '_is_chief': True, '_evaluation_master': '', '_train_distribute': None, '_eval_distribute': None, '_experimental_max_worker_delay_secs': None, '_device_fn': None, '_tf_config': gpu_options {\n",
            "  per_process_gpu_memory_fraction: 1.0\n",
            "}\n",
            ", '_tf_random_seed': None, '_save_summary_steps': 100, '_save_checkpoints_secs': 600, '_log_step_count_steps': 100, '_protocol': None, '_session_config': None, '_save_checkpoints_steps': None, '_keep_checkpoint_max': 5, '_keep_checkpoint_every_n_hours': 10000, '_model_dir': '/tmp/DNN_regression_trained_model', '_session_creation_timeout_secs': 7200}\n",
            "WARNING:tensorflow:float64 is not supported by many models, consider casting to float32.\n",
            "INFO:tensorflow:Graph was finalized.\n",
            "INFO:tensorflow:Restoring parameters from /tmp/DNN_regression_trained_model/model.ckpt-10000\n",
            "INFO:tensorflow:Running local_init_op.\n",
            "INFO:tensorflow:Done running local_init_op.\n",
            "[0.4908818  0.49849474 0.51687455]\n"
          ],
          "name": "stdout"
        }
      ]
    },
    {
      "cell_type": "markdown",
      "metadata": {
        "id": "uUERYtoDWSmU"
      },
      "source": [
        "In this case, it appears the linear regression model is more capable at handling the wider spread of data used in this set. This data may require further cleansing and splitting if further use of a neural network was to be undertaken. As shown below, it also fails to represent the relationship between days of the week as clearly as with the 2013-15 data, suggesting an issue with this dataset that limits its compatibility with a DNN."
      ]
    },
    {
      "cell_type": "code",
      "metadata": {
        "colab": {
          "base_uri": "https://localhost:8080/"
        },
        "id": "uKk9p01-Yb79",
        "outputId": "96dc1560-c824-4f55-f2b5-6dfa700efcd0"
      },
      "source": [
        "input = pd.DataFrame.from_dict(data = \r\n",
        "\t\t\t\t{\r\n",
        "         'Apr' : [0,0,0],\r\n",
        "         'Aug' : [0,0,0],\r\n",
        "         'Dec' : [0,0,0],\r\n",
        "         'Feb' : [0,0,0],\r\n",
        "         'Jan' : [1,1,1],\r\n",
        "         'Jul' : [0,0,0],\r\n",
        "         'Jun' : [0,0,0],\r\n",
        "         'Mar' : [0,0,0],\r\n",
        "         'May' : [0,0,0],\r\n",
        "         'Nov' : [0,0,0],\r\n",
        "         'Oct' : [0,0,0],\r\n",
        "         'Sep' : [0,0,0],\r\n",
        "         'Fri' : [0,0,1],\r\n",
        "         'Mon' : [0,1,0],\r\n",
        "         'Sat' : [0,0,0],\r\n",
        "         'Sun' : [1,0,0],\r\n",
        "         'Thu' : [0,0,0],\r\n",
        "         'Tue' : [0,0,0],\r\n",
        "         'Wed' : [0,0,0],\r\n",
        "         'year' : [2017,2017,2017],\r\n",
        "         'dewp' : [16.6, 8.9, 24.2],\r\n",
        "         'temp' : [28.1, 24.3, 30.4]\r\n",
        "        })\r\n",
        "\r\n",
        "estimator = tf.contrib.learn.SKCompat(tf.contrib.learn.DNNRegressor(model_dir='/tmp/DNN_regression_trained_model', hidden_units=[20,18,14], enable_centered_bias=False, feature_columns=tf.contrib.learn.infer_real_valued_columns_from_input(input.values)))\r\n",
        "\r\n",
        "preds = estimator.predict(x=input.values)\r\n",
        "\r\n",
        "predslistnorm = preds['scores']\r\n",
        "prednorm = format(str(predslistnorm))\r\n",
        "print(prednorm)"
      ],
      "execution_count": null,
      "outputs": [
        {
          "output_type": "stream",
          "text": [
            "WARNING:tensorflow:float64 is not supported by many models, consider casting to float32.\n",
            "INFO:tensorflow:Using default config.\n",
            "INFO:tensorflow:Using config: {'_task_type': None, '_task_id': 0, '_cluster_spec': <tensorflow.python.training.server_lib.ClusterSpec object at 0x7f9da789a1d0>, '_master': '', '_num_ps_replicas': 0, '_num_worker_replicas': 0, '_environment': 'local', '_is_chief': True, '_evaluation_master': '', '_train_distribute': None, '_eval_distribute': None, '_experimental_max_worker_delay_secs': None, '_device_fn': None, '_tf_config': gpu_options {\n",
            "  per_process_gpu_memory_fraction: 1.0\n",
            "}\n",
            ", '_tf_random_seed': None, '_save_summary_steps': 100, '_save_checkpoints_secs': 600, '_log_step_count_steps': 100, '_protocol': None, '_session_config': None, '_save_checkpoints_steps': None, '_keep_checkpoint_max': 5, '_keep_checkpoint_every_n_hours': 10000, '_model_dir': '/tmp/DNN_regression_trained_model', '_session_creation_timeout_secs': 7200}\n",
            "WARNING:tensorflow:float64 is not supported by many models, consider casting to float32.\n",
            "INFO:tensorflow:Graph was finalized.\n",
            "INFO:tensorflow:Restoring parameters from /tmp/DNN_regression_trained_model/model.ckpt-10000\n",
            "INFO:tensorflow:Running local_init_op.\n",
            "INFO:tensorflow:Done running local_init_op.\n",
            "[0.49773353 0.4921314  0.50262034]\n"
          ],
          "name": "stdout"
        }
      ]
    },
    {
      "cell_type": "markdown",
      "metadata": {
        "id": "Z98hU9LQJBn7"
      },
      "source": [
        "### 2019"
      ]
    },
    {
      "cell_type": "code",
      "metadata": {
        "id": "XBdelD_uJBn8"
      },
      "source": [
        "# needed to create the data frame\n",
        "import pandas as pd\n",
        "\n",
        "# create data frame from 2019 csv file\n",
        "df = pd.read_csv('https://raw.githubusercontent.com/15007919uhi/15007919_DataAnalytics/master/dnn19.csv', index_col=0)"
      ],
      "execution_count": null,
      "outputs": []
    },
    {
      "cell_type": "code",
      "metadata": {
        "colab": {
          "base_uri": "https://localhost:8080/"
        },
        "id": "KLftdHhIJBn8",
        "outputId": "148dd5c8-87d3-4d96-f716-2d4562f824a5"
      },
      "source": [
        "# print the data\n",
        "print(df[:6])"
      ],
      "execution_count": null,
      "outputs": [
        {
          "output_type": "stream",
          "text": [
            "   Apr  Aug  Dec  Feb  Jan  Jul  ...  Tue  Wed  year  temp  dewp  NUM_COLLISIONS\n",
            "1    0    0    0    0    1    0  ...    1    0  2019  47.4  41.6        0.083095\n",
            "2    0    0    0    0    1    0  ...    0    1  2019  35.0  23.4        0.292264\n",
            "3    0    0    0    0    1    0  ...    0    0  2019  39.4  32.9        0.297994\n",
            "4    0    0    0    0    1    0  ...    0    0  2019  39.0  30.2        0.567335\n",
            "5    0    0    0    0    1    0  ...    0    0  2019  43.8  42.4        0.157593\n",
            "6    0    0    0    0    1    0  ...    0    0  2019  27.4  11.7        0.524355\n",
            "\n",
            "[6 rows x 23 columns]\n"
          ],
          "name": "stdout"
        }
      ]
    },
    {
      "cell_type": "code",
      "metadata": {
        "colab": {
          "base_uri": "https://localhost:8080/"
        },
        "id": "vVVjkTD0JBn8",
        "outputId": "206dabb5-1372-413b-ae77-73637132f4d0"
      },
      "source": [
        "# needed for calculations\n",
        "import numpy as np\n",
        "\n",
        "# shuffle the data by row at random\n",
        "shuffle = df.iloc[np.random.permutation(len(df))]\n",
        "\n",
        "# select columns to take predictors from\n",
        "predictors = shuffle.iloc[:,0:22]\n",
        "\n",
        "# print the first 6 rows of predictors\n",
        "print(predictors[:6])"
      ],
      "execution_count": null,
      "outputs": [
        {
          "output_type": "stream",
          "text": [
            "     Apr  Aug  Dec  Feb  Jan  Jul  Jun  ...  Sun  Thu  Tue  Wed  year  temp  dewp\n",
            "314    0    0    0    0    0    0    0  ...    0    1    0    0  2019  43.3  36.2\n",
            "264    0    0    0    0    0    0    0  ...    0    0    0    0  2019  56.3  48.8\n",
            "248    0    0    0    0    0    0    0  ...    0    0    0    0  2019  60.7  54.2\n",
            "349    0    0    1    0    0    0    0  ...    0    0    1    0  2019  44.7  42.6\n",
            "164    0    0    0    0    0    0    1  ...    0    0    1    0  2019  60.4  58.8\n",
            "38     0    0    0    1    0    0    0  ...    0    0    0    0  2019  31.5  10.3\n",
            "\n",
            "[6 rows x 22 columns]\n"
          ],
          "name": "stdout"
        }
      ]
    },
    {
      "cell_type": "code",
      "metadata": {
        "colab": {
          "base_uri": "https://localhost:8080/",
          "height": 204
        },
        "id": "O03iiT-vJBn8",
        "outputId": "75544870-1582-4483-815d-488f4df7b238"
      },
      "source": [
        "# print the first 5 rows of the shuffled data\n",
        "shuffle[:5]"
      ],
      "execution_count": null,
      "outputs": [
        {
          "output_type": "execute_result",
          "data": {
            "text/html": [
              "<div>\n",
              "<style scoped>\n",
              "    .dataframe tbody tr th:only-of-type {\n",
              "        vertical-align: middle;\n",
              "    }\n",
              "\n",
              "    .dataframe tbody tr th {\n",
              "        vertical-align: top;\n",
              "    }\n",
              "\n",
              "    .dataframe thead th {\n",
              "        text-align: right;\n",
              "    }\n",
              "</style>\n",
              "<table border=\"1\" class=\"dataframe\">\n",
              "  <thead>\n",
              "    <tr style=\"text-align: right;\">\n",
              "      <th></th>\n",
              "      <th>Apr</th>\n",
              "      <th>Aug</th>\n",
              "      <th>Dec</th>\n",
              "      <th>Feb</th>\n",
              "      <th>Jan</th>\n",
              "      <th>Jul</th>\n",
              "      <th>Jun</th>\n",
              "      <th>Mar</th>\n",
              "      <th>May</th>\n",
              "      <th>Nov</th>\n",
              "      <th>Oct</th>\n",
              "      <th>Sep</th>\n",
              "      <th>Fri</th>\n",
              "      <th>Mon</th>\n",
              "      <th>Sat</th>\n",
              "      <th>Sun</th>\n",
              "      <th>Thu</th>\n",
              "      <th>Tue</th>\n",
              "      <th>Wed</th>\n",
              "      <th>year</th>\n",
              "      <th>temp</th>\n",
              "      <th>dewp</th>\n",
              "      <th>NUM_COLLISIONS</th>\n",
              "    </tr>\n",
              "  </thead>\n",
              "  <tbody>\n",
              "    <tr>\n",
              "      <th>314</th>\n",
              "      <td>0</td>\n",
              "      <td>0</td>\n",
              "      <td>0</td>\n",
              "      <td>0</td>\n",
              "      <td>0</td>\n",
              "      <td>0</td>\n",
              "      <td>0</td>\n",
              "      <td>0</td>\n",
              "      <td>0</td>\n",
              "      <td>1</td>\n",
              "      <td>0</td>\n",
              "      <td>0</td>\n",
              "      <td>0</td>\n",
              "      <td>0</td>\n",
              "      <td>0</td>\n",
              "      <td>0</td>\n",
              "      <td>1</td>\n",
              "      <td>0</td>\n",
              "      <td>0</td>\n",
              "      <td>2019</td>\n",
              "      <td>43.3</td>\n",
              "      <td>36.2</td>\n",
              "      <td>0.707736</td>\n",
              "    </tr>\n",
              "    <tr>\n",
              "      <th>264</th>\n",
              "      <td>0</td>\n",
              "      <td>0</td>\n",
              "      <td>0</td>\n",
              "      <td>0</td>\n",
              "      <td>0</td>\n",
              "      <td>0</td>\n",
              "      <td>0</td>\n",
              "      <td>0</td>\n",
              "      <td>0</td>\n",
              "      <td>0</td>\n",
              "      <td>0</td>\n",
              "      <td>1</td>\n",
              "      <td>0</td>\n",
              "      <td>1</td>\n",
              "      <td>0</td>\n",
              "      <td>0</td>\n",
              "      <td>0</td>\n",
              "      <td>0</td>\n",
              "      <td>0</td>\n",
              "      <td>2019</td>\n",
              "      <td>56.3</td>\n",
              "      <td>48.8</td>\n",
              "      <td>0.100287</td>\n",
              "    </tr>\n",
              "    <tr>\n",
              "      <th>248</th>\n",
              "      <td>0</td>\n",
              "      <td>0</td>\n",
              "      <td>0</td>\n",
              "      <td>0</td>\n",
              "      <td>0</td>\n",
              "      <td>0</td>\n",
              "      <td>0</td>\n",
              "      <td>0</td>\n",
              "      <td>0</td>\n",
              "      <td>0</td>\n",
              "      <td>0</td>\n",
              "      <td>1</td>\n",
              "      <td>0</td>\n",
              "      <td>0</td>\n",
              "      <td>1</td>\n",
              "      <td>0</td>\n",
              "      <td>0</td>\n",
              "      <td>0</td>\n",
              "      <td>0</td>\n",
              "      <td>2019</td>\n",
              "      <td>60.7</td>\n",
              "      <td>54.2</td>\n",
              "      <td>0.252149</td>\n",
              "    </tr>\n",
              "    <tr>\n",
              "      <th>349</th>\n",
              "      <td>0</td>\n",
              "      <td>0</td>\n",
              "      <td>1</td>\n",
              "      <td>0</td>\n",
              "      <td>0</td>\n",
              "      <td>0</td>\n",
              "      <td>0</td>\n",
              "      <td>0</td>\n",
              "      <td>0</td>\n",
              "      <td>0</td>\n",
              "      <td>0</td>\n",
              "      <td>0</td>\n",
              "      <td>0</td>\n",
              "      <td>0</td>\n",
              "      <td>0</td>\n",
              "      <td>0</td>\n",
              "      <td>0</td>\n",
              "      <td>1</td>\n",
              "      <td>0</td>\n",
              "      <td>2019</td>\n",
              "      <td>44.7</td>\n",
              "      <td>42.6</td>\n",
              "      <td>0.123209</td>\n",
              "    </tr>\n",
              "    <tr>\n",
              "      <th>164</th>\n",
              "      <td>0</td>\n",
              "      <td>0</td>\n",
              "      <td>0</td>\n",
              "      <td>0</td>\n",
              "      <td>0</td>\n",
              "      <td>0</td>\n",
              "      <td>1</td>\n",
              "      <td>0</td>\n",
              "      <td>0</td>\n",
              "      <td>0</td>\n",
              "      <td>0</td>\n",
              "      <td>0</td>\n",
              "      <td>0</td>\n",
              "      <td>0</td>\n",
              "      <td>0</td>\n",
              "      <td>0</td>\n",
              "      <td>0</td>\n",
              "      <td>1</td>\n",
              "      <td>0</td>\n",
              "      <td>2019</td>\n",
              "      <td>60.4</td>\n",
              "      <td>58.8</td>\n",
              "      <td>0.919771</td>\n",
              "    </tr>\n",
              "  </tbody>\n",
              "</table>\n",
              "</div>"
            ],
            "text/plain": [
              "     Apr  Aug  Dec  Feb  Jan  Jul  ...  Tue  Wed  year  temp  dewp  NUM_COLLISIONS\n",
              "314    0    0    0    0    0    0  ...    0    0  2019  43.3  36.2        0.707736\n",
              "264    0    0    0    0    0    0  ...    0    0  2019  56.3  48.8        0.100287\n",
              "248    0    0    0    0    0    0  ...    0    0  2019  60.7  54.2        0.252149\n",
              "349    0    0    1    0    0    0  ...    1    0  2019  44.7  42.6        0.123209\n",
              "164    0    0    0    0    0    0  ...    1    0  2019  60.4  58.8        0.919771\n",
              "\n",
              "[5 rows x 23 columns]"
            ]
          },
          "metadata": {
            "tags": []
          },
          "execution_count": 224
        }
      ]
    },
    {
      "cell_type": "code",
      "metadata": {
        "colab": {
          "base_uri": "https://localhost:8080/"
        },
        "id": "4-GUsBlEJBn8",
        "outputId": "248258e6-7929-45b2-f262-2ae2c92b0a30"
      },
      "source": [
        "# select all rows of the chosen colummn\n",
        "targets = shuffle.iloc[:,22]\n",
        "\n",
        "# show the first six rows of the targets\n",
        "print(targets[:6])"
      ],
      "execution_count": null,
      "outputs": [
        {
          "output_type": "stream",
          "text": [
            "314    0.707736\n",
            "264    0.100287\n",
            "248    0.252149\n",
            "349    0.123209\n",
            "164    0.919771\n",
            "38     0.401146\n",
            "Name: NUM_COLLISIONS, dtype: float64\n"
          ],
          "name": "stdout"
        }
      ]
    },
    {
      "cell_type": "code",
      "metadata": {
        "id": "Wff8y8EyJBn8"
      },
      "source": [
        "# scale the data\n",
        "SCALE_NUM_COLLISIONS = 1.0"
      ],
      "execution_count": null,
      "outputs": []
    },
    {
      "cell_type": "code",
      "metadata": {
        "id": "Q3vhJ9nmJBn8"
      },
      "source": [
        "# split data into a training set that is 80% of the full shuffled array\n",
        "trainsize = int(len(shuffle['NUM_COLLISIONS'])*0.8)\n",
        "# subtract training set size from test set to leave 20% of the array\n",
        "testsize = len(shuffle['NUM_COLLISIONS']) - trainsize\n",
        "\n",
        "# set number of input values/predictors\n",
        "nppredictors = 22\n",
        "# set number of output values/targets\n",
        "noutputs = 1"
      ],
      "execution_count": null,
      "outputs": []
    },
    {
      "cell_type": "code",
      "metadata": {
        "colab": {
          "base_uri": "https://localhost:8080/"
        },
        "id": "3CZCaqQnJBn8",
        "outputId": "79d59eb7-5b22-4158-94ca-02610150ba87"
      },
      "source": [
        "# import tensorflow\n",
        "%tensorflow_version 1.x\n",
        "import tensorflow as tf\n",
        "\n",
        "# check version\n",
        "print(tf.__version__)\n",
        "\n",
        "import shutil  \n",
        "\n",
        "# logging for tensorflow\n",
        "tf.compat.v1.logging.set_verbosity(tf.compat.v1.logging.INFO)\n",
        "\n",
        "# remove saved model from previous training attempts\n",
        "shutil.rmtree('/tmp/DNN_regression_trained_model', ignore_errors=True)\n",
        "\n",
        "estimator = tf.contrib.learn.SKCompat(tf.contrib.learn.DNNRegressor(model_dir='/tmp/DNN_regression_trained_model', hidden_units=[20,18,14], optimizer=tf.train.AdamOptimizer(learning_rate=0.01), enable_centered_bias=False, feature_columns=tf.contrib.learn.infer_real_valued_columns_from_input(predictors.values)))\n",
        "\n",
        "# show model is beginning to train\n",
        "print(\"starting to train\");\n",
        "\n",
        "# use predictors and target values to train the model\n",
        "estimator.fit(predictors[:trainsize].values, targets[:trainsize].values.reshape(trainsize, noutputs)/SCALE_NUM_COLLISIONS, steps=10000)\n",
        "\n",
        "# check predictors\n",
        "preds = estimator.predict(x=predictors[trainsize:].values)\n",
        "\n",
        "# apply the same scale to output\n",
        "predslistscale = preds['scores']*SCALE_NUM_COLLISIONS\n",
        "\n",
        "# calculate RMSE\n",
        "rmse = np.sqrt(np.mean((targets[trainsize:].values - predslistscale)**2))\n",
        "print('DNNRegression has RMSE of {0}'.format(rmse));\n",
        "\n",
        "# calculate mean number of collisions\n",
        "avg = np.mean(shuffle['NUM_COLLISIONS'][:trainsize])\n",
        "\n",
        "# calculate RMSE using the number of collisions and mean of all other values\n",
        "rmse = np.sqrt(np.mean((shuffle['NUM_COLLISIONS'][trainsize:] - avg)**2))\n",
        "print('Just using average = {0} has RMSE of {1}'.format(avg, rmse));"
      ],
      "execution_count": null,
      "outputs": [
        {
          "output_type": "stream",
          "text": [
            "1.15.2\n",
            "WARNING:tensorflow:float64 is not supported by many models, consider casting to float32.\n",
            "INFO:tensorflow:Using default config.\n",
            "INFO:tensorflow:Using config: {'_task_type': None, '_task_id': 0, '_cluster_spec': <tensorflow.python.training.server_lib.ClusterSpec object at 0x7f9d9fc30278>, '_master': '', '_num_ps_replicas': 0, '_num_worker_replicas': 0, '_environment': 'local', '_is_chief': True, '_evaluation_master': '', '_train_distribute': None, '_eval_distribute': None, '_experimental_max_worker_delay_secs': None, '_device_fn': None, '_tf_config': gpu_options {\n",
            "  per_process_gpu_memory_fraction: 1.0\n",
            "}\n",
            ", '_tf_random_seed': None, '_save_summary_steps': 100, '_save_checkpoints_secs': 600, '_log_step_count_steps': 100, '_protocol': None, '_session_config': None, '_save_checkpoints_steps': None, '_keep_checkpoint_max': 5, '_keep_checkpoint_every_n_hours': 10000, '_model_dir': '/tmp/DNN_regression_trained_model', '_session_creation_timeout_secs': 7200}\n",
            "starting to train\n",
            "WARNING:tensorflow:float64 is not supported by many models, consider casting to float32.\n",
            "WARNING:tensorflow:float64 is not supported by many models, consider casting to float32.\n",
            "INFO:tensorflow:Create CheckpointSaverHook.\n",
            "INFO:tensorflow:Graph was finalized.\n",
            "INFO:tensorflow:Running local_init_op.\n",
            "INFO:tensorflow:Done running local_init_op.\n",
            "INFO:tensorflow:Saving checkpoints for 0 into /tmp/DNN_regression_trained_model/model.ckpt.\n",
            "INFO:tensorflow:loss = 15631.29, step = 1\n",
            "INFO:tensorflow:global_step/sec: 484.68\n",
            "INFO:tensorflow:loss = 0.25021386, step = 101 (0.210 sec)\n",
            "INFO:tensorflow:global_step/sec: 648.994\n",
            "INFO:tensorflow:loss = 0.13587753, step = 201 (0.154 sec)\n",
            "INFO:tensorflow:global_step/sec: 664.38\n",
            "INFO:tensorflow:loss = 0.11139624, step = 301 (0.150 sec)\n",
            "INFO:tensorflow:global_step/sec: 636.604\n",
            "INFO:tensorflow:loss = 0.09061685, step = 401 (0.155 sec)\n",
            "INFO:tensorflow:global_step/sec: 632.723\n",
            "INFO:tensorflow:loss = 0.06271021, step = 501 (0.161 sec)\n",
            "INFO:tensorflow:global_step/sec: 628.161\n",
            "INFO:tensorflow:loss = 0.06254947, step = 601 (0.156 sec)\n",
            "INFO:tensorflow:global_step/sec: 612.136\n",
            "INFO:tensorflow:loss = 0.054916285, step = 701 (0.165 sec)\n",
            "INFO:tensorflow:global_step/sec: 602.224\n",
            "INFO:tensorflow:loss = 0.045275625, step = 801 (0.166 sec)\n",
            "INFO:tensorflow:global_step/sec: 604.557\n",
            "INFO:tensorflow:loss = 0.060607545, step = 901 (0.167 sec)\n",
            "INFO:tensorflow:global_step/sec: 634.382\n",
            "INFO:tensorflow:loss = 0.048943948, step = 1001 (0.158 sec)\n",
            "INFO:tensorflow:global_step/sec: 602.321\n",
            "INFO:tensorflow:loss = 0.0382707, step = 1101 (0.167 sec)\n",
            "INFO:tensorflow:global_step/sec: 626.757\n",
            "INFO:tensorflow:loss = 0.052283637, step = 1201 (0.159 sec)\n",
            "INFO:tensorflow:global_step/sec: 584.536\n",
            "INFO:tensorflow:loss = 0.045051023, step = 1301 (0.169 sec)\n",
            "INFO:tensorflow:global_step/sec: 631.553\n",
            "INFO:tensorflow:loss = 0.03186729, step = 1401 (0.158 sec)\n",
            "INFO:tensorflow:global_step/sec: 549.494\n",
            "INFO:tensorflow:loss = 0.048540097, step = 1501 (0.181 sec)\n",
            "INFO:tensorflow:global_step/sec: 562.046\n",
            "INFO:tensorflow:loss = 0.047718547, step = 1601 (0.181 sec)\n",
            "INFO:tensorflow:global_step/sec: 640.845\n",
            "INFO:tensorflow:loss = 0.062934265, step = 1701 (0.153 sec)\n",
            "INFO:tensorflow:global_step/sec: 643.793\n",
            "INFO:tensorflow:loss = 0.068747535, step = 1801 (0.157 sec)\n",
            "INFO:tensorflow:global_step/sec: 634.773\n",
            "INFO:tensorflow:loss = 0.04029703, step = 1901 (0.158 sec)\n",
            "INFO:tensorflow:global_step/sec: 635.828\n",
            "INFO:tensorflow:loss = 0.04107022, step = 2001 (0.154 sec)\n",
            "INFO:tensorflow:global_step/sec: 608.845\n",
            "INFO:tensorflow:loss = 0.032402895, step = 2101 (0.167 sec)\n",
            "INFO:tensorflow:global_step/sec: 624.974\n",
            "INFO:tensorflow:loss = 0.04352952, step = 2201 (0.160 sec)\n",
            "INFO:tensorflow:global_step/sec: 642.582\n",
            "INFO:tensorflow:loss = 0.031441446, step = 2301 (0.154 sec)\n",
            "INFO:tensorflow:global_step/sec: 611.563\n",
            "INFO:tensorflow:loss = 0.03763053, step = 2401 (0.165 sec)\n",
            "INFO:tensorflow:global_step/sec: 589.956\n",
            "INFO:tensorflow:loss = 0.049550124, step = 2501 (0.167 sec)\n",
            "INFO:tensorflow:global_step/sec: 659.453\n",
            "INFO:tensorflow:loss = 0.046771437, step = 2601 (0.152 sec)\n",
            "INFO:tensorflow:global_step/sec: 648.636\n",
            "INFO:tensorflow:loss = 0.050467275, step = 2701 (0.157 sec)\n",
            "INFO:tensorflow:global_step/sec: 607.315\n",
            "INFO:tensorflow:loss = 0.03804684, step = 2801 (0.166 sec)\n",
            "INFO:tensorflow:global_step/sec: 585.967\n",
            "INFO:tensorflow:loss = 0.027493708, step = 2901 (0.169 sec)\n",
            "INFO:tensorflow:global_step/sec: 625.226\n",
            "INFO:tensorflow:loss = 0.105873436, step = 3001 (0.160 sec)\n",
            "INFO:tensorflow:global_step/sec: 646.789\n",
            "INFO:tensorflow:loss = 0.024616681, step = 3101 (0.155 sec)\n",
            "INFO:tensorflow:global_step/sec: 625.029\n",
            "INFO:tensorflow:loss = 0.023209851, step = 3201 (0.160 sec)\n",
            "INFO:tensorflow:global_step/sec: 549.857\n",
            "INFO:tensorflow:loss = 0.039847977, step = 3301 (0.180 sec)\n",
            "INFO:tensorflow:global_step/sec: 582.485\n",
            "INFO:tensorflow:loss = 0.067762226, step = 3401 (0.174 sec)\n",
            "INFO:tensorflow:global_step/sec: 576.82\n",
            "INFO:tensorflow:loss = 0.047583938, step = 3501 (0.171 sec)\n",
            "INFO:tensorflow:global_step/sec: 594.568\n",
            "INFO:tensorflow:loss = 0.042437885, step = 3601 (0.168 sec)\n",
            "INFO:tensorflow:global_step/sec: 615.303\n",
            "INFO:tensorflow:loss = 0.17703965, step = 3701 (0.163 sec)\n",
            "INFO:tensorflow:global_step/sec: 648.115\n",
            "INFO:tensorflow:loss = 0.1103334, step = 3801 (0.157 sec)\n",
            "INFO:tensorflow:global_step/sec: 641.146\n",
            "INFO:tensorflow:loss = 0.026326662, step = 3901 (0.156 sec)\n",
            "INFO:tensorflow:global_step/sec: 592.312\n",
            "INFO:tensorflow:loss = 0.037221476, step = 4001 (0.166 sec)\n",
            "INFO:tensorflow:global_step/sec: 598.579\n",
            "INFO:tensorflow:loss = 0.47081152, step = 4101 (0.169 sec)\n",
            "INFO:tensorflow:global_step/sec: 592.92\n",
            "INFO:tensorflow:loss = 0.14229563, step = 4201 (0.169 sec)\n",
            "INFO:tensorflow:global_step/sec: 540.585\n",
            "INFO:tensorflow:loss = 0.5749371, step = 4301 (0.182 sec)\n",
            "INFO:tensorflow:global_step/sec: 594.573\n",
            "INFO:tensorflow:loss = 0.09480571, step = 4401 (0.170 sec)\n",
            "INFO:tensorflow:global_step/sec: 587.593\n",
            "INFO:tensorflow:loss = 0.03302963, step = 4501 (0.168 sec)\n",
            "INFO:tensorflow:global_step/sec: 545.336\n",
            "INFO:tensorflow:loss = 0.100852266, step = 4601 (0.183 sec)\n",
            "INFO:tensorflow:global_step/sec: 636.154\n",
            "INFO:tensorflow:loss = 0.24112897, step = 4701 (0.160 sec)\n",
            "INFO:tensorflow:global_step/sec: 606.708\n",
            "INFO:tensorflow:loss = 0.052780434, step = 4801 (0.164 sec)\n",
            "INFO:tensorflow:global_step/sec: 635.246\n",
            "INFO:tensorflow:loss = 0.055843644, step = 4901 (0.157 sec)\n",
            "INFO:tensorflow:global_step/sec: 655.151\n",
            "INFO:tensorflow:loss = 0.20731993, step = 5001 (0.151 sec)\n",
            "INFO:tensorflow:global_step/sec: 666.038\n",
            "INFO:tensorflow:loss = 0.15296471, step = 5101 (0.150 sec)\n",
            "INFO:tensorflow:global_step/sec: 609.984\n",
            "INFO:tensorflow:loss = 0.03835897, step = 5201 (0.164 sec)\n",
            "INFO:tensorflow:global_step/sec: 639.603\n",
            "INFO:tensorflow:loss = 0.06286726, step = 5301 (0.158 sec)\n",
            "INFO:tensorflow:global_step/sec: 662.33\n",
            "INFO:tensorflow:loss = 0.18122193, step = 5401 (0.149 sec)\n",
            "INFO:tensorflow:global_step/sec: 642.554\n",
            "INFO:tensorflow:loss = 0.09105095, step = 5501 (0.155 sec)\n",
            "INFO:tensorflow:global_step/sec: 657.665\n",
            "INFO:tensorflow:loss = 0.021807758, step = 5601 (0.155 sec)\n",
            "INFO:tensorflow:global_step/sec: 631.591\n",
            "INFO:tensorflow:loss = 0.17899261, step = 5701 (0.158 sec)\n",
            "INFO:tensorflow:global_step/sec: 625.118\n",
            "INFO:tensorflow:loss = 0.03047591, step = 5801 (0.160 sec)\n",
            "INFO:tensorflow:global_step/sec: 603.872\n",
            "INFO:tensorflow:loss = 0.050814115, step = 5901 (0.165 sec)\n",
            "INFO:tensorflow:global_step/sec: 596.817\n",
            "INFO:tensorflow:loss = 0.058297914, step = 6001 (0.165 sec)\n",
            "INFO:tensorflow:global_step/sec: 649.908\n",
            "INFO:tensorflow:loss = 0.21891227, step = 6101 (0.156 sec)\n",
            "INFO:tensorflow:global_step/sec: 636.501\n",
            "INFO:tensorflow:loss = 0.08592749, step = 6201 (0.157 sec)\n",
            "INFO:tensorflow:global_step/sec: 634.112\n",
            "INFO:tensorflow:loss = 0.41776636, step = 6301 (0.158 sec)\n",
            "INFO:tensorflow:global_step/sec: 614.273\n",
            "INFO:tensorflow:loss = 0.028829182, step = 6401 (0.162 sec)\n",
            "INFO:tensorflow:global_step/sec: 570.706\n",
            "INFO:tensorflow:loss = 0.1749014, step = 6501 (0.175 sec)\n",
            "INFO:tensorflow:global_step/sec: 629.06\n",
            "INFO:tensorflow:loss = 0.028064884, step = 6601 (0.157 sec)\n",
            "INFO:tensorflow:global_step/sec: 597.638\n",
            "INFO:tensorflow:loss = 0.12699668, step = 6701 (0.171 sec)\n",
            "INFO:tensorflow:global_step/sec: 616.077\n",
            "INFO:tensorflow:loss = 0.026200771, step = 6801 (0.163 sec)\n",
            "INFO:tensorflow:global_step/sec: 607.83\n",
            "INFO:tensorflow:loss = 0.09459909, step = 6901 (0.163 sec)\n",
            "INFO:tensorflow:global_step/sec: 595.231\n",
            "INFO:tensorflow:loss = 0.033369772, step = 7001 (0.166 sec)\n",
            "INFO:tensorflow:global_step/sec: 595.496\n",
            "INFO:tensorflow:loss = 0.035283417, step = 7101 (0.170 sec)\n",
            "INFO:tensorflow:global_step/sec: 634.722\n",
            "INFO:tensorflow:loss = 0.040890872, step = 7201 (0.155 sec)\n",
            "INFO:tensorflow:global_step/sec: 633.355\n",
            "INFO:tensorflow:loss = 0.10252364, step = 7301 (0.158 sec)\n",
            "INFO:tensorflow:global_step/sec: 648.329\n",
            "INFO:tensorflow:loss = 0.04778499, step = 7401 (0.154 sec)\n",
            "INFO:tensorflow:global_step/sec: 616.603\n",
            "INFO:tensorflow:loss = 0.039913744, step = 7501 (0.162 sec)\n",
            "INFO:tensorflow:global_step/sec: 646.076\n",
            "INFO:tensorflow:loss = 0.06935654, step = 7601 (0.158 sec)\n",
            "INFO:tensorflow:global_step/sec: 565.519\n",
            "INFO:tensorflow:loss = 0.03748268, step = 7701 (0.174 sec)\n",
            "INFO:tensorflow:global_step/sec: 514.657\n",
            "INFO:tensorflow:loss = 0.1472179, step = 7801 (0.194 sec)\n",
            "INFO:tensorflow:global_step/sec: 637.475\n",
            "INFO:tensorflow:loss = 0.024218291, step = 7901 (0.159 sec)\n",
            "INFO:tensorflow:global_step/sec: 643.401\n",
            "INFO:tensorflow:loss = 0.032189205, step = 8001 (0.155 sec)\n",
            "INFO:tensorflow:global_step/sec: 662.314\n",
            "INFO:tensorflow:loss = 0.041057743, step = 8101 (0.151 sec)\n",
            "INFO:tensorflow:global_step/sec: 645.689\n",
            "INFO:tensorflow:loss = 0.10293155, step = 8201 (0.152 sec)\n",
            "INFO:tensorflow:global_step/sec: 650.065\n",
            "INFO:tensorflow:loss = 0.047138426, step = 8301 (0.157 sec)\n",
            "INFO:tensorflow:global_step/sec: 603.193\n",
            "INFO:tensorflow:loss = 0.049874645, step = 8401 (0.166 sec)\n",
            "INFO:tensorflow:global_step/sec: 587.965\n",
            "INFO:tensorflow:loss = 0.04716473, step = 8501 (0.168 sec)\n",
            "INFO:tensorflow:global_step/sec: 601.05\n",
            "INFO:tensorflow:loss = 0.048199404, step = 8601 (0.169 sec)\n",
            "INFO:tensorflow:global_step/sec: 645.109\n",
            "INFO:tensorflow:loss = 0.05078519, step = 8701 (0.153 sec)\n",
            "INFO:tensorflow:global_step/sec: 575.219\n",
            "INFO:tensorflow:loss = 0.05241947, step = 8801 (0.176 sec)\n",
            "INFO:tensorflow:global_step/sec: 654.491\n",
            "INFO:tensorflow:loss = 0.024794133, step = 8901 (0.153 sec)\n",
            "INFO:tensorflow:global_step/sec: 586.274\n",
            "INFO:tensorflow:loss = 0.0585493, step = 9001 (0.171 sec)\n",
            "INFO:tensorflow:global_step/sec: 641.702\n",
            "INFO:tensorflow:loss = 0.054899827, step = 9101 (0.156 sec)\n",
            "INFO:tensorflow:global_step/sec: 622.852\n",
            "INFO:tensorflow:loss = 0.026634376, step = 9201 (0.158 sec)\n",
            "INFO:tensorflow:global_step/sec: 666.436\n",
            "INFO:tensorflow:loss = 0.050697636, step = 9301 (0.153 sec)\n",
            "INFO:tensorflow:global_step/sec: 628.827\n",
            "INFO:tensorflow:loss = 0.051582344, step = 9401 (0.156 sec)\n",
            "INFO:tensorflow:global_step/sec: 620.608\n",
            "INFO:tensorflow:loss = 0.03194945, step = 9501 (0.164 sec)\n",
            "INFO:tensorflow:global_step/sec: 563.935\n",
            "INFO:tensorflow:loss = 0.05012097, step = 9601 (0.175 sec)\n",
            "INFO:tensorflow:global_step/sec: 630.393\n",
            "INFO:tensorflow:loss = 0.043182448, step = 9701 (0.159 sec)\n",
            "INFO:tensorflow:global_step/sec: 600.702\n",
            "INFO:tensorflow:loss = 0.048333615, step = 9801 (0.167 sec)\n",
            "INFO:tensorflow:global_step/sec: 614.838\n",
            "INFO:tensorflow:loss = 0.047576062, step = 9901 (0.165 sec)\n",
            "INFO:tensorflow:Saving checkpoints for 10000 into /tmp/DNN_regression_trained_model/model.ckpt.\n",
            "INFO:tensorflow:Loss for final step: 0.04716035.\n",
            "WARNING:tensorflow:float64 is not supported by many models, consider casting to float32.\n",
            "INFO:tensorflow:Graph was finalized.\n",
            "INFO:tensorflow:Restoring parameters from /tmp/DNN_regression_trained_model/model.ckpt-10000\n",
            "INFO:tensorflow:Running local_init_op.\n",
            "INFO:tensorflow:Done running local_init_op.\n",
            "DNNRegression has RMSE of 0.23331163750118245\n",
            "Just using average = 0.5145988025182041 has RMSE of 0.2360063931140378\n"
          ],
          "name": "stdout"
        }
      ]
    },
    {
      "cell_type": "markdown",
      "metadata": {
        "id": "1qFxcIZ6aT8k"
      },
      "source": [
        "2019 again shows a decent RMSE value, but while the predictions below show an acceptable reflection of seasonal increase of collisions, a low spread between the predicted totals is still present."
      ]
    },
    {
      "cell_type": "code",
      "metadata": {
        "colab": {
          "base_uri": "https://localhost:8080/"
        },
        "id": "wex0zI7OJBn8",
        "outputId": "771a1387-7c35-4c83-fe43-f0db9ee2f10f"
      },
      "source": [
        "#\"Apr\",\"Aug\",\"Dec\",\"Feb\",\"Jan\",\"Jul\",\"Jun\",\"Mar\",\"May\",\"Nov\",\"Oct\",\"Sep\",\"Fri\",\"Mon\",\"Sat\",\"Sun\",\"Thu\",\"Tue\",\"Wed\",\"year\",\"temp\",\"dewp\",\"NUM_COLLISIONS\"\n",
        "input = pd.DataFrame.from_dict(data = \n",
        "\t\t\t\t{\n",
        "         'Apr' : [0,0,0],\n",
        "         'Aug' : [0,0,1],\n",
        "         'Dec' : [0,0,0],\n",
        "         'Feb' : [0,0,0],\n",
        "         'Jan' : [1,0,0],\n",
        "         'Jul' : [0,0,0],\n",
        "         'Jun' : [0,0,0],\n",
        "         'Mar' : [0,0,0],\n",
        "         'May' : [0,1,0],\n",
        "         'Nov' : [0,0,0],\n",
        "         'Oct' : [0,0,0],\n",
        "         'Sep' : [0,0,0],\n",
        "         'Fri' : [0,0,0],\n",
        "         'Mon' : [1,1,1],\n",
        "         'Sat' : [0,0,0],\n",
        "         'Sun' : [0,0,0],\n",
        "         'Thu' : [0,0,0],\n",
        "         'Tue' : [0,0,0],\n",
        "         'Wed' : [0,0,0],\n",
        "         'year' : [2019,2019,2019],\n",
        "         'dewp' : [5.4, 16.9, 48.3],\n",
        "         'temp' : [8.9, 20.5, 54.0]\n",
        "        })\n",
        "\n",
        "estimator = tf.contrib.learn.SKCompat(tf.contrib.learn.DNNRegressor(model_dir='/tmp/DNN_regression_trained_model', hidden_units=[20,18,14], enable_centered_bias=False, feature_columns=tf.contrib.learn.infer_real_valued_columns_from_input(input.values)))\n",
        "\n",
        "preds = estimator.predict(x=input.values)\n",
        "\n",
        "predslistnorm = preds['scores']\n",
        "prednorm = format(str(predslistnorm))\n",
        "print(prednorm)"
      ],
      "execution_count": null,
      "outputs": [
        {
          "output_type": "stream",
          "text": [
            "WARNING:tensorflow:float64 is not supported by many models, consider casting to float32.\n",
            "INFO:tensorflow:Using default config.\n",
            "INFO:tensorflow:Using config: {'_task_type': None, '_task_id': 0, '_cluster_spec': <tensorflow.python.training.server_lib.ClusterSpec object at 0x7f9d9ec300f0>, '_master': '', '_num_ps_replicas': 0, '_num_worker_replicas': 0, '_environment': 'local', '_is_chief': True, '_evaluation_master': '', '_train_distribute': None, '_eval_distribute': None, '_experimental_max_worker_delay_secs': None, '_device_fn': None, '_tf_config': gpu_options {\n",
            "  per_process_gpu_memory_fraction: 1.0\n",
            "}\n",
            ", '_tf_random_seed': None, '_save_summary_steps': 100, '_save_checkpoints_secs': 600, '_log_step_count_steps': 100, '_protocol': None, '_session_config': None, '_save_checkpoints_steps': None, '_keep_checkpoint_max': 5, '_keep_checkpoint_every_n_hours': 10000, '_model_dir': '/tmp/DNN_regression_trained_model', '_session_creation_timeout_secs': 7200}\n",
            "WARNING:tensorflow:float64 is not supported by many models, consider casting to float32.\n",
            "INFO:tensorflow:Graph was finalized.\n",
            "INFO:tensorflow:Restoring parameters from /tmp/DNN_regression_trained_model/model.ckpt-10000\n",
            "INFO:tensorflow:Running local_init_op.\n",
            "INFO:tensorflow:Done running local_init_op.\n",
            "[0.45911327 0.47660992 0.52534604]\n"
          ],
          "name": "stdout"
        }
      ]
    },
    {
      "cell_type": "markdown",
      "metadata": {
        "id": "wkLovYrxKTij"
      },
      "source": [
        "### 2020"
      ]
    },
    {
      "cell_type": "code",
      "metadata": {
        "id": "wxpTrnG2KTij"
      },
      "source": [
        "# needed to create the data frame\n",
        "import pandas as pd\n",
        "\n",
        "# create data frame from 2020 csv file\n",
        "df = pd.read_csv('https://raw.githubusercontent.com/15007919uhi/15007919_DataAnalytics/master/dnn20.csv', index_col=0)"
      ],
      "execution_count": null,
      "outputs": []
    },
    {
      "cell_type": "code",
      "metadata": {
        "colab": {
          "base_uri": "https://localhost:8080/"
        },
        "id": "GFULv8pbKTij",
        "outputId": "a3496c92-d615-452e-ff54-b80fb778c51e"
      },
      "source": [
        "# print the data\n",
        "print(df[:6])"
      ],
      "execution_count": null,
      "outputs": [
        {
          "output_type": "stream",
          "text": [
            "   Apr  Aug  Feb  Jan  Jul  Jun  ...  Tue  Wed  year  temp  dewp  NUM_COLLISIONS\n",
            "1    0    0    0    1    0    0  ...    0    1  2020  40.3  29.9        0.357353\n",
            "2    0    0    0    1    0    0  ...    0    0  2020  39.6  28.9        0.466176\n",
            "3    0    0    0    1    0    0  ...    0    0  2020  45.8  42.9        0.527941\n",
            "4    0    0    0    1    0    0  ...    0    0  2020  45.4  43.9        0.373529\n",
            "5    0    0    0    1    0    0  ...    0    0  2020  40.1  33.8        0.283824\n",
            "6    0    0    0    1    0    0  ...    0    0  2020  33.5  24.0        0.532353\n",
            "\n",
            "[6 rows x 21 columns]\n"
          ],
          "name": "stdout"
        }
      ]
    },
    {
      "cell_type": "code",
      "metadata": {
        "colab": {
          "base_uri": "https://localhost:8080/"
        },
        "id": "pT3nX7l0KTij",
        "outputId": "69a4c57f-9a49-4b63-ecc3-5e6ec3bbe45c"
      },
      "source": [
        "# needed for calculations\n",
        "import numpy as np\n",
        "\n",
        "# shuffle the data by row at random\n",
        "shuffle = df.iloc[np.random.permutation(len(df))]\n",
        "\n",
        "# select columns to take predictors from\n",
        "predictors = shuffle.iloc[:,0:20]\n",
        "\n",
        "# print the first 6 rows of predictors\n",
        "print(predictors[:6])"
      ],
      "execution_count": null,
      "outputs": [
        {
          "output_type": "stream",
          "text": [
            "     Apr  Aug  Feb  Jan  Jul  Jun  Mar  ...  Sun  Thu  Tue  Wed  year  temp  dewp\n",
            "95     1    0    0    0    0    0    0  ...    0    0    0    0  2020  42.3  38.4\n",
            "182    0    0    0    0    0    1    0  ...    0    0    1    0  2020  66.3  62.4\n",
            "212    0    0    0    0    1    0    0  ...    0    1    0    0  2020  74.4  72.0\n",
            "71     0    0    0    0    0    0    1  ...    0    0    0    1  2020  47.2  39.3\n",
            "122    0    0    0    0    0    0    0  ...    0    0    0    0  2020  51.3  49.1\n",
            "191    0    0    0    0    1    0    0  ...    0    1    0    0  2020  70.9  67.4\n",
            "\n",
            "[6 rows x 20 columns]\n"
          ],
          "name": "stdout"
        }
      ]
    },
    {
      "cell_type": "code",
      "metadata": {
        "colab": {
          "base_uri": "https://localhost:8080/",
          "height": 204
        },
        "id": "r8zS29nQKTij",
        "outputId": "50f34c30-ffcb-49c8-ed57-49a0d7a4e9f7"
      },
      "source": [
        "# print the first 5 rows of the shuffled data\n",
        "shuffle[:5]"
      ],
      "execution_count": null,
      "outputs": [
        {
          "output_type": "execute_result",
          "data": {
            "text/html": [
              "<div>\n",
              "<style scoped>\n",
              "    .dataframe tbody tr th:only-of-type {\n",
              "        vertical-align: middle;\n",
              "    }\n",
              "\n",
              "    .dataframe tbody tr th {\n",
              "        vertical-align: top;\n",
              "    }\n",
              "\n",
              "    .dataframe thead th {\n",
              "        text-align: right;\n",
              "    }\n",
              "</style>\n",
              "<table border=\"1\" class=\"dataframe\">\n",
              "  <thead>\n",
              "    <tr style=\"text-align: right;\">\n",
              "      <th></th>\n",
              "      <th>Apr</th>\n",
              "      <th>Aug</th>\n",
              "      <th>Feb</th>\n",
              "      <th>Jan</th>\n",
              "      <th>Jul</th>\n",
              "      <th>Jun</th>\n",
              "      <th>Mar</th>\n",
              "      <th>May</th>\n",
              "      <th>Oct</th>\n",
              "      <th>Sep</th>\n",
              "      <th>Fri</th>\n",
              "      <th>Mon</th>\n",
              "      <th>Sat</th>\n",
              "      <th>Sun</th>\n",
              "      <th>Thu</th>\n",
              "      <th>Tue</th>\n",
              "      <th>Wed</th>\n",
              "      <th>year</th>\n",
              "      <th>temp</th>\n",
              "      <th>dewp</th>\n",
              "      <th>NUM_COLLISIONS</th>\n",
              "    </tr>\n",
              "  </thead>\n",
              "  <tbody>\n",
              "    <tr>\n",
              "      <th>95</th>\n",
              "      <td>1</td>\n",
              "      <td>0</td>\n",
              "      <td>0</td>\n",
              "      <td>0</td>\n",
              "      <td>0</td>\n",
              "      <td>0</td>\n",
              "      <td>0</td>\n",
              "      <td>0</td>\n",
              "      <td>0</td>\n",
              "      <td>0</td>\n",
              "      <td>0</td>\n",
              "      <td>0</td>\n",
              "      <td>1</td>\n",
              "      <td>0</td>\n",
              "      <td>0</td>\n",
              "      <td>0</td>\n",
              "      <td>0</td>\n",
              "      <td>2020</td>\n",
              "      <td>42.3</td>\n",
              "      <td>38.4</td>\n",
              "      <td>0.091176</td>\n",
              "    </tr>\n",
              "    <tr>\n",
              "      <th>182</th>\n",
              "      <td>0</td>\n",
              "      <td>0</td>\n",
              "      <td>0</td>\n",
              "      <td>0</td>\n",
              "      <td>0</td>\n",
              "      <td>1</td>\n",
              "      <td>0</td>\n",
              "      <td>0</td>\n",
              "      <td>0</td>\n",
              "      <td>0</td>\n",
              "      <td>0</td>\n",
              "      <td>0</td>\n",
              "      <td>0</td>\n",
              "      <td>0</td>\n",
              "      <td>0</td>\n",
              "      <td>1</td>\n",
              "      <td>0</td>\n",
              "      <td>2020</td>\n",
              "      <td>66.3</td>\n",
              "      <td>62.4</td>\n",
              "      <td>0.270588</td>\n",
              "    </tr>\n",
              "    <tr>\n",
              "      <th>212</th>\n",
              "      <td>0</td>\n",
              "      <td>0</td>\n",
              "      <td>0</td>\n",
              "      <td>0</td>\n",
              "      <td>1</td>\n",
              "      <td>0</td>\n",
              "      <td>0</td>\n",
              "      <td>0</td>\n",
              "      <td>0</td>\n",
              "      <td>0</td>\n",
              "      <td>0</td>\n",
              "      <td>0</td>\n",
              "      <td>0</td>\n",
              "      <td>0</td>\n",
              "      <td>1</td>\n",
              "      <td>0</td>\n",
              "      <td>0</td>\n",
              "      <td>2020</td>\n",
              "      <td>74.4</td>\n",
              "      <td>72.0</td>\n",
              "      <td>0.302941</td>\n",
              "    </tr>\n",
              "    <tr>\n",
              "      <th>71</th>\n",
              "      <td>0</td>\n",
              "      <td>0</td>\n",
              "      <td>0</td>\n",
              "      <td>0</td>\n",
              "      <td>0</td>\n",
              "      <td>0</td>\n",
              "      <td>1</td>\n",
              "      <td>0</td>\n",
              "      <td>0</td>\n",
              "      <td>0</td>\n",
              "      <td>0</td>\n",
              "      <td>0</td>\n",
              "      <td>0</td>\n",
              "      <td>0</td>\n",
              "      <td>0</td>\n",
              "      <td>0</td>\n",
              "      <td>1</td>\n",
              "      <td>2020</td>\n",
              "      <td>47.2</td>\n",
              "      <td>39.3</td>\n",
              "      <td>0.558824</td>\n",
              "    </tr>\n",
              "    <tr>\n",
              "      <th>122</th>\n",
              "      <td>0</td>\n",
              "      <td>0</td>\n",
              "      <td>0</td>\n",
              "      <td>0</td>\n",
              "      <td>0</td>\n",
              "      <td>0</td>\n",
              "      <td>0</td>\n",
              "      <td>1</td>\n",
              "      <td>0</td>\n",
              "      <td>0</td>\n",
              "      <td>1</td>\n",
              "      <td>0</td>\n",
              "      <td>0</td>\n",
              "      <td>0</td>\n",
              "      <td>0</td>\n",
              "      <td>0</td>\n",
              "      <td>0</td>\n",
              "      <td>2020</td>\n",
              "      <td>51.3</td>\n",
              "      <td>49.1</td>\n",
              "      <td>0.136765</td>\n",
              "    </tr>\n",
              "  </tbody>\n",
              "</table>\n",
              "</div>"
            ],
            "text/plain": [
              "     Apr  Aug  Feb  Jan  Jul  Jun  ...  Tue  Wed  year  temp  dewp  NUM_COLLISIONS\n",
              "95     1    0    0    0    0    0  ...    0    0  2020  42.3  38.4        0.091176\n",
              "182    0    0    0    0    0    1  ...    1    0  2020  66.3  62.4        0.270588\n",
              "212    0    0    0    0    1    0  ...    0    0  2020  74.4  72.0        0.302941\n",
              "71     0    0    0    0    0    0  ...    0    1  2020  47.2  39.3        0.558824\n",
              "122    0    0    0    0    0    0  ...    0    0  2020  51.3  49.1        0.136765\n",
              "\n",
              "[5 rows x 21 columns]"
            ]
          },
          "metadata": {
            "tags": []
          },
          "execution_count": 245
        }
      ]
    },
    {
      "cell_type": "code",
      "metadata": {
        "colab": {
          "base_uri": "https://localhost:8080/"
        },
        "id": "Os3mBp7fKTij",
        "outputId": "87ac23c9-f5f8-4565-baca-34833bb5258a"
      },
      "source": [
        "# select all rows of the chosen colummn\n",
        "targets = shuffle.iloc[:,20]\n",
        "\n",
        "# show the first six rows of the targets\n",
        "print(targets[:6])"
      ],
      "execution_count": null,
      "outputs": [
        {
          "output_type": "stream",
          "text": [
            "95     0.091176\n",
            "182    0.270588\n",
            "212    0.302941\n",
            "71     0.558824\n",
            "122    0.136765\n",
            "191    0.322059\n",
            "Name: NUM_COLLISIONS, dtype: float64\n"
          ],
          "name": "stdout"
        }
      ]
    },
    {
      "cell_type": "code",
      "metadata": {
        "id": "q0ywi40OKTij"
      },
      "source": [
        "# scale the data\n",
        "SCALE_NUM_COLLISIONS = 1.0"
      ],
      "execution_count": null,
      "outputs": []
    },
    {
      "cell_type": "code",
      "metadata": {
        "id": "pqljcRK6KTij"
      },
      "source": [
        "# split data into a training set that is 80% of the full shuffled array\n",
        "trainsize = int(len(shuffle['NUM_COLLISIONS'])*0.8)\n",
        "# subtract training set size from test set to leave 20% of the array\n",
        "testsize = len(shuffle['NUM_COLLISIONS']) - trainsize\n",
        "\n",
        "# set number of input values/predictors\n",
        "nppredictors = 22\n",
        "# set number of output values/targets\n",
        "noutputs = 1"
      ],
      "execution_count": null,
      "outputs": []
    },
    {
      "cell_type": "code",
      "metadata": {
        "colab": {
          "base_uri": "https://localhost:8080/"
        },
        "id": "YQQabePzKTik",
        "outputId": "4cccb617-81db-4ca7-c5b7-ea4650b38a6a"
      },
      "source": [
        "# import tensorflow\n",
        "%tensorflow_version 1.x\n",
        "import tensorflow as tf\n",
        "\n",
        "# check version\n",
        "print(tf.__version__)\n",
        "\n",
        "import shutil  \n",
        "\n",
        "# logging for tensorflow\n",
        "tf.compat.v1.logging.set_verbosity(tf.compat.v1.logging.INFO)\n",
        "\n",
        "# remove saved model from previous training attempts\n",
        "shutil.rmtree('/tmp/DNN_regression_trained_model', ignore_errors=True)\n",
        "\n",
        "estimator = tf.contrib.learn.SKCompat(tf.contrib.learn.DNNRegressor(model_dir='/tmp/DNN_regression_trained_model', hidden_units=[20,18,14], optimizer=tf.train.AdamOptimizer(learning_rate=0.01), enable_centered_bias=False, feature_columns=tf.contrib.learn.infer_real_valued_columns_from_input(predictors.values)))\n",
        "\n",
        "# show model is beginning to train\n",
        "print(\"starting to train\");\n",
        "\n",
        "# use predictors and target values to train the model\n",
        "estimator.fit(predictors[:trainsize].values, targets[:trainsize].values.reshape(trainsize, noutputs)/SCALE_NUM_COLLISIONS, steps=10000)\n",
        "\n",
        "# check predictors\n",
        "preds = estimator.predict(x=predictors[trainsize:].values)\n",
        "\n",
        "# apply the same scale to output\n",
        "predslistscale = preds['scores']*SCALE_NUM_COLLISIONS\n",
        "\n",
        "# calculate RMSE\n",
        "rmse = np.sqrt(np.mean((targets[trainsize:].values - predslistscale)**2))\n",
        "print('DNNRegression has RMSE of {0}'.format(rmse));\n",
        "\n",
        "# calculate mean number of collisions\n",
        "avg = np.mean(shuffle['NUM_COLLISIONS'][:trainsize])\n",
        "\n",
        "# calculate RMSE using the number of collisions and mean of all other values\n",
        "rmse = np.sqrt(np.mean((shuffle['NUM_COLLISIONS'][trainsize:] - avg)**2))\n",
        "print('Just using average = {0} has RMSE of {1}'.format(avg, rmse));"
      ],
      "execution_count": null,
      "outputs": [
        {
          "output_type": "stream",
          "text": [
            "1.15.2\n",
            "WARNING:tensorflow:float64 is not supported by many models, consider casting to float32.\n",
            "INFO:tensorflow:Using default config.\n",
            "INFO:tensorflow:Using config: {'_task_type': None, '_task_id': 0, '_cluster_spec': <tensorflow.python.training.server_lib.ClusterSpec object at 0x7f9d9f475c88>, '_master': '', '_num_ps_replicas': 0, '_num_worker_replicas': 0, '_environment': 'local', '_is_chief': True, '_evaluation_master': '', '_train_distribute': None, '_eval_distribute': None, '_experimental_max_worker_delay_secs': None, '_device_fn': None, '_tf_config': gpu_options {\n",
            "  per_process_gpu_memory_fraction: 1.0\n",
            "}\n",
            ", '_tf_random_seed': None, '_save_summary_steps': 100, '_save_checkpoints_secs': 600, '_log_step_count_steps': 100, '_protocol': None, '_session_config': None, '_save_checkpoints_steps': None, '_keep_checkpoint_max': 5, '_keep_checkpoint_every_n_hours': 10000, '_model_dir': '/tmp/DNN_regression_trained_model', '_session_creation_timeout_secs': 7200}\n",
            "starting to train\n",
            "WARNING:tensorflow:float64 is not supported by many models, consider casting to float32.\n",
            "WARNING:tensorflow:float64 is not supported by many models, consider casting to float32.\n",
            "INFO:tensorflow:Create CheckpointSaverHook.\n",
            "INFO:tensorflow:Graph was finalized.\n",
            "INFO:tensorflow:Running local_init_op.\n",
            "INFO:tensorflow:Done running local_init_op.\n",
            "INFO:tensorflow:Saving checkpoints for 0 into /tmp/DNN_regression_trained_model/model.ckpt.\n",
            "INFO:tensorflow:loss = 2933.6675, step = 1\n",
            "INFO:tensorflow:global_step/sec: 458.581\n",
            "INFO:tensorflow:loss = 0.124501474, step = 101 (0.223 sec)\n",
            "INFO:tensorflow:global_step/sec: 648.505\n",
            "INFO:tensorflow:loss = 0.08591118, step = 201 (0.153 sec)\n",
            "INFO:tensorflow:global_step/sec: 641.15\n",
            "INFO:tensorflow:loss = 0.09031662, step = 301 (0.154 sec)\n",
            "INFO:tensorflow:global_step/sec: 642.864\n",
            "INFO:tensorflow:loss = 0.08213944, step = 401 (0.158 sec)\n",
            "INFO:tensorflow:global_step/sec: 648.411\n",
            "INFO:tensorflow:loss = 0.079199135, step = 501 (0.154 sec)\n",
            "INFO:tensorflow:global_step/sec: 670.267\n",
            "INFO:tensorflow:loss = 0.07244092, step = 601 (0.149 sec)\n",
            "INFO:tensorflow:global_step/sec: 645.182\n",
            "INFO:tensorflow:loss = 0.06274806, step = 701 (0.154 sec)\n",
            "INFO:tensorflow:global_step/sec: 658.578\n",
            "INFO:tensorflow:loss = 0.06369485, step = 801 (0.150 sec)\n",
            "INFO:tensorflow:global_step/sec: 654.075\n",
            "INFO:tensorflow:loss = 0.05744957, step = 901 (0.153 sec)\n",
            "INFO:tensorflow:global_step/sec: 664.791\n",
            "INFO:tensorflow:loss = 0.047942962, step = 1001 (0.151 sec)\n",
            "INFO:tensorflow:global_step/sec: 650.745\n",
            "INFO:tensorflow:loss = 0.050031826, step = 1101 (0.153 sec)\n",
            "INFO:tensorflow:global_step/sec: 683.683\n",
            "INFO:tensorflow:loss = 0.04447064, step = 1201 (0.146 sec)\n",
            "INFO:tensorflow:global_step/sec: 699.792\n",
            "INFO:tensorflow:loss = 0.040365748, step = 1301 (0.143 sec)\n",
            "INFO:tensorflow:global_step/sec: 705.929\n",
            "INFO:tensorflow:loss = 0.037356358, step = 1401 (0.144 sec)\n",
            "INFO:tensorflow:global_step/sec: 671.514\n",
            "INFO:tensorflow:loss = 0.030588958, step = 1501 (0.146 sec)\n",
            "INFO:tensorflow:global_step/sec: 637.73\n",
            "INFO:tensorflow:loss = 0.03392411, step = 1601 (0.160 sec)\n",
            "INFO:tensorflow:global_step/sec: 689.333\n",
            "INFO:tensorflow:loss = 0.025627635, step = 1701 (0.142 sec)\n",
            "INFO:tensorflow:global_step/sec: 664.563\n",
            "INFO:tensorflow:loss = 0.03663569, step = 1801 (0.154 sec)\n",
            "INFO:tensorflow:global_step/sec: 654.298\n",
            "INFO:tensorflow:loss = 0.029690985, step = 1901 (0.150 sec)\n",
            "INFO:tensorflow:global_step/sec: 677.791\n",
            "INFO:tensorflow:loss = 0.023373315, step = 2001 (0.151 sec)\n",
            "INFO:tensorflow:global_step/sec: 646.988\n",
            "INFO:tensorflow:loss = 0.021988904, step = 2101 (0.153 sec)\n",
            "INFO:tensorflow:global_step/sec: 678.777\n",
            "INFO:tensorflow:loss = 0.022996228, step = 2201 (0.147 sec)\n",
            "INFO:tensorflow:global_step/sec: 625.391\n",
            "INFO:tensorflow:loss = 0.021104507, step = 2301 (0.160 sec)\n",
            "INFO:tensorflow:global_step/sec: 702.574\n",
            "INFO:tensorflow:loss = 0.018845577, step = 2401 (0.140 sec)\n",
            "INFO:tensorflow:global_step/sec: 681.395\n",
            "INFO:tensorflow:loss = 0.016168756, step = 2501 (0.147 sec)\n",
            "INFO:tensorflow:global_step/sec: 693.35\n",
            "INFO:tensorflow:loss = 0.03396844, step = 2601 (0.147 sec)\n",
            "INFO:tensorflow:global_step/sec: 686.685\n",
            "INFO:tensorflow:loss = 0.016321404, step = 2701 (0.146 sec)\n",
            "INFO:tensorflow:global_step/sec: 675.313\n",
            "INFO:tensorflow:loss = 0.03565244, step = 2801 (0.146 sec)\n",
            "INFO:tensorflow:global_step/sec: 675.365\n",
            "INFO:tensorflow:loss = 0.012447847, step = 2901 (0.151 sec)\n",
            "INFO:tensorflow:global_step/sec: 573.399\n",
            "INFO:tensorflow:loss = 0.019218273, step = 3001 (0.171 sec)\n",
            "INFO:tensorflow:global_step/sec: 631.474\n",
            "INFO:tensorflow:loss = 0.19906147, step = 3101 (0.158 sec)\n",
            "INFO:tensorflow:global_step/sec: 654.171\n",
            "INFO:tensorflow:loss = 0.07832736, step = 3201 (0.155 sec)\n",
            "INFO:tensorflow:global_step/sec: 651.097\n",
            "INFO:tensorflow:loss = 0.43850136, step = 3301 (0.154 sec)\n",
            "INFO:tensorflow:global_step/sec: 620.851\n",
            "INFO:tensorflow:loss = 0.10297058, step = 3401 (0.160 sec)\n",
            "INFO:tensorflow:global_step/sec: 646.147\n",
            "INFO:tensorflow:loss = 2.0208702, step = 3501 (0.156 sec)\n",
            "INFO:tensorflow:global_step/sec: 622.894\n",
            "INFO:tensorflow:loss = 0.099897146, step = 3601 (0.157 sec)\n",
            "INFO:tensorflow:global_step/sec: 685.179\n",
            "INFO:tensorflow:loss = 0.040464517, step = 3701 (0.150 sec)\n",
            "INFO:tensorflow:global_step/sec: 626.868\n",
            "INFO:tensorflow:loss = 0.021466019, step = 3801 (0.157 sec)\n",
            "INFO:tensorflow:global_step/sec: 622.032\n",
            "INFO:tensorflow:loss = 0.01751785, step = 3901 (0.162 sec)\n",
            "INFO:tensorflow:global_step/sec: 662.136\n",
            "INFO:tensorflow:loss = 0.0113694845, step = 4001 (0.150 sec)\n",
            "INFO:tensorflow:global_step/sec: 691.094\n",
            "INFO:tensorflow:loss = 0.06250296, step = 4101 (0.142 sec)\n",
            "INFO:tensorflow:global_step/sec: 668.637\n",
            "INFO:tensorflow:loss = 0.056450117, step = 4201 (0.152 sec)\n",
            "INFO:tensorflow:global_step/sec: 652.546\n",
            "INFO:tensorflow:loss = 0.01636467, step = 4301 (0.151 sec)\n",
            "INFO:tensorflow:global_step/sec: 703.426\n",
            "INFO:tensorflow:loss = 0.09153962, step = 4401 (0.142 sec)\n",
            "INFO:tensorflow:global_step/sec: 654.21\n",
            "INFO:tensorflow:loss = 0.062744506, step = 4501 (0.156 sec)\n",
            "INFO:tensorflow:global_step/sec: 637.835\n",
            "INFO:tensorflow:loss = 0.009294365, step = 4601 (0.158 sec)\n",
            "INFO:tensorflow:global_step/sec: 679.616\n",
            "INFO:tensorflow:loss = 0.008363236, step = 4701 (0.144 sec)\n",
            "INFO:tensorflow:global_step/sec: 656.082\n",
            "INFO:tensorflow:loss = 0.038609542, step = 4801 (0.152 sec)\n",
            "INFO:tensorflow:global_step/sec: 588.349\n",
            "INFO:tensorflow:loss = 0.034549445, step = 4901 (0.173 sec)\n",
            "INFO:tensorflow:global_step/sec: 681.78\n",
            "INFO:tensorflow:loss = 0.009096384, step = 5001 (0.144 sec)\n",
            "INFO:tensorflow:global_step/sec: 693.82\n",
            "INFO:tensorflow:loss = 0.016108226, step = 5101 (0.144 sec)\n",
            "INFO:tensorflow:global_step/sec: 664.091\n",
            "INFO:tensorflow:loss = 0.02268083, step = 5201 (0.151 sec)\n",
            "INFO:tensorflow:global_step/sec: 687.905\n",
            "INFO:tensorflow:loss = 0.041903045, step = 5301 (0.145 sec)\n",
            "INFO:tensorflow:global_step/sec: 632.735\n",
            "INFO:tensorflow:loss = 0.0096551515, step = 5401 (0.161 sec)\n",
            "INFO:tensorflow:global_step/sec: 671.865\n",
            "INFO:tensorflow:loss = 0.04397909, step = 5501 (0.149 sec)\n",
            "INFO:tensorflow:global_step/sec: 653.351\n",
            "INFO:tensorflow:loss = 0.05141736, step = 5601 (0.151 sec)\n",
            "INFO:tensorflow:global_step/sec: 654.175\n",
            "INFO:tensorflow:loss = 0.096881345, step = 5701 (0.152 sec)\n",
            "INFO:tensorflow:global_step/sec: 642.043\n",
            "INFO:tensorflow:loss = 0.08817308, step = 5801 (0.156 sec)\n",
            "INFO:tensorflow:global_step/sec: 677.223\n",
            "INFO:tensorflow:loss = 0.08522619, step = 5901 (0.150 sec)\n",
            "INFO:tensorflow:global_step/sec: 669.714\n",
            "INFO:tensorflow:loss = 0.034480516, step = 6001 (0.147 sec)\n",
            "INFO:tensorflow:global_step/sec: 662.979\n",
            "INFO:tensorflow:loss = 0.028396128, step = 6101 (0.150 sec)\n",
            "INFO:tensorflow:global_step/sec: 679.292\n",
            "INFO:tensorflow:loss = 0.16771163, step = 6201 (0.149 sec)\n",
            "INFO:tensorflow:global_step/sec: 636.376\n",
            "INFO:tensorflow:loss = 0.011509922, step = 6301 (0.157 sec)\n",
            "INFO:tensorflow:global_step/sec: 646.92\n",
            "INFO:tensorflow:loss = 0.032051653, step = 6401 (0.155 sec)\n",
            "INFO:tensorflow:global_step/sec: 669.992\n",
            "INFO:tensorflow:loss = 0.02687551, step = 6501 (0.147 sec)\n",
            "INFO:tensorflow:global_step/sec: 674.936\n",
            "INFO:tensorflow:loss = 0.040792964, step = 6601 (0.151 sec)\n",
            "INFO:tensorflow:global_step/sec: 662.129\n",
            "INFO:tensorflow:loss = 0.025740141, step = 6701 (0.149 sec)\n",
            "INFO:tensorflow:global_step/sec: 689.184\n",
            "INFO:tensorflow:loss = 0.008909527, step = 6801 (0.145 sec)\n",
            "INFO:tensorflow:global_step/sec: 672.861\n",
            "INFO:tensorflow:loss = 0.013027454, step = 6901 (0.150 sec)\n",
            "INFO:tensorflow:global_step/sec: 644.09\n",
            "INFO:tensorflow:loss = 0.010975149, step = 7001 (0.156 sec)\n",
            "INFO:tensorflow:global_step/sec: 686.061\n",
            "INFO:tensorflow:loss = 0.11686725, step = 7101 (0.145 sec)\n",
            "INFO:tensorflow:global_step/sec: 681.22\n",
            "INFO:tensorflow:loss = 0.07188432, step = 7201 (0.147 sec)\n",
            "INFO:tensorflow:global_step/sec: 646.202\n",
            "INFO:tensorflow:loss = 0.04829692, step = 7301 (0.152 sec)\n",
            "INFO:tensorflow:global_step/sec: 665.783\n",
            "INFO:tensorflow:loss = 0.03624341, step = 7401 (0.150 sec)\n",
            "INFO:tensorflow:global_step/sec: 692.953\n",
            "INFO:tensorflow:loss = 0.05712341, step = 7501 (0.145 sec)\n",
            "INFO:tensorflow:global_step/sec: 663.656\n",
            "INFO:tensorflow:loss = 0.016862756, step = 7601 (0.152 sec)\n",
            "INFO:tensorflow:global_step/sec: 674.482\n",
            "INFO:tensorflow:loss = 0.055314325, step = 7701 (0.149 sec)\n",
            "INFO:tensorflow:global_step/sec: 685.25\n",
            "INFO:tensorflow:loss = 0.05720079, step = 7801 (0.146 sec)\n",
            "INFO:tensorflow:global_step/sec: 663.44\n",
            "INFO:tensorflow:loss = 0.007392976, step = 7901 (0.151 sec)\n",
            "INFO:tensorflow:global_step/sec: 691.966\n",
            "INFO:tensorflow:loss = 0.010943511, step = 8001 (0.141 sec)\n",
            "INFO:tensorflow:global_step/sec: 709.13\n",
            "INFO:tensorflow:loss = 0.017489782, step = 8101 (0.141 sec)\n",
            "INFO:tensorflow:global_step/sec: 715.162\n",
            "INFO:tensorflow:loss = 0.009407414, step = 8201 (0.143 sec)\n",
            "INFO:tensorflow:global_step/sec: 654.399\n",
            "INFO:tensorflow:loss = 0.010448948, step = 8301 (0.152 sec)\n",
            "INFO:tensorflow:global_step/sec: 686.976\n",
            "INFO:tensorflow:loss = 0.012460296, step = 8401 (0.144 sec)\n",
            "INFO:tensorflow:global_step/sec: 644.403\n",
            "INFO:tensorflow:loss = 0.02681933, step = 8501 (0.155 sec)\n",
            "INFO:tensorflow:global_step/sec: 678.865\n",
            "INFO:tensorflow:loss = 0.015879106, step = 8601 (0.150 sec)\n",
            "INFO:tensorflow:global_step/sec: 699.34\n",
            "INFO:tensorflow:loss = 0.010895157, step = 8701 (0.143 sec)\n",
            "INFO:tensorflow:global_step/sec: 671.764\n",
            "INFO:tensorflow:loss = 0.025484517, step = 8801 (0.148 sec)\n",
            "INFO:tensorflow:global_step/sec: 698.971\n",
            "INFO:tensorflow:loss = 0.029615466, step = 8901 (0.143 sec)\n",
            "INFO:tensorflow:global_step/sec: 660.089\n",
            "INFO:tensorflow:loss = 0.011814458, step = 9001 (0.150 sec)\n",
            "INFO:tensorflow:global_step/sec: 650.2\n",
            "INFO:tensorflow:loss = 0.04133305, step = 9101 (0.155 sec)\n",
            "INFO:tensorflow:global_step/sec: 658.284\n",
            "INFO:tensorflow:loss = 0.010886434, step = 9201 (0.152 sec)\n",
            "INFO:tensorflow:global_step/sec: 662.678\n",
            "INFO:tensorflow:loss = 0.017271321, step = 9301 (0.152 sec)\n",
            "INFO:tensorflow:global_step/sec: 656.656\n",
            "INFO:tensorflow:loss = 0.02901188, step = 9401 (0.152 sec)\n",
            "INFO:tensorflow:global_step/sec: 687.52\n",
            "INFO:tensorflow:loss = 0.017879885, step = 9501 (0.143 sec)\n",
            "INFO:tensorflow:global_step/sec: 690.752\n",
            "INFO:tensorflow:loss = 0.032610748, step = 9601 (0.147 sec)\n",
            "INFO:tensorflow:global_step/sec: 621.594\n",
            "INFO:tensorflow:loss = 0.009749215, step = 9701 (0.158 sec)\n",
            "INFO:tensorflow:global_step/sec: 687.067\n",
            "INFO:tensorflow:loss = 0.009241242, step = 9801 (0.147 sec)\n",
            "INFO:tensorflow:global_step/sec: 649.547\n",
            "INFO:tensorflow:loss = 0.008830942, step = 9901 (0.155 sec)\n",
            "INFO:tensorflow:Saving checkpoints for 10000 into /tmp/DNN_regression_trained_model/model.ckpt.\n",
            "INFO:tensorflow:Loss for final step: 0.023877053.\n",
            "WARNING:tensorflow:float64 is not supported by many models, consider casting to float32.\n",
            "INFO:tensorflow:Graph was finalized.\n",
            "INFO:tensorflow:Restoring parameters from /tmp/DNN_regression_trained_model/model.ckpt-10000\n",
            "INFO:tensorflow:Running local_init_op.\n",
            "INFO:tensorflow:Done running local_init_op.\n",
            "DNNRegression has RMSE of 0.1638112967636671\n",
            "Just using average = 0.30959324155194007 has RMSE of 0.18391582856834243\n"
          ],
          "name": "stdout"
        }
      ]
    },
    {
      "cell_type": "markdown",
      "metadata": {
        "id": "5SIqJ7cebWrd"
      },
      "source": [
        "The DNN is slightly more useful at making predictions using 2020's data in that it is less likely to return negative values, but in this particular case, the seasonality is lost."
      ]
    },
    {
      "cell_type": "code",
      "metadata": {
        "colab": {
          "base_uri": "https://localhost:8080/"
        },
        "id": "WfuwQvmTKTik",
        "outputId": "9e6075cd-01f7-4af7-f6ba-ad6755650ffc"
      },
      "source": [
        "#\"Apr\",\"Aug\",\"Dec\",\"Jul\",\"Jun\",\"Mar\",\"May\",\"Nov\",\"Oct\",\"Sep\",\"Fri\",\"Mon\",\"Sat\",\"Sun\",\"Thu\",\"Tue\",\"Wed\",\"year\",\"temp\",\"dewp\",\"NUM_COLLISIONS\"\n",
        "input = pd.DataFrame.from_dict(data = \n",
        "\t\t\t\t{\n",
        "         'Apr' : [0,0,0],\n",
        "         'Aug' : [0,0,1],\n",
        "         'Jan' : [0,0,0],\n",
        "         'Jul' : [0,0,0],\n",
        "         'Jun' : [0,0,0],\n",
        "         'Mar' : [1,0,0],\n",
        "         'May' : [0,1,0],\n",
        "         'Feb' : [0,0,0],\n",
        "         'Oct' : [0,0,0],\n",
        "         'Sep' : [0,0,0],\n",
        "         'Fri' : [0,0,0],\n",
        "         'Mon' : [1,1,1],\n",
        "         'Sat' : [0,0,0],\n",
        "         'Sun' : [0,0,0],\n",
        "         'Thu' : [0,0,0],\n",
        "         'Tue' : [0,0,0],\n",
        "         'Wed' : [0,0,0],\n",
        "         'year' : [2020,2020,2020],\n",
        "         'dewp' : [5.4, 16.9, 48.3],\n",
        "         'temp' : [8.9, 20.5, 54.0]\n",
        "        })\n",
        "\n",
        "estimator = tf.contrib.learn.SKCompat(tf.contrib.learn.DNNRegressor(model_dir='/tmp/DNN_regression_trained_model', hidden_units=[20,18,14], enable_centered_bias=False, feature_columns=tf.contrib.learn.infer_real_valued_columns_from_input(input.values)))\n",
        "\n",
        "preds = estimator.predict(x=input.values)\n",
        "\n",
        "predslistnorm = preds['scores']\n",
        "prednorm = format(str(predslistnorm))\n",
        "print(prednorm)"
      ],
      "execution_count": null,
      "outputs": [
        {
          "output_type": "stream",
          "text": [
            "WARNING:tensorflow:float64 is not supported by many models, consider casting to float32.\n",
            "INFO:tensorflow:Using default config.\n",
            "INFO:tensorflow:Using config: {'_task_type': None, '_task_id': 0, '_cluster_spec': <tensorflow.python.training.server_lib.ClusterSpec object at 0x7f9d9ee23cc0>, '_master': '', '_num_ps_replicas': 0, '_num_worker_replicas': 0, '_environment': 'local', '_is_chief': True, '_evaluation_master': '', '_train_distribute': None, '_eval_distribute': None, '_experimental_max_worker_delay_secs': None, '_device_fn': None, '_tf_config': gpu_options {\n",
            "  per_process_gpu_memory_fraction: 1.0\n",
            "}\n",
            ", '_tf_random_seed': None, '_save_summary_steps': 100, '_save_checkpoints_secs': 600, '_log_step_count_steps': 100, '_protocol': None, '_session_config': None, '_save_checkpoints_steps': None, '_keep_checkpoint_max': 5, '_keep_checkpoint_every_n_hours': 10000, '_model_dir': '/tmp/DNN_regression_trained_model', '_session_creation_timeout_secs': 7200}\n",
            "WARNING:tensorflow:float64 is not supported by many models, consider casting to float32.\n",
            "INFO:tensorflow:Graph was finalized.\n",
            "INFO:tensorflow:Restoring parameters from /tmp/DNN_regression_trained_model/model.ckpt-10000\n",
            "INFO:tensorflow:Running local_init_op.\n",
            "INFO:tensorflow:Done running local_init_op.\n",
            "[0.12006007 0.24709529 0.16652992]\n"
          ],
          "name": "stdout"
        }
      ]
    },
    {
      "cell_type": "markdown",
      "metadata": {
        "id": "IMG3GYKibsBa"
      },
      "source": [
        "As with two of the other models, the DNN makes more helpful predictions concerning the increase of collisions throughout the week, despite the narrower range of values it returns."
      ]
    },
    {
      "cell_type": "code",
      "metadata": {
        "colab": {
          "base_uri": "https://localhost:8080/"
        },
        "id": "fLJ568gvZyqE",
        "outputId": "c1f94629-0e77-4df6-9d0d-e567fe40998e"
      },
      "source": [
        "input = pd.DataFrame.from_dict(data = \r\n",
        "\t\t\t\t{\r\n",
        "         'Apr' : [0,0,0],\r\n",
        "         'Aug' : [0,0,0],\r\n",
        "         'Feb' : [0,0,0],\r\n",
        "         'Jan' : [1,1,1],\r\n",
        "         'Jul' : [0,0,0],\r\n",
        "         'Jun' : [0,0,0],\r\n",
        "         'Mar' : [0,0,0],\r\n",
        "         'May' : [0,0,0],\r\n",
        "         'Oct' : [0,0,0],\r\n",
        "         'Sep' : [0,0,0],\r\n",
        "         'Fri' : [0,0,1],\r\n",
        "         'Mon' : [0,1,0],\r\n",
        "         'Sat' : [0,0,0],\r\n",
        "         'Sun' : [1,0,0],\r\n",
        "         'Thu' : [0,0,0],\r\n",
        "         'Tue' : [0,0,0],\r\n",
        "         'Wed' : [0,0,0],\r\n",
        "         'year' : [2020,2020,2020],\r\n",
        "         'dewp' : [16.6, 8.9, 24.2],\r\n",
        "         'temp' : [28.1, 24.3, 30.4]\r\n",
        "        })\r\n",
        "\r\n",
        "estimator = tf.contrib.learn.SKCompat(tf.contrib.learn.DNNRegressor(model_dir='/tmp/DNN_regression_trained_model', hidden_units=[20,18,14], enable_centered_bias=False, feature_columns=tf.contrib.learn.infer_real_valued_columns_from_input(input.values)))\r\n",
        "\r\n",
        "preds = estimator.predict(x=input.values)\r\n",
        "\r\n",
        "predslistnorm = preds['scores']\r\n",
        "prednorm = format(str(predslistnorm))\r\n",
        "print(prednorm)"
      ],
      "execution_count": null,
      "outputs": [
        {
          "output_type": "stream",
          "text": [
            "WARNING:tensorflow:float64 is not supported by many models, consider casting to float32.\n",
            "INFO:tensorflow:Using default config.\n",
            "INFO:tensorflow:Using config: {'_task_type': None, '_task_id': 0, '_cluster_spec': <tensorflow.python.training.server_lib.ClusterSpec object at 0x7f9d9ee25828>, '_master': '', '_num_ps_replicas': 0, '_num_worker_replicas': 0, '_environment': 'local', '_is_chief': True, '_evaluation_master': '', '_train_distribute': None, '_eval_distribute': None, '_experimental_max_worker_delay_secs': None, '_device_fn': None, '_tf_config': gpu_options {\n",
            "  per_process_gpu_memory_fraction: 1.0\n",
            "}\n",
            ", '_tf_random_seed': None, '_save_summary_steps': 100, '_save_checkpoints_secs': 600, '_log_step_count_steps': 100, '_protocol': None, '_session_config': None, '_save_checkpoints_steps': None, '_keep_checkpoint_max': 5, '_keep_checkpoint_every_n_hours': 10000, '_model_dir': '/tmp/DNN_regression_trained_model', '_session_creation_timeout_secs': 7200}\n",
            "WARNING:tensorflow:float64 is not supported by many models, consider casting to float32.\n",
            "INFO:tensorflow:Graph was finalized.\n",
            "INFO:tensorflow:Restoring parameters from /tmp/DNN_regression_trained_model/model.ckpt-10000\n",
            "INFO:tensorflow:Running local_init_op.\n",
            "INFO:tensorflow:Done running local_init_op.\n",
            "[0.31430516 0.36806273 0.4493636 ]\n"
          ],
          "name": "stdout"
        }
      ]
    },
    {
      "cell_type": "markdown",
      "metadata": {
        "id": "2JO3zQh1yTpq"
      },
      "source": [
        "# Conclusions"
      ]
    },
    {
      "cell_type": "markdown",
      "metadata": {
        "id": "cYWCbFpZd2vK"
      },
      "source": [
        "As the scope of this short report is limited, it is clear there is room for further exploration concerning the effectiveness of these models. In most cases, and given further work on the subject, a linear regression model seems more beneficial for the emergency services of New York to accurately predict collision numbers in varying potential scenarios based on temperature and season, while the DNN's effectiveness lies mostly in predicting collisions based on day. Predicting external factors such as road closures or changes to traffic regulations is beyond the capabilities of such models due to the data they are based on. However, by providing four distinct models, it is hoped that the way these external factors affect seasonal or weekly patterns is clear, and that, with further exploration, predictions from these different scenarios could be used as tools to help optimise emergency staff more effectively."
      ]
    },
    {
      "cell_type": "markdown",
      "metadata": {
        "id": "-EOPGCcjyU6C"
      },
      "source": [
        "# References"
      ]
    },
    {
      "cell_type": "markdown",
      "metadata": {
        "id": "c5RR3U1kOxqM"
      },
      "source": [
        "Patterson, J. & Gibson, A. (2017) *Deep Learning: A Practitioner's Approach* California: O'Reilly Media.\r\n",
        "\r\n",
        "Paolucci, R. (2020) 'Linear Regression v.s. Neural Networks' *Towards Data Science* [online]. Available from: https://towardsdatascience.com/linear-regression-v-s-neural-networks-cd03b29386d4 [Accessed 8th December 2020]."
      ]
    }
  ]
}